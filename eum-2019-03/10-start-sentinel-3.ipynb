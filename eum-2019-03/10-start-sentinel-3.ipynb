{
 "cells": [
  {
   "cell_type": "markdown",
   "metadata": {},
   "source": [
    "# Sentinel 3 fun"
   ]
  },
  {
   "cell_type": "markdown",
   "metadata": {},
   "source": [
    "## Exercise 10.1: Reading the OLCI data\n",
    "Find out which reader to use from the satpy reader table on this page: https://satpy.readthedocs.io/en/latest/index.html\n",
    "\n",
    "Then create a True Color composite from it."
   ]
  },
  {
   "cell_type": "markdown",
   "metadata": {},
   "source": [
    "## Exercise 10.2: Reading the  SLSTR data\n",
    "Find out which reader to use from the satpy reader table on this page: https://satpy.readthedocs.io/en/latest/index.html\n",
    "\n",
    "Then create a Overview Sun composite from it."
   ]
  },
  {
   "cell_type": "markdown",
   "metadata": {},
   "source": [
    "## Exercise 10.3: Colorize\n",
    "Choose a nice colormap and colorize the SLSTR thermal channel at ~11µm"
   ]
  },
  {
   "cell_type": "markdown",
   "metadata": {},
   "source": [
    "## Exercise 10.4\n",
    "Combine the results exercices 1 and 3 to create a sandwich composite"
   ]
  }
 ],
 "metadata": {
  "kernelspec": {
   "display_name": "Python 3",
   "language": "python",
   "name": "python3"
  },
  "language_info": {
   "codemirror_mode": {
    "name": "ipython",
    "version": 3
   },
   "file_extension": ".py",
   "mimetype": "text/x-python",
   "name": "python",
   "nbconvert_exporter": "python",
   "pygments_lexer": "ipython3",
   "version": "3.6.3"
  }
 },
 "nbformat": 4,
 "nbformat_minor": 2
}
