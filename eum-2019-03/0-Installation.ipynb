{
 "cells": [
  {
   "cell_type": "markdown",
   "metadata": {},
   "source": [
    "# Laptop configuration for the training\n",
    "\n",
    "The training will be conducted using X2Go-servers available in the TCE. Instructions on how to install X2Go on your laptop can be found in DM Tool document `EUM/RSP/VWG/18/1018393`.\n",
    "\n",
    "1. You should have X2Go already installed on your laptop, so go ahead and start it up using your TCE credentials\n",
    "2. Open a new console from the Start menu -> System Tools -> Konsole (font size can be made bigger with Ctrl +)\n",
    "\n",
    "\n",
    "## Installation and use of `conda`\n",
    "\n",
    "### Installation of `miniconda3`\n",
    "\n",
    "Type the following commands to the terminal.\n",
    "\n",
    "1. `wget https://repo.continuum.io/miniconda/Miniconda3-latest-Linux-x86_64.sh -O ~/miniconda.sh`\n",
    "2. `bash ~/miniconda.sh -b -p $HOME/miniconda3`\n",
    "3. `echo 'export PATH=\"$PATH:$HOME/miniconda3/bin\"' >> ~/.profile.local`\n",
    "4. `source ~/.profile.local`\n",
    "\n",
    "### Copy a ready-made `conda` environment for the training\n",
    "\n",
    "A ready made environment with all the necessary installations is available in `/tcenas/scratch/pytroll`. The name of the copied environment can be chosen freely, for the sake of simplicity we will use name `troll`for this training. Copying may take a few minutes...\n",
    "\n",
    "1. `cd ~/miniconda3/envs`\n",
    "2. `cp -R /tcenas/scratch/pytroll/troll_env ./troll`\n",
    "\n",
    "### Activate the `troll` environment\n",
    "\n",
    "1. `source activate troll`\n",
    "\n",
    "You should have an indication in your terminal prompt that the conda environment is active, e.g.:\n",
    "`(troll) joro@x2g13:~ $`. When the `conda` environment is active, all the installations after this point will go only to this specific environment. The environment can be deactivated with `source deactivate`-command.\n",
    "\n",
    "\n",
    "## Using `jupyter`-notebook\n",
    "\n",
    "### Copy the exercises\n",
    "\n",
    "1. `mkdir ~/pytroll_training`\n",
    "2. `cp /tcenas/scratch/pytroll/exercises/* ~/pytroll_training`\n",
    "3. `cd ~/pytroll_training`\n",
    "\n",
    "### Starting headless `jupyter notebook` server\n",
    "In order to get the best performance for the exercises, we'll start `jupyter notebook` with a headless server, i.e., we run the notebook on the X2Go-server, but connect to it from your own laptops.\n",
    "\n",
    "Find out the IP-address of your server, and start `jupyter notebook` with `--ip` and `--no-browser` options\n",
    "1. `/sbin/ifconfig`\n",
    "2. `jupyter notebook --ip=<ip_address> --no-browser`\n",
    "\n",
    "Copy and paste the given URL to your laptops browser\n",
    "\n",
    "## Information about conda installations\n",
    "\n",
    "Though `conda` installations are not necessary for this training, any missing modules and packages can be installed to your environment. Usually it's best to google the module, e.g., \"conda install pycoast\" and follow the instructions. In case of `pycoast`, the installation would be\n",
    "\n",
    "1. `conda install -c conda-forge pycoast`\n"
   ]
  },
  {
   "cell_type": "code",
   "execution_count": null,
   "metadata": {},
   "outputs": [],
   "source": [
    "import satpy\n",
    "print (satpy.__file__)"
   ]
  }
 ],
 "metadata": {
  "kernelspec": {
   "display_name": "Python 3",
   "language": "python",
   "name": "python3"
  },
  "language_info": {
   "codemirror_mode": {
    "name": "ipython",
    "version": 3
   },
   "file_extension": ".py",
   "mimetype": "text/x-python",
   "name": "python",
   "nbconvert_exporter": "python",
   "pygments_lexer": "ipython3",
   "version": "3.7.2"
  }
 },
 "nbformat": 4,
 "nbformat_minor": 2
}
