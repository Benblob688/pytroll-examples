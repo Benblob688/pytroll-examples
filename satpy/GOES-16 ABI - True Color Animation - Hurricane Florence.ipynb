{
 "cells": [
  {
   "cell_type": "markdown",
   "metadata": {},
   "source": [
    "Dependencies | Version\n",
    "--- | ---\n",
    "SatPy | 0.9.3\n",
    "PyResample | 1.10.1\n",
    "PySpectral | 0.8.2\n",
    "Trollimage | 1.5.7\n",
    "PyKdtree | 1.3.1\n",
    "XArray | 0.10\n",
    "Dask | 0.18.2\n",
    "ImageIO | 2.3.0\n",
    "ffmpeg | 3.4\n",
    "\n",
    "\n",
    "# GOES-16 ABI - True Color Animation - Hurricane Florence\n",
    "\n",
    "\n",
    "\n",
    "This example shows how to take multiple time steps of ABI data and combine them in to a single mp4 movie file as an animation. The example uses 100 frames of mesoscale images from the GOES-16 ABI instrument on September 11th, 2018 from 1300Z to 1440Z with one image every minute. The \"%%time\" magic command is used in jupyter notebook to time the entire cell's execution. This example took about 8 minutes and 30 seconds on a 2015 macbook using 8 dask threaded workers.\n",
    "\n",
    "The movie produced has been hosted on twitter: https://twitter.com/PyTrollOrg/status/1039555399433834497\n",
    "\n",
    "Full resolution video: https://www.ssec.wisc.edu/~davidh/satpy/true_color_20180911_130021.mp4\n",
    "\n",
    "The frames in the movie are 500m resolution true color images with solar zenith and rayleigh scattering corrections applied. A ratio sharpening technique was also used to bring out more detail from the lower resolution input bands. All of this is pre-configured for the ABI 'true_color' composite in satpy and is done from python."
   ]
  },
  {
   "cell_type": "code",
   "execution_count": 1,
   "metadata": {},
   "outputs": [
    {
     "name": "stdout",
     "output_type": "stream",
     "text": [
      "Number of Scenes:  100\n"
     ]
    },
    {
     "name": "stderr",
     "output_type": "stream",
     "text": [
      "Platform file /Users/davidh/repos/git/satpy/satpy/etc/platforms.txt not found.\n",
      "/Users/davidh/anaconda/envs/polar2grid_py36/lib/python3.6/site-packages/dask/local.py:255: RuntimeWarning: invalid value encountered in log10\n",
      "  return func(*args2)\n",
      "/Users/davidh/anaconda/envs/polar2grid_py36/lib/python3.6/site-packages/dask/local.py:255: RuntimeWarning: invalid value encountered in log10\n",
      "  return func(*args2)\n"
     ]
    },
    {
     "name": "stdout",
     "output_type": "stream",
     "text": [
      "CPU times: user 13min 53s, sys: 6min 2s, total: 19min 55s\n",
      "Wall time: 8min 29s\n"
     ]
    }
   ],
   "source": [
    "%%time\n",
    "import os\n",
    "from satpy import Scene\n",
    "from glob import glob\n",
    "from satpy.multiscene import MultiScene\n",
    "\n",
    "BASE_DIR = '/data/data/abi/20180911_florence'\n",
    "all_filenames = [glob(fn.replace('C01', 'C0[123]*')[:len(BASE_DIR) + 50] + '*.nc') for fn in sorted(glob(os.path.join(BASE_DIR, 'OR*-RadM1-*C01*.nc')))]\n",
    "scenes = [Scene(reader='abi_l1b', filenames=filenames) for filenames in all_filenames]\n",
    "print(\"Number of Scenes: \", len(scenes))\n",
    "\n",
    "mscn = MultiScene(scenes)\n",
    "mscn.load(['true_color'])\n",
    "new_mscn = mscn.resample(resampler='native')\n",
    "new_mscn.save_animation('/tmp/{name}_{start_time:%Y%m%d_%H%M%S}.mp4', fps=5)"
   ]
  },
  {
   "cell_type": "code",
   "execution_count": null,
   "metadata": {},
   "outputs": [],
   "source": []
  }
 ],
 "metadata": {
  "kernelspec": {
   "display_name": "Python 3",
   "language": "python",
   "name": "python3"
  },
  "language_info": {
   "codemirror_mode": {
    "name": "ipython",
    "version": 3
   },
   "file_extension": ".py",
   "mimetype": "text/x-python",
   "name": "python",
   "nbconvert_exporter": "python",
   "pygments_lexer": "ipython3",
   "version": "3.6.4"
  }
 },
 "nbformat": 4,
 "nbformat_minor": 2
}
