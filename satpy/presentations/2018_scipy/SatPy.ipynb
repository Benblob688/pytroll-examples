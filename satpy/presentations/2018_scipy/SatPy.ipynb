{
 "cells": [
  {
   "cell_type": "markdown",
   "metadata": {
    "slideshow": {
     "slide_type": "notes"
    }
   },
   "source": [
    "To convert and serve this notebook as a reveal.js slideshow:\n",
    "```python\n",
    "jupyter nbconvert SatPy.ipynb --to slides --post serve --SlidesExporter.reveal_theme=solarized --SlidesExporter.reveal_scroll=True --SlidesExporter.reveal_transition=none\n",
    "```"
   ]
  },
  {
   "cell_type": "markdown",
   "metadata": {
    "slideshow": {
     "slide_type": "slide"
    }
   },
   "source": [
    "# SatPy\n",
    "## A Python Library for Weather Satellite Imagery\n",
    "\n",
    "***\n",
    "\n",
    "By David Hoese <sub>*pronounced Haze</sub>"
   ]
  },
  {
   "cell_type": "markdown",
   "metadata": {
    "slideshow": {
     "slide_type": "subslide"
    }
   },
   "source": [
    "# Coauthors\n",
    "\n",
    "* Martin Raspaud\n",
    "* Adam Dybbroe\n",
    "* Panu Lahtinen\n",
    "\n",
    "## Thank you\n",
    "\n",
    "* PyTroll Users\n",
    "* Kathy Strabala"
   ]
  },
  {
   "cell_type": "markdown",
   "metadata": {
    "slideshow": {
     "slide_type": "subslide"
    }
   },
   "source": [
    "# About Me\n",
    "\n",
    "* Github: djhoese\n",
    "* Twitter: djhoese\n",
    "* Software Developer @ Space Science and Engineering Center (SSEC) - University of Wisconsin - Madison\n",
    "* Community Satellite Processing Package (CSPP) Team\n",
    "* Polar2Grid/Geo2Grid\n",
    "* Satellite Information Familiarization Tool (SIFT)\n",
    "* PyTroll/SatPy Maintainer\n",
    "* VisPy Maintainer"
   ]
  },
  {
   "cell_type": "markdown",
   "metadata": {
    "slideshow": {
     "slide_type": "slide"
    }
   },
   "source": [
    "# Weather Satellite Data\n",
    "\n",
    "* Instruments:\n",
    "  * Imagers and sounders\n",
    "  * Visible, infrared, near-infrared\n",
    "  * Land, water, atmosphere\n",
    "  * Geostationary (full disk and regions)\n",
    "  * Polar-orbiting\n",
    "  * Direct broadcast versus archive\n",
    "* Use Cases:\n",
    "  * Forecasting\n",
    "  * Forecast models\n",
    "  * Research/Analysis\n",
    "  * Algorithm/Product development\n",
    "  * Pretty Pictures"
   ]
  },
  {
   "cell_type": "code",
   "execution_count": 1,
   "metadata": {
    "slideshow": {
     "slide_type": "skip"
    }
   },
   "outputs": [
    {
     "name": "stderr",
     "output_type": "stream",
     "text": [
      "Rasterio 1.0+ required for setting colorinterp\n",
      "Rasterio 1.0+ required for setting colorinterp\n",
      "Rasterio 1.0+ required for setting colorinterp\n",
      "Rasterio 1.0+ required for setting colorinterp\n",
      "Rasterio 1.0+ required for setting colorinterp\n",
      "Rasterio 1.0+ required for setting colorinterp\n",
      "Rasterio 1.0+ required for setting colorinterp\n",
      "Rasterio 1.0+ required for setting colorinterp\n",
      "Rasterio 1.0+ required for setting colorinterp\n",
      "Rasterio 1.0+ required for setting colorinterp\n",
      "Rasterio 1.0+ required for setting colorinterp\n",
      "Rasterio 1.0+ required for setting colorinterp\n",
      "Rasterio 1.0+ required for setting colorinterp\n",
      "Rasterio 1.0+ required for setting colorinterp\n",
      "Rasterio 1.0+ required for setting colorinterp\n",
      "Rasterio 1.0+ required for setting colorinterp\n"
     ]
    },
    {
     "name": "stdout",
     "output_type": "stream",
     "text": [
      "montage: Unknown field with tag 33550 (0x830e) encountered. `TIFFReadDirectory' @ warning/tiff.c/TIFFWarnings/912.\r\n",
      "montage: Unknown field with tag 33922 (0x8482) encountered. `TIFFReadDirectory' @ warning/tiff.c/TIFFWarnings/912.\r\n",
      "montage: Unknown field with tag 34735 (0x87af) encountered. `TIFFReadDirectory' @ warning/tiff.c/TIFFWarnings/912.\r\n",
      "montage: Unknown field with tag 34736 (0x87b0) encountered. `TIFFReadDirectory' @ warning/tiff.c/TIFFWarnings/912.\r\n",
      "montage: Unknown field with tag 34737 (0x87b1) encountered. `TIFFReadDirectory' @ warning/tiff.c/TIFFWarnings/912.\r\n",
      "montage: Unknown field with tag 42112 (0xa480) encountered. `TIFFReadDirectory' @ warning/tiff.c/TIFFWarnings/912.\r\n",
      "montage: Unknown field with tag 33550 (0x830e) encountered. `TIFFReadDirectory' @ warning/tiff.c/TIFFWarnings/912.\r\n",
      "montage: Unknown field with tag 33922 (0x8482) encountered. `TIFFReadDirectory' @ warning/tiff.c/TIFFWarnings/912.\r\n",
      "montage: Unknown field with tag 34735 (0x87af) encountered. `TIFFReadDirectory' @ warning/tiff.c/TIFFWarnings/912.\r\n",
      "montage: Unknown field with tag 34736 (0x87b0) encountered. `TIFFReadDirectory' @ warning/tiff.c/TIFFWarnings/912.\r\n",
      "montage: Unknown field with tag 34737 (0x87b1) encountered. `TIFFReadDirectory' @ warning/tiff.c/TIFFWarnings/912.\r\n",
      "montage: Unknown field with tag 42112 (0xa480) encountered. `TIFFReadDirectory' @ warning/tiff.c/TIFFWarnings/912.\r\n",
      "montage: Unknown field with tag 33550 (0x830e) encountered. `TIFFReadDirectory' @ warning/tiff.c/TIFFWarnings/912.\r\n",
      "montage: Unknown field with tag 33922 (0x8482) encountered. `TIFFReadDirectory' @ warning/tiff.c/TIFFWarnings/912.\r\n",
      "montage: Unknown field with tag 34735 (0x87af) encountered. `TIFFReadDirectory' @ warning/tiff.c/TIFFWarnings/912.\r\n",
      "montage: Unknown field with tag 34736 (0x87b0) encountered. `TIFFReadDirectory' @ warning/tiff.c/TIFFWarnings/912.\r\n",
      "montage: Unknown field with tag 34737 (0x87b1) encountered. `TIFFReadDirectory' @ warning/tiff.c/TIFFWarnings/912.\r\n",
      "montage: Unknown field with tag 42112 (0xa480) encountered. `TIFFReadDirectory' @ warning/tiff.c/TIFFWarnings/912.\r\n",
      "montage: Unknown field with tag 33550 (0x830e) encountered. `TIFFReadDirectory' @ warning/tiff.c/TIFFWarnings/912.\r\n",
      "montage: Unknown field with tag 33922 (0x8482) encountered. `TIFFReadDirectory' @ warning/tiff.c/TIFFWarnings/912.\r\n",
      "montage: Unknown field with tag 34735 (0x87af) encountered. `TIFFReadDirectory' @ warning/tiff.c/TIFFWarnings/912.\r\n",
      "montage: Unknown field with tag 34736 (0x87b0) encountered. `TIFFReadDirectory' @ warning/tiff.c/TIFFWarnings/912.\r\n",
      "montage: Unknown field with tag 34737 (0x87b1) encountered. `TIFFReadDirectory' @ warning/tiff.c/TIFFWarnings/912.\r\n",
      "montage: Unknown field with tag 42112 (0xa480) encountered. `TIFFReadDirectory' @ warning/tiff.c/TIFFWarnings/912.\r\n",
      "montage: Unknown field with tag 33550 (0x830e) encountered. `TIFFReadDirectory' @ warning/tiff.c/TIFFWarnings/912.\r\n",
      "montage: Unknown field with tag 33922 (0x8482) encountered. `TIFFReadDirectory' @ warning/tiff.c/TIFFWarnings/912.\r\n",
      "montage: Unknown field with tag 34735 (0x87af) encountered. `TIFFReadDirectory' @ warning/tiff.c/TIFFWarnings/912.\r\n",
      "montage: Unknown field with tag 34736 (0x87b0) encountered. `TIFFReadDirectory' @ warning/tiff.c/TIFFWarnings/912.\r\n",
      "montage: Unknown field with tag 34737 (0x87b1) encountered. `TIFFReadDirectory' @ warning/tiff.c/TIFFWarnings/912.\r\n",
      "montage: Unknown field with tag 42112 (0xa480) encountered. `TIFFReadDirectory' @ warning/tiff.c/TIFFWarnings/912.\r\n",
      "montage: Unknown field with tag 33550 (0x830e) encountered. `TIFFReadDirectory' @ warning/tiff.c/TIFFWarnings/912.\r\n",
      "montage: Unknown field with tag 33922 (0x8482) encountered. `TIFFReadDirectory' @ warning/tiff.c/TIFFWarnings/912.\r\n",
      "montage: Unknown field with tag 34735 (0x87af) encountered. `TIFFReadDirectory' @ warning/tiff.c/TIFFWarnings/912.\r\n",
      "montage: Unknown field with tag 34736 (0x87b0) encountered. `TIFFReadDirectory' @ warning/tiff.c/TIFFWarnings/912.\r\n",
      "montage: Unknown field with tag 34737 (0x87b1) encountered. `TIFFReadDirectory' @ warning/tiff.c/TIFFWarnings/912.\r\n",
      "montage: Unknown field with tag 42112 (0xa480) encountered. `TIFFReadDirectory' @ warning/tiff.c/TIFFWarnings/912.\r\n",
      "montage: Unknown field with tag 33550 (0x830e) encountered. `TIFFReadDirectory' @ warning/tiff.c/TIFFWarnings/912.\r\n",
      "montage: Unknown field with tag 33922 (0x8482) encountered. `TIFFReadDirectory' @ warning/tiff.c/TIFFWarnings/912.\r\n",
      "montage: Unknown field with tag 34735 (0x87af) encountered. `TIFFReadDirectory' @ warning/tiff.c/TIFFWarnings/912.\r\n",
      "montage: Unknown field with tag 34736 (0x87b0) encountered. `TIFFReadDirectory' @ warning/tiff.c/TIFFWarnings/912.\r\n",
      "montage: Unknown field with tag 34737 (0x87b1) encountered. `TIFFReadDirectory' @ warning/tiff.c/TIFFWarnings/912.\r\n",
      "montage: Unknown field with tag 42112 (0xa480) encountered. `TIFFReadDirectory' @ warning/tiff.c/TIFFWarnings/912.\r\n",
      "montage: Unknown field with tag 33550 (0x830e) encountered. `TIFFReadDirectory' @ warning/tiff.c/TIFFWarnings/912.\r\n",
      "montage: Unknown field with tag 33922 (0x8482) encountered. `TIFFReadDirectory' @ warning/tiff.c/TIFFWarnings/912.\r\n",
      "montage: Unknown field with tag 34735 (0x87af) encountered. `TIFFReadDirectory' @ warning/tiff.c/TIFFWarnings/912.\r\n",
      "montage: Unknown field with tag 34736 (0x87b0) encountered. `TIFFReadDirectory' @ warning/tiff.c/TIFFWarnings/912.\r\n",
      "montage: Unknown field with tag 34737 (0x87b1) encountered. `TIFFReadDirectory' @ warning/tiff.c/TIFFWarnings/912.\r\n",
      "montage: Unknown field with tag 42112 (0xa480) encountered. `TIFFReadDirectory' @ warning/tiff.c/TIFFWarnings/912.\r\n",
      "montage: Unknown field with tag 33550 (0x830e) encountered. `TIFFReadDirectory' @ warning/tiff.c/TIFFWarnings/912.\r\n",
      "montage: Unknown field with tag 33922 (0x8482) encountered. `TIFFReadDirectory' @ warning/tiff.c/TIFFWarnings/912.\r\n",
      "montage: Unknown field with tag 34735 (0x87af) encountered. `TIFFReadDirectory' @ warning/tiff.c/TIFFWarnings/912.\r\n",
      "montage: Unknown field with tag 34736 (0x87b0) encountered. `TIFFReadDirectory' @ warning/tiff.c/TIFFWarnings/912.\r\n",
      "montage: Unknown field with tag 34737 (0x87b1) encountered. `TIFFReadDirectory' @ warning/tiff.c/TIFFWarnings/912.\r\n",
      "montage: Unknown field with tag 42112 (0xa480) encountered. `TIFFReadDirectory' @ warning/tiff.c/TIFFWarnings/912.\r\n",
      "montage: Unknown field with tag 33550 (0x830e) encountered. `TIFFReadDirectory' @ warning/tiff.c/TIFFWarnings/912.\r\n",
      "montage: Unknown field with tag 33922 (0x8482) encountered. `TIFFReadDirectory' @ warning/tiff.c/TIFFWarnings/912.\r\n",
      "montage: Unknown field with tag 34735 (0x87af) encountered. `TIFFReadDirectory' @ warning/tiff.c/TIFFWarnings/912.\r\n",
      "montage: Unknown field with tag 34736 (0x87b0) encountered. `TIFFReadDirectory' @ warning/tiff.c/TIFFWarnings/912.\r\n",
      "montage: Unknown field with tag 34737 (0x87b1) encountered. `TIFFReadDirectory' @ warning/tiff.c/TIFFWarnings/912.\r\n",
      "montage: Unknown field with tag 42112 (0xa480) encountered. `TIFFReadDirectory' @ warning/tiff.c/TIFFWarnings/912.\r\n",
      "montage: Unknown field with tag 33550 (0x830e) encountered. `TIFFReadDirectory' @ warning/tiff.c/TIFFWarnings/912.\r\n",
      "montage: Unknown field with tag 33922 (0x8482) encountered. `TIFFReadDirectory' @ warning/tiff.c/TIFFWarnings/912.\r\n",
      "montage: Unknown field with tag 34735 (0x87af) encountered. `TIFFReadDirectory' @ warning/tiff.c/TIFFWarnings/912.\r\n",
      "montage: Unknown field with tag 34736 (0x87b0) encountered. `TIFFReadDirectory' @ warning/tiff.c/TIFFWarnings/912.\r\n",
      "montage: Unknown field with tag 34737 (0x87b1) encountered. `TIFFReadDirectory' @ warning/tiff.c/TIFFWarnings/912.\r\n",
      "montage: Unknown field with tag 42112 (0xa480) encountered. `TIFFReadDirectory' @ warning/tiff.c/TIFFWarnings/912.\r\n",
      "montage: Unknown field with tag 33550 (0x830e) encountered. `TIFFReadDirectory' @ warning/tiff.c/TIFFWarnings/912.\r\n",
      "montage: Unknown field with tag 33922 (0x8482) encountered. `TIFFReadDirectory' @ warning/tiff.c/TIFFWarnings/912.\r\n",
      "montage: Unknown field with tag 34735 (0x87af) encountered. `TIFFReadDirectory' @ warning/tiff.c/TIFFWarnings/912.\r\n",
      "montage: Unknown field with tag 34736 (0x87b0) encountered. `TIFFReadDirectory' @ warning/tiff.c/TIFFWarnings/912.\r\n",
      "montage: Unknown field with tag 34737 (0x87b1) encountered. `TIFFReadDirectory' @ warning/tiff.c/TIFFWarnings/912.\r\n",
      "montage: Unknown field with tag 42112 (0xa480) encountered. `TIFFReadDirectory' @ warning/tiff.c/TIFFWarnings/912.\r\n",
      "montage: Unknown field with tag 33550 (0x830e) encountered. `TIFFReadDirectory' @ warning/tiff.c/TIFFWarnings/912.\r\n",
      "montage: Unknown field with tag 33922 (0x8482) encountered. `TIFFReadDirectory' @ warning/tiff.c/TIFFWarnings/912.\r\n",
      "montage: Unknown field with tag 34735 (0x87af) encountered. `TIFFReadDirectory' @ warning/tiff.c/TIFFWarnings/912.\r\n",
      "montage: Unknown field with tag 34736 (0x87b0) encountered. `TIFFReadDirectory' @ warning/tiff.c/TIFFWarnings/912.\r\n",
      "montage: Unknown field with tag 34737 (0x87b1) encountered. `TIFFReadDirectory' @ warning/tiff.c/TIFFWarnings/912.\r\n",
      "montage: Unknown field with tag 42112 (0xa480) encountered. `TIFFReadDirectory' @ warning/tiff.c/TIFFWarnings/912.\r\n",
      "montage: Unknown field with tag 33550 (0x830e) encountered. `TIFFReadDirectory' @ warning/tiff.c/TIFFWarnings/912.\r\n",
      "montage: Unknown field with tag 33922 (0x8482) encountered. `TIFFReadDirectory' @ warning/tiff.c/TIFFWarnings/912.\r\n",
      "montage: Unknown field with tag 34735 (0x87af) encountered. `TIFFReadDirectory' @ warning/tiff.c/TIFFWarnings/912.\r\n",
      "montage: Unknown field with tag 34736 (0x87b0) encountered. `TIFFReadDirectory' @ warning/tiff.c/TIFFWarnings/912.\r\n",
      "montage: Unknown field with tag 34737 (0x87b1) encountered. `TIFFReadDirectory' @ warning/tiff.c/TIFFWarnings/912.\r\n",
      "montage: Unknown field with tag 42112 (0xa480) encountered. `TIFFReadDirectory' @ warning/tiff.c/TIFFWarnings/912.\r\n",
      "montage: Unknown field with tag 33550 (0x830e) encountered. `TIFFReadDirectory' @ warning/tiff.c/TIFFWarnings/912.\r\n",
      "montage: Unknown field with tag 33922 (0x8482) encountered. `TIFFReadDirectory' @ warning/tiff.c/TIFFWarnings/912.\r\n",
      "montage: Unknown field with tag 34735 (0x87af) encountered. `TIFFReadDirectory' @ warning/tiff.c/TIFFWarnings/912.\r\n",
      "montage: Unknown field with tag 34736 (0x87b0) encountered. `TIFFReadDirectory' @ warning/tiff.c/TIFFWarnings/912.\r\n",
      "montage: Unknown field with tag 34737 (0x87b1) encountered. `TIFFReadDirectory' @ warning/tiff.c/TIFFWarnings/912.\r\n",
      "montage: Unknown field with tag 42112 (0xa480) encountered. `TIFFReadDirectory' @ warning/tiff.c/TIFFWarnings/912.\r\n",
      "montage: Unknown field with tag 33550 (0x830e) encountered. `TIFFReadDirectory' @ warning/tiff.c/TIFFWarnings/912.\r\n",
      "montage: Unknown field with tag 33922 (0x8482) encountered. `TIFFReadDirectory' @ warning/tiff.c/TIFFWarnings/912.\r\n",
      "montage: Unknown field with tag 34735 (0x87af) encountered. `TIFFReadDirectory' @ warning/tiff.c/TIFFWarnings/912.\r\n",
      "montage: Unknown field with tag 34736 (0x87b0) encountered. `TIFFReadDirectory' @ warning/tiff.c/TIFFWarnings/912.\r\n",
      "montage: Unknown field with tag 34737 (0x87b1) encountered. `TIFFReadDirectory' @ warning/tiff.c/TIFFWarnings/912.\r\n",
      "montage: Unknown field with tag 42112 (0xa480) encountered. `TIFFReadDirectory' @ warning/tiff.c/TIFFWarnings/912.\r\n"
     ]
    }
   ],
   "source": [
    "from satpy import Scene\n",
    "from glob import glob\n",
    "scn = Scene(reader='abi_l1b', filenames=glob('/data/data/abi/20170920/*.nc'))\n",
    "channels = [\"C{channel:02d}\".format(channel=chn) for chn in range(1, 17)]\n",
    "scn.load(channels)\n",
    "scn.save_datasets()\n",
    "! montage C??_20170920_173040.tif -geometry 512x512+4+4  -background black montage_abi_20170920_173040.jpg"
   ]
  },
  {
   "cell_type": "markdown",
   "metadata": {
    "slideshow": {
     "slide_type": "subslide"
    }
   },
   "source": [
    "<img src=\"montage_abi_20170920_173040.jpg\" alt=\"ABI Montage\" style=\"width:600px;\">"
   ]
  },
  {
   "cell_type": "code",
   "execution_count": 15,
   "metadata": {
    "slideshow": {
     "slide_type": "skip"
    }
   },
   "outputs": [
    {
     "name": "stderr",
     "output_type": "stream",
     "text": [
      "Platform file /Users/davidh/repos/git/satpy/satpy/etc/platforms.txt not found.\n",
      "Rasterio 1.0+ required for setting colorinterp\n",
      "/Users/davidh/anaconda/envs/polar2grid_py36/lib/python3.6/site-packages/dask/local.py:271: RuntimeWarning: invalid value encountered in less\n",
      "  return func(*args2)\n",
      "/Users/davidh/anaconda/envs/polar2grid_py36/lib/python3.6/site-packages/dask/local.py:271: RuntimeWarning: invalid value encountered in greater_equal\n",
      "  return func(*args2)\n",
      "/Users/davidh/anaconda/envs/polar2grid_py36/lib/python3.6/site-packages/dask/local.py:271: RuntimeWarning: invalid value encountered in log10\n",
      "  return func(*args2)\n"
     ]
    },
    {
     "name": "stdout",
     "output_type": "stream",
     "text": [
      "Input file size is 21696, 21696\n",
      "0...10...20...30...40...50...60...70...80...90...100 - done.\n"
     ]
    }
   ],
   "source": [
    "from satpy import Scene\n",
    "from glob import glob\n",
    "scn = Scene(reader='abi_l1b', filenames=glob('/data/data/abi/20170920/*.nc'))\n",
    "scn.load(['true_color'])\n",
    "new_scn = scn.resample(resampler='native')\n",
    "new_scn.save_datasets()\n",
    "! gdal_translate -of PNG -outsize 10% 10% true_color_20170920_173040{.tif,.png}"
   ]
  },
  {
   "cell_type": "markdown",
   "metadata": {
    "slideshow": {
     "slide_type": "subslide"
    }
   },
   "source": [
    "<img src=\"true_color_20170920_173040.png\" alt=\"ABI True Color\" style=\"width:600px;\">"
   ]
  },
  {
   "cell_type": "markdown",
   "metadata": {
    "slideshow": {
     "slide_type": "slide"
    }
   },
   "source": [
    "# SatPy\n",
    "\n",
    "* Read &rarr; Do Stuff &rarr; Write\n",
    "* Who is it for?\n",
    "  * Operational data processing\n",
    "  * Scientists and researchers\n",
    "  * People who want to make pretty pictures\n",
    "* Why use it?\n",
    "  * Abstract away the complex parts\n",
    "  * Common interfaces: STOP REWRITING THE SAME CODE OVER AND OVER AGAIN!\n",
    "  * Performance\n",
    "* Version 0.9 released\n",
    "* Windows, OSX, Linux compatible\n",
    "* Installable with ``pip`` and ``conda`` (conda-forge)\n",
    "* Uses ``xarray`` and ``dask``"
   ]
  },
  {
   "cell_type": "markdown",
   "metadata": {
    "slideshow": {
     "slide_type": "slide"
    }
   },
   "source": [
    "# Read: How do I get the information I need?\n",
    "\n",
    "* Reading satellite data sucks\n",
    "  * Formats: NetCDF, HDF5, custom binary, compressed\n",
    "  * File \"schemes\" and organization\n",
    "  * Fill values\n",
    "  * Concatenation\n",
    "  * Missing metadata\n",
    "  * Many data variations\n",
    "  * Standards\n",
    "\n",
    "<img src=\"https://imgs.xkcd.com/comics/standards.png\" alt=\"drawing\">"
   ]
  },
  {
   "cell_type": "code",
   "execution_count": 2,
   "metadata": {
    "slideshow": {
     "slide_type": "subslide"
    }
   },
   "outputs": [
    {
     "data": {
      "text/plain": [
       "['abi_l1b',\n",
       " 'acspo',\n",
       " 'ahi_hsd',\n",
       " 'amsr2_l1b',\n",
       " 'avhrr_aapp_l1b',\n",
       " 'avhrr_eps_l1b',\n",
       " 'clavrx',\n",
       " 'fci_fdhsi',\n",
       " 'generic_image',\n",
       " 'geocat',\n",
       " 'ghrsst_osisaf',\n",
       " 'grib',\n",
       " 'hdf4_caliopv3',\n",
       " 'hdfeos_l1b',\n",
       " 'hrit_electrol',\n",
       " 'hrit_goes',\n",
       " 'hrit_jma',\n",
       " 'hrit_msg',\n",
       " 'iasi_l2',\n",
       " 'li_l2',\n",
       " 'maia',\n",
       " 'native_msg',\n",
       " 'nc_nwcsaf_msg',\n",
       " 'nc_nwcsaf_pps',\n",
       " 'nc_olci_l1b',\n",
       " 'nc_olci_l2',\n",
       " 'nc_slstr',\n",
       " 'nucaps',\n",
       " 'omps_edr',\n",
       " 'safe_sar_c',\n",
       " 'scatsat1_l2b',\n",
       " 'viirs_compact',\n",
       " 'viirs_l1b',\n",
       " 'viirs_sdr']"
      ]
     },
     "execution_count": 2,
     "metadata": {},
     "output_type": "execute_result"
    }
   ],
   "source": [
    "from satpy import available_readers\n",
    "sorted(available_readers())"
   ]
  },
  {
   "cell_type": "code",
   "execution_count": 1,
   "metadata": {
    "slideshow": {
     "slide_type": "slide"
    }
   },
   "outputs": [
    {
     "data": {
      "text/plain": [
       "['C01', 'C02', 'C03', 'C04', 'C05', 'C06', 'C07', 'C08', 'C09', 'C10', 'C11', 'C12', 'C13', 'C14', 'C15', 'C16']"
      ]
     },
     "execution_count": 1,
     "metadata": {},
     "output_type": "execute_result"
    }
   ],
   "source": [
    "from satpy import Scene\n",
    "from glob import glob\n",
    "\n",
    "scn = Scene(reader='abi_l1b', filenames=glob('/data/data/abi/20170920/*.nc'))\n",
    "scn.available_dataset_names()"
   ]
  },
  {
   "cell_type": "code",
   "execution_count": 2,
   "metadata": {
    "slideshow": {
     "slide_type": "subslide"
    }
   },
   "outputs": [
    {
     "data": {
      "text/plain": [
       "<xarray.DataArray (y: 10848, x: 10848)>\n",
       "dask.array<shape=(10848, 10848), dtype=float64, chunksize=(4096, 4096)>\n",
       "Coordinates:\n",
       "  * x        (x) float64 -0.1519 -0.1518 -0.1518 -0.1518 -0.1517 -0.1517 ...\n",
       "    y_image  float32 0.0\n",
       "    x_image  float32 0.0\n",
       "  * y        (y) float64 0.1519 0.1518 0.1518 0.1518 0.1517 0.1517 0.1517 ...\n",
       "Attributes:\n",
       "    satellite_longitude:    -89.5\n",
       "    satellite_latitude:     0.0\n",
       "    satellite_altitude:     35786.0234375\n",
       "    modifiers:              ()\n",
       "    long_name:              ABI L1b Radiances\n",
       "    standard_name:          toa_bidirectional_reflectance\n",
       "    platform_name:          GOES-16\n",
       "    sensor:                 abi\n",
       "    _Unsigned:              true\n",
       "    wavelength:             (0.45, 0.47, 0.49)\n",
       "    ancillary_variables:    []\n",
       "    valid_range:            [   0 1022]\n",
       "    cell_methods:           t: point area: point\n",
       "    add_offset:             -25.9366\n",
       "    units:                  %\n",
       "    _FillValue:             1023\n",
       "    sensor_band_bit_depth:  10\n",
       "    calibration:            reflectance\n",
       "    name:                   C01\n",
       "    resolution:             1000\n",
       "    scale_factor:           0.812106\n",
       "    grid_mapping:           goes_imager_projection\n",
       "    start_time:             2017-09-20 17:30:40.800000\n",
       "    end_time:               2017-09-20 17:41:17.500000\n",
       "    area:                   Area ID: abi_geos\\nDescription: ABI L1B file area...\n",
       "    polarization:           None\n",
       "    level:                  None"
      ]
     },
     "execution_count": 2,
     "metadata": {},
     "output_type": "execute_result"
    }
   ],
   "source": [
    "scn.load(['C01', 'C02'])\n",
    "scn['C01']"
   ]
  },
  {
   "cell_type": "code",
   "execution_count": 3,
   "metadata": {
    "slideshow": {
     "slide_type": "subslide"
    }
   },
   "outputs": [
    {
     "data": {
      "text/plain": [
       "pyresample.geometry.AreaDefinition"
      ]
     },
     "execution_count": 3,
     "metadata": {},
     "output_type": "execute_result"
    }
   ],
   "source": [
    "type(scn['C01'].attrs['area'])"
   ]
  },
  {
   "cell_type": "code",
   "execution_count": 4,
   "metadata": {
    "slideshow": {
     "slide_type": "fragment"
    }
   },
   "outputs": [
    {
     "data": {
      "text/plain": [
       "Area ID: abi_geos\n",
       "Description: ABI L1B file area\n",
       "Projection ID: abi_geos\n",
       "Projection: {'a': '6378137.0', 'b': '6356752.31414', 'h': '35786023.0', 'lon_0': '-89.5', 'proj': 'geos', 'sweep': 'x', 'units': 'm'}\n",
       "Number of columns: 10848\n",
       "Number of rows: 10848\n",
       "Area extent: (-5434894.954752679, -5434894.9644517442, 5434894.9644517442, 5434894.954752679)"
      ]
     },
     "execution_count": 4,
     "metadata": {},
     "output_type": "execute_result"
    }
   ],
   "source": [
    "scn['C01'].attrs['area']"
   ]
  },
  {
   "cell_type": "code",
   "execution_count": 14,
   "metadata": {
    "slideshow": {
     "slide_type": "fragment"
    }
   },
   "outputs": [],
   "source": [
    "# scn.show('C01')"
   ]
  },
  {
   "cell_type": "code",
   "execution_count": 4,
   "metadata": {
    "slideshow": {
     "slide_type": "skip"
    }
   },
   "outputs": [
    {
     "name": "stdout",
     "output_type": "stream",
     "text": [
      "Input file size is 10848, 10848\n",
      "0...10...20...30...40...50...60...70...80...90...100 - done.\n"
     ]
    }
   ],
   "source": [
    "scn.save_dataset('C01', base_dir='/Users/davidh/repos/git/pytroll-examples/satpy/presentations/2018_scipy/', writer='simple_image')\n",
    "\n",
    "! gdal_translate -of PNG -outsize 10% 10% C01_20170920_173040.png C01_20170920_173040.small.png"
   ]
  },
  {
   "cell_type": "markdown",
   "metadata": {
    "slideshow": {
     "slide_type": "subslide"
    }
   },
   "source": [
    "<img src=\"C01_20170920_173040.small.png\" alt=\"ABI C01\" style=\"width:550px;\">"
   ]
  },
  {
   "cell_type": "markdown",
   "metadata": {
    "slideshow": {
     "slide_type": "slide"
    }
   },
   "source": [
    "# Loading variations\n",
    "\n",
    "* Resolution\n",
    "* Polarization\n",
    "* Calibration\n",
    "  * Counts\n",
    "  * Radiance\n",
    "  * Reflectance/Brightness Temperature/etc\n",
    "* ``DatasetID``"
   ]
  },
  {
   "cell_type": "code",
   "execution_count": 6,
   "metadata": {
    "slideshow": {
     "slide_type": "fragment"
    }
   },
   "outputs": [
    {
     "data": {
      "text/plain": [
       "['C01', 'C02', 'C03', 'C04', 'C05', 'C06', 'C07', 'C08', 'C09', 'C10', 'C11', 'C12', 'C13', 'C14', 'C15', 'C16']"
      ]
     },
     "execution_count": 6,
     "metadata": {},
     "output_type": "execute_result"
    }
   ],
   "source": [
    "rad_scn = Scene(reader='abi_l1b', filenames=glob('/data/data/abi/20170920/*.nc'))\n",
    "rad_scn.available_dataset_names()"
   ]
  },
  {
   "cell_type": "code",
   "execution_count": 7,
   "metadata": {
    "scrolled": false,
    "slideshow": {
     "slide_type": "fragment"
    }
   },
   "outputs": [
    {
     "data": {
      "text/plain": [
       "[DatasetID(name='C01', wavelength=(0.45, 0.47, 0.49), resolution=1000, polarization=None, calibration='radiance', level=None, modifiers=()),\n",
       " DatasetID(name='C01', wavelength=(0.45, 0.47, 0.49), resolution=1000, polarization=None, calibration='reflectance', level=None, modifiers=())]"
      ]
     },
     "execution_count": 7,
     "metadata": {},
     "output_type": "execute_result"
    }
   ],
   "source": [
    "rad_scn.available_dataset_ids()[:2]"
   ]
  },
  {
   "cell_type": "code",
   "execution_count": 8,
   "metadata": {
    "slideshow": {
     "slide_type": "subslide"
    }
   },
   "outputs": [
    {
     "data": {
      "text/plain": [
       "<xarray.DataArray 'Rad' (y: 10848, x: 10848)>\n",
       "dask.array<shape=(10848, 10848), dtype=float64, chunksize=(4096, 4096)>\n",
       "Coordinates:\n",
       "    time     datetime64[ns] 2017-09-20T17:35:59.184896\n",
       "  * x        (x) int16 0 1 2 3 4 5 6 7 8 9 10 11 12 13 14 15 16 17 18 19 20 ...\n",
       "    y_image  float32 0.0\n",
       "    x_image  float32 0.0\n",
       "  * y        (y) int64 0 1 2 3 4 5 6 7 8 9 10 11 12 13 14 15 16 17 18 19 20 ...\n",
       "Attributes:\n",
       "    satellite_longitude:    -89.5\n",
       "    satellite_latitude:     0.0\n",
       "    satellite_altitude:     35786.0234375\n",
       "    modifiers:              ()\n",
       "    add_offset:             -25.9366\n",
       "    valid_range:            [   0 1022]\n",
       "    resolution:             1000\n",
       "    name:                   C01\n",
       "    sensor:                 abi\n",
       "    cell_methods:           t: point area: point\n",
       "    sensor_band_bit_depth:  10\n",
       "    ancillary_variables:    []\n",
       "    _FillValue:             1023\n",
       "    platform_name:          GOES-16\n",
       "    long_name:              ABI L1b Radiances\n",
       "    units:                  W m-2 sr-1 um-1\n",
       "    grid_mapping:           goes_imager_projection\n",
       "    standard_name:          toa_outgoing_radiance_per_unit_wavelength\n",
       "    scale_factor:           0.812106\n",
       "    _Unsigned:              true\n",
       "    calibration:            radiance\n",
       "    wavelength:             (0.45, 0.47, 0.49)\n",
       "    start_time:             2017-09-20 17:30:40.800000\n",
       "    end_time:               2017-09-20 17:41:17.500000\n",
       "    area:                   Area ID: some_area_name\\nDescription: On-the-fly ...\n",
       "    polarization:           None\n",
       "    level:                  None"
      ]
     },
     "execution_count": 8,
     "metadata": {},
     "output_type": "execute_result"
    }
   ],
   "source": [
    "rad_scn.load(['C01'], calibration='radiance')\n",
    "rad_scn['C01']"
   ]
  },
  {
   "cell_type": "markdown",
   "metadata": {
    "slideshow": {
     "slide_type": "slide"
    }
   },
   "source": [
    "# Load by Wavelength\n",
    "\n",
    "```\n",
    "...\n",
    "wavelength:             (0.45, 0.47, 0.49)\n",
    "...\n",
    "```"
   ]
  },
  {
   "cell_type": "code",
   "execution_count": 11,
   "metadata": {
    "slideshow": {
     "slide_type": "fragment"
    }
   },
   "outputs": [
    {
     "data": {
      "text/plain": [
       "[DatasetID(name='C01', wavelength=(0.45, 0.47, 0.49), resolution=1000, polarization=None, calibration='reflectance', level=None, modifiers=()),\n",
       " DatasetID(name='C02', wavelength=(0.59, 0.64, 0.69), resolution=500, polarization=None, calibration='reflectance', level=None, modifiers=())]"
      ]
     },
     "execution_count": 11,
     "metadata": {},
     "output_type": "execute_result"
    }
   ],
   "source": [
    "Scene(reader='abi_l1b', filenames=glob('/data/data/abi/20170920/*.nc'))\n",
    "scn.load([0.46, 0.6])\n",
    "scn.keys()"
   ]
  },
  {
   "cell_type": "code",
   "execution_count": 12,
   "metadata": {
    "slideshow": {
     "slide_type": "fragment"
    }
   },
   "outputs": [
    {
     "data": {
      "text/plain": [
       "True"
      ]
     },
     "execution_count": 12,
     "metadata": {},
     "output_type": "execute_result"
    }
   ],
   "source": [
    "scn['C01'] is scn[0.46]"
   ]
  },
  {
   "cell_type": "code",
   "execution_count": 14,
   "metadata": {
    "slideshow": {
     "slide_type": "fragment"
    }
   },
   "outputs": [
    {
     "data": {
      "text/plain": [
       "True"
      ]
     },
     "execution_count": 14,
     "metadata": {},
     "output_type": "execute_result"
    }
   ],
   "source": [
    "scn[0.46] is scn[0.475]"
   ]
  },
  {
   "cell_type": "markdown",
   "metadata": {
    "slideshow": {
     "slide_type": "slide"
    }
   },
   "source": [
    "# Composite: How do I make pretty color pictures?\n",
    "\n",
    "<img src=\"abi_rgbs_20170920_173040.jpg\" alt=\"ABI RGB montage\" style=\"width:550px;\">"
   ]
  },
  {
   "cell_type": "code",
   "execution_count": null,
   "metadata": {
    "slideshow": {
     "slide_type": "skip"
    }
   },
   "outputs": [
    {
     "name": "stderr",
     "output_type": "stream",
     "text": [
      "Platform file /Users/davidh/repos/git/satpy/satpy/etc/platforms.txt not found.\n",
      "Rasterio 1.0+ required for setting colorinterp\n",
      "Rasterio 1.0+ required for setting colorinterp\n",
      "Rasterio 1.0+ required for setting colorinterp\n",
      "/Users/davidh/anaconda/envs/polar2grid_py36/lib/python3.6/site-packages/dask/local.py:271: RuntimeWarning: invalid value encountered in less\n",
      "  return func(*args2)\n",
      "/Users/davidh/anaconda/envs/polar2grid_py36/lib/python3.6/site-packages/dask/local.py:271: RuntimeWarning: invalid value encountered in greater_equal\n",
      "  return func(*args2)\n"
     ]
    }
   ],
   "source": [
    "from satpy import Scene\n",
    "from glob import glob\n",
    "\n",
    "scn = Scene(reader='abi_l1b', filenames=glob('/data/data/abi/20170920/*.nc'))\n",
    "scn.load(['overview', 'natural', 'airmass'])\n",
    "new_scn = scn.resample(resampler='native')\n",
    "new_scn.save_datasets()\n",
    "! montage {true_color,overview,natural,airmass}_20170920_173040.tif -geometry 512x512+2+2 -background black abi_rgbs_20170920_173040.jpg"
   ]
  },
  {
   "cell_type": "code",
   "execution_count": 1,
   "metadata": {
    "slideshow": {
     "slide_type": "subslide"
    }
   },
   "outputs": [
    {
     "data": {
      "text/plain": [
       "['airmass', 'ash', 'dust', 'fog', 'green', 'green_raw', 'green_snow', 'ir_cloud_day', 'natural', 'natural_raw', 'natural_sun', 'night_microphysics', 'overview', 'overview_raw', 'true_color', 'true_color_raw']"
      ]
     },
     "execution_count": 1,
     "metadata": {},
     "output_type": "execute_result"
    }
   ],
   "source": [
    "from satpy import Scene\n",
    "from glob import glob\n",
    "\n",
    "scn = Scene(reader='abi_l1b', filenames=glob('/data/data/abi/20170920/*.nc'))\n",
    "scn.available_composite_names()"
   ]
  },
  {
   "cell_type": "code",
   "execution_count": 2,
   "metadata": {
    "slideshow": {
     "slide_type": "fragment"
    }
   },
   "outputs": [
    {
     "data": {
      "text/plain": [
       "<xarray.DataArray 'concatenate-d3ffb434ba4f6164ba94e209a0860c74' (bands: 3, y: 5424, x: 5424)>\n",
       "dask.array<shape=(3, 5424, 5424), dtype=float64, chunksize=(1, 4096, 4096)>\n",
       "Coordinates:\n",
       "  * x        (x) float64 -0.1518 -0.1518 -0.1517 -0.1517 -0.1516 -0.1516 ...\n",
       "    y_image  float32 0.0\n",
       "    x_image  float32 0.0\n",
       "  * y        (y) float64 0.1518 0.1518 0.1517 0.1517 0.1516 0.1516 0.1515 ...\n",
       "  * bands    (bands) <U1 'R' 'G' 'B'\n",
       "Attributes:\n",
       "    long_name:               ABI L1b Radiances\n",
       "    grid_mapping:            goes_imager_projection\n",
       "    level:                   None\n",
       "    satellite_latitude:      0.0\n",
       "    sensor:                  abi\n",
       "    satellite_altitude:      35786.0234375\n",
       "    ancillary_variables:     []\n",
       "    start_time:              2017-09-20 17:30:40.800000\n",
       "    cell_methods:            t: point area: point\n",
       "    polarization:            None\n",
       "    resolution:              None\n",
       "    area:                    Area ID: some_area_name\\nDescription: On-the-fly...\n",
       "    platform_name:           GOES-16\n",
       "    _Unsigned:               true\n",
       "    satellite_longitude:     -89.5\n",
       "    standard_name:           airmass\n",
       "    wavelength:              None\n",
       "    optional_datasets:       []\n",
       "    end_time:                2017-09-20 17:41:18.600000\n",
       "    name:                    airmass\n",
       "    prerequisites:           [6.2, 7.3, 9.7, 10.3]\n",
       "    optional_prerequisites:  []\n",
       "    calibration:             None\n",
       "    modifiers:               None\n",
       "    mode:                    RGB"
      ]
     },
     "execution_count": 2,
     "metadata": {},
     "output_type": "execute_result"
    }
   ],
   "source": [
    "scn.load(['airmass'])\n",
    "scn['airmass']"
   ]
  },
  {
   "cell_type": "markdown",
   "metadata": {
    "slideshow": {
     "slide_type": "subslide"
    }
   },
   "source": [
    "# Composite YAML configuration files\n",
    "\n",
    "```yaml\n",
    "  airmass:\n",
    "    compositor: !!python/name:satpy.composites.Airmass\n",
    "    prerequisites:\n",
    "    - 6.2\n",
    "    - 7.3\n",
    "    - 9.7\n",
    "    - 10.3\n",
    "    standard_name: airmass\n",
    "```"
   ]
  },
  {
   "cell_type": "markdown",
   "metadata": {
    "slideshow": {
     "slide_type": "slide"
    }
   },
   "source": [
    "# Modify: How do I make my pretty picture prettier?"
   ]
  },
  {
   "cell_type": "code",
   "execution_count": 1,
   "metadata": {
    "slideshow": {
     "slide_type": "skip"
    }
   },
   "outputs": [],
   "source": [
    "from satpy import Scene\n",
    "from glob import glob\n",
    "\n",
    "scn = Scene(reader='abi_l1b', filenames=glob('/data/data/abi/20170920/*.nc'))\n",
    "scn.load(['true_color_raw'])\n",
    "new_scn = scn.resample(resampler='native')\n",
    "new_scn.save_datasets()\n",
    "! montage true_color_raw_20170920_173040.tif true_color_20170920_173040.tif -geometry 512x512+2 -background black true_color_before_after_20170920_173040.jpg"
   ]
  },
  {
   "cell_type": "markdown",
   "metadata": {
    "slideshow": {
     "slide_type": "-"
    }
   },
   "source": [
    "<img src=\"true_color_before_after_20170920_173040.jpg\" alt=\"ABI True Color Before/After\">"
   ]
  },
  {
   "cell_type": "markdown",
   "metadata": {
    "slideshow": {
     "slide_type": "subslide"
    }
   },
   "source": [
    "```yaml\n",
    "\n",
    "  true_color:\n",
    "    compositor: !!python/name:satpy.composites.SelfSharpenedRGB\n",
    "    prerequisites:\n",
    "    - name: C02\n",
    "      modifiers: [sunz_corrected, rayleigh_corrected]\n",
    "    - name: green\n",
    "    - name: C01\n",
    "      modifiers: [sunz_corrected, rayleigh_corrected]\n",
    "    standard_name: true_color\n",
    "\n",
    "```"
   ]
  },
  {
   "cell_type": "code",
   "execution_count": 3,
   "metadata": {
    "slideshow": {
     "slide_type": "fragment"
    }
   },
   "outputs": [
    {
     "data": {
      "text/plain": [
       "<xarray.DataArray (y: 10848, x: 10848)>\n",
       "dask.array<shape=(10848, 10848), dtype=float64, chunksize=(4096, 4096)>\n",
       "Coordinates:\n",
       "  * x        (x) float64 -0.1519 -0.1518 -0.1518 -0.1518 -0.1517 -0.1517 ...\n",
       "    y_image  float32 0.0\n",
       "    x_image  float32 0.0\n",
       "  * y        (y) float64 0.1519 0.1518 0.1518 0.1518 0.1517 0.1517 0.1517 ...\n",
       "Attributes:\n",
       "    satellite_longitude:    -89.5\n",
       "    satellite_latitude:     0.0\n",
       "    satellite_altitude:     35786.0234375\n",
       "    cell_methods:           t: point area: point\n",
       "    add_offset:             -25.9366\n",
       "    standard_name:          toa_bidirectional_reflectance\n",
       "    scale_factor:           0.812106\n",
       "    valid_range:            [   0 1022]\n",
       "    sensor:                 abi\n",
       "    modifiers:              ('sunz_corrected',)\n",
       "    units:                  %\n",
       "    resolution:             1000\n",
       "    _Unsigned:              true\n",
       "    long_name:              ABI L1b Radiances\n",
       "    platform_name:          GOES-16\n",
       "    grid_mapping:           goes_imager_projection\n",
       "    _FillValue:             1023\n",
       "    ancillary_variables:    []\n",
       "    sensor_band_bit_depth:  10\n",
       "    calibration:            reflectance\n",
       "    name:                   C01\n",
       "    wavelength:             (0.45, 0.47, 0.49)\n",
       "    start_time:             2017-09-20 17:30:40.800000\n",
       "    end_time:               2017-09-20 17:41:17.500000\n",
       "    area:                   Area ID: some_area_name\\nDescription: On-the-fly ...\n",
       "    polarization:           None\n",
       "    level:                  None"
      ]
     },
     "execution_count": 3,
     "metadata": {},
     "output_type": "execute_result"
    }
   ],
   "source": [
    "from satpy import DatasetID\n",
    "scn = Scene(reader='abi_l1b', filenames=glob('/data/data/abi/20170920/*.nc'))\n",
    "\n",
    "ds_id = DatasetID(name='C01', modifiers=('sunz_corrected',))\n",
    "scn.load([ds_id])\n",
    "scn['C01']"
   ]
  },
  {
   "cell_type": "markdown",
   "metadata": {
    "slideshow": {
     "slide_type": "slide"
    }
   },
   "source": [
    "# Resampling\n",
    "\n",
    "* Target Geolocation\n",
    "  * SwathDefinition\n",
    "  * AreaDefinition\n",
    "    * Projection\n",
    "    * Extents\n",
    "    * Size (number of pixels)\n",
    "* Algorithm\n",
    "  * Nearest Neighbor\n",
    "  * Elliptical Weighted Averaging (EWA)\n",
    "  * \"Native\""
   ]
  },
  {
   "cell_type": "code",
   "execution_count": 9,
   "metadata": {
    "slideshow": {
     "slide_type": "subslide"
    }
   },
   "outputs": [
    {
     "data": {
      "text/plain": [
       "pyresample.geometry.SwathDefinition"
      ]
     },
     "execution_count": 9,
     "metadata": {},
     "output_type": "execute_result"
    }
   ],
   "source": [
    "from satpy import Scene\n",
    "from glob import glob\n",
    "scn = Scene(reader='viirs_sdr', filenames=glob('/data/data/viirs/conus_day/*t1801*.h5'))\n",
    "scn.load(['I04'])\n",
    "type(scn['I04'].attrs['area'])"
   ]
  },
  {
   "cell_type": "code",
   "execution_count": 10,
   "metadata": {
    "slideshow": {
     "slide_type": "fragment"
    }
   },
   "outputs": [
    {
     "name": "stdout",
     "output_type": "stream",
     "text": [
      "Shape: (1536, 6400)\n",
      "Lons: <xarray.DataArray (y: 1536, x: 6400)>\n",
      "dask.array<shape=(1536, 6400), dtype=float64, chunksize=(1536, 4096)>\n",
      "Dimensions without coordinates: y, x\n",
      "Attributes:\n",
      "    start_orbit:          1708\n",
      "    end_orbit:            1708\n",
      "    modifiers:            ()\n",
      "    standard_name:        longitude\n",
      "    units:                degrees\n",
      "    resolution:           371\n",
      "    calibration:          None\n",
      "    polarization:         None\n",
      "    file_key:             All_Data/{file_group}_All/Longitude\n",
      "    platform_name:        Suomi-NPP\n",
      "    level:                None\n",
      "    sensor:               viirs\n",
      "    file_type:            gitco\n",
      "    wavelength:           None\n",
      "    name:                 i_longitude\n",
      "    start_time:           2012-02-25 18:01:24.570942\n",
      "    end_time:             2012-02-25 18:02:48.746550\n",
      "    ancillary_variables:  []\n",
      "Lats: <xarray.DataArray (y: 1536, x: 6400)>\n",
      "dask.array<shape=(1536, 6400), dtype=float64, chunksize=(1536, 4096)>\n",
      "Dimensions without coordinates: y, x\n",
      "Attributes:\n",
      "    start_orbit:          1708\n",
      "    end_orbit:            1708\n",
      "    modifiers:            ()\n",
      "    standard_name:        latitude\n",
      "    units:                degrees\n",
      "    resolution:           371\n",
      "    calibration:          None\n",
      "    polarization:         None\n",
      "    file_key:             All_Data/{file_group}_All/Latitude\n",
      "    platform_name:        Suomi-NPP\n",
      "    level:                None\n",
      "    sensor:               viirs\n",
      "    file_type:            gitco\n",
      "    wavelength:           None\n",
      "    name:                 i_latitude\n",
      "    start_time:           2012-02-25 18:01:24.570942\n",
      "    end_time:             2012-02-25 18:02:48.746550\n",
      "    ancillary_variables:  []\n"
     ]
    }
   ],
   "source": [
    "print(scn['I04'].attrs['area'])"
   ]
  },
  {
   "cell_type": "code",
   "execution_count": 11,
   "metadata": {
    "slideshow": {
     "slide_type": "subslide"
    }
   },
   "outputs": [
    {
     "data": {
      "text/plain": [
       "<xarray.DataArray (y: 1536, x: 6400)>\n",
       "dask.array<shape=(1536, 6400), dtype=float64, chunksize=(1536, 4096)>\n",
       "Dimensions without coordinates: y, x\n",
       "Attributes:\n",
       "    start_orbit:          1708\n",
       "    end_orbit:            1708\n",
       "    coordinates:          ('i_longitude', 'i_latitude')\n",
       "    modifiers:            ()\n",
       "    standard_name:        toa_brightness_temperature\n",
       "    calibration:          brightness_temperature\n",
       "    resolution:           371\n",
       "    units:                K\n",
       "    polarization:         None\n",
       "    platform_name:        Suomi-NPP\n",
       "    level:                None\n",
       "    sensor:               viirs\n",
       "    file_type:            svi04\n",
       "    wavelength:           (3.58, 3.74, 3.9)\n",
       "    name:                 I04\n",
       "    start_time:           2012-02-25 18:01:24.570942\n",
       "    end_time:             2012-02-25 18:02:48.746550\n",
       "    area:                 Shape: (1536, 6400)\\nLons: <xarray.DataArray (y: 15...\n",
       "    ancillary_variables:  []"
      ]
     },
     "execution_count": 11,
     "metadata": {},
     "output_type": "execute_result"
    }
   ],
   "source": [
    "scn['I04']"
   ]
  },
  {
   "cell_type": "code",
   "execution_count": null,
   "metadata": {
    "slideshow": {
     "slide_type": "subslide"
    }
   },
   "outputs": [],
   "source": [
    "scn.show('I04')"
   ]
  },
  {
   "cell_type": "markdown",
   "metadata": {
    "slideshow": {
     "slide_type": "-"
    }
   },
   "source": [
    "<img src=\"I04_20120225_180125.swath.png\" alt=\"VIIRS I04 Swath\">"
   ]
  },
  {
   "cell_type": "code",
   "execution_count": null,
   "metadata": {
    "slideshow": {
     "slide_type": "subslide"
    }
   },
   "outputs": [],
   "source": [
    "scn = Scene(reader='viirs_sdr', filenames=glob('/data/data/viirs/conus_day/*t180*.h5'))\n",
    "scn.load(['I04'])\n",
    "new_scn = scn.resample('211e')\n",
    "new_scn.show('I04')"
   ]
  },
  {
   "cell_type": "markdown",
   "metadata": {
    "slideshow": {
     "slide_type": "-"
    }
   },
   "source": [
    "<img src=\"I04_20120225_180125.png\" alt=\"NPP VIIRS I04\" style=\"width:450px;\">"
   ]
  },
  {
   "cell_type": "code",
   "execution_count": null,
   "metadata": {
    "slideshow": {
     "slide_type": "subslide"
    }
   },
   "outputs": [],
   "source": [
    "from pyresample.geometry import AreaDefinition\n",
    "area_def = AreaDefinition(\n",
    "    'name', 'description', 'merc',\n",
    "    {'proj': 'merc', 'datum': 'WGS84', 'lon_0': -95.0},\n",
    "    1000, 1000, (0, 1750000, 4500000, 5500000))\n",
    "new_scn = scn.resample(area_def, radius_of_influence=10000)\n",
    "new_scn.show('I04')"
   ]
  },
  {
   "cell_type": "markdown",
   "metadata": {
    "slideshow": {
     "slide_type": "-"
    }
   },
   "source": [
    "<img src=\"I04_20120225_180125.custom_area.png\" alt=\"NPP VIIRS I04 Custom\" style=\"width:450px;\">"
   ]
  },
  {
   "cell_type": "markdown",
   "metadata": {
    "slideshow": {
     "slide_type": "slide"
    }
   },
   "source": [
    "# Saving to disk\n",
    "\n",
    "* Writers\n",
    "  * Geotiff (rasterio)\n",
    "  * Pillow (png, jpeg, etc)\n",
    "  * AWIPS SCMI\n",
    "  * CF-compliant NetCDF (limited projection support)\n",
    "  "
   ]
  },
  {
   "cell_type": "code",
   "execution_count": 63,
   "metadata": {
    "slideshow": {
     "slide_type": "-"
    }
   },
   "outputs": [
    {
     "data": {
      "text/plain": [
       "['mitiff', 'simple_image', 'geotiff', 'cf', 'scmi']"
      ]
     },
     "execution_count": 63,
     "metadata": {},
     "output_type": "execute_result"
    }
   ],
   "source": [
    "from satpy import available_writers\n",
    "available_writers()"
   ]
  },
  {
   "cell_type": "code",
   "execution_count": null,
   "metadata": {
    "slideshow": {
     "slide_type": "fragment"
    }
   },
   "outputs": [],
   "source": [
    "scn.save_datasets(writer='geotiff', base_dir='/tmp', compress='LZW')"
   ]
  },
  {
   "cell_type": "markdown",
   "metadata": {
    "slideshow": {
     "slide_type": "slide"
    }
   },
   "source": [
    "# Fun Stuff: Stacked Scenes"
   ]
  },
  {
   "cell_type": "code",
   "execution_count": 12,
   "metadata": {},
   "outputs": [
    {
     "name": "stderr",
     "output_type": "stream",
     "text": [
      "Rasterio 1.0+ required for setting colorinterp\n"
     ]
    },
    {
     "name": "stdout",
     "output_type": "stream",
     "text": [
      "[#####                                   ] | 13% Completed |  9.0s"
     ]
    },
    {
     "name": "stderr",
     "output_type": "stream",
     "text": [
      "/Users/davidh/anaconda/envs/polar2grid_py36/lib/python3.6/site-packages/dask/local.py:271: RuntimeWarning: invalid value encountered in greater_equal\n",
      "  return func(*args2)\n",
      "/Users/davidh/anaconda/envs/polar2grid_py36/lib/python3.6/site-packages/dask/local.py:271: RuntimeWarning: invalid value encountered in less_equal\n",
      "  return func(*args2)\n"
     ]
    },
    {
     "name": "stdout",
     "output_type": "stream",
     "text": [
      "[########################################] | 100% Completed |  4min 17.1s\n",
      "[########################################] | 100% Completed |  0.1s\n"
     ]
    }
   ],
   "source": [
    "from satpy import Scene, MultiScene\n",
    "from glob import glob\n",
    "import os\n",
    "from dask.diagnostics import ProgressBar\n",
    "base_dir = '/data/data/viirs/2018_06_29/'\n",
    "viirs_passes = ['2018_06_29_180_0614', '2018_06_29_180_0752', '2018_06_29_180_0934']\n",
    "viirs_scenes = [Scene(reader='viirs_sdr',\n",
    "                      filenames=glob(os.path.join(base_dir, vp, '*.h5'))) \n",
    "                for vp in viirs_passes]\n",
    "mscn = MultiScene(viirs_scenes)\n",
    "mscn.load(['I04'])\n",
    "new_mscn = mscn.resample('211e')\n",
    "blended_scn = new_mscn.blend()\n",
    "with ProgressBar():\n",
    "    blended_scn.save_datasets()"
   ]
  },
  {
   "cell_type": "code",
   "execution_count": 13,
   "metadata": {},
   "outputs": [
    {
     "name": "stdout",
     "output_type": "stream",
     "text": [
      "Input file size is 5120, 5120\n",
      "0...10...20...30...40...50...60...70...80...90...100 - done.\n"
     ]
    }
   ],
   "source": [
    "! gdal_translate -of PNG -outsize 10% 10% I04_20180629_061415{.tif,.png}"
   ]
  },
  {
   "cell_type": "markdown",
   "metadata": {
    "slideshow": {
     "slide_type": "subslide"
    }
   },
   "source": [
    "<img src=\"I04_20180629_061415.png\" alt=\"Blended I04\" style=\"width:550px\">"
   ]
  },
  {
   "cell_type": "markdown",
   "metadata": {
    "slideshow": {
     "slide_type": "slide"
    }
   },
   "source": [
    "# Fun Stuff: Animations\n",
    "\n",
    "```python\n",
    "scenes = [Scene(reader='abi_l1b', filenames=step_files)\n",
    "          for step_files in grouped_files]\n",
    "mscn = MultiScene(scenes)\n",
    "mscn.load(['C01'])\n",
    "new_mscn = mscn.resample(resampler='native')\n",
    "new_mscn.save_animation('{name}_{start_time:%Y%m%d_%H%M%S}.mp4',\n",
    "                        fps=5, batch_size=4,\n",
    "                        output_params=[\"-vf\", \"format=yuv420p,scale=640:-1\"])\n",
    "```"
   ]
  },
  {
   "cell_type": "code",
   "execution_count": 15,
   "metadata": {},
   "outputs": [
    {
     "data": {
      "text/html": [
       "\n",
       "<video width=\"640\" height=\"480\" controls>\n",
       "  <source src=\"C01_20180623_000045.mp4\" type=\"video/mp4\">\n",
       "</video>\n"
      ],
      "text/plain": [
       "<IPython.core.display.HTML object>"
      ]
     },
     "execution_count": 15,
     "metadata": {},
     "output_type": "execute_result"
    }
   ],
   "source": [
    "from IPython.display import HTML\n",
    "HTML(\"\"\"\n",
    "<video width=\"640\" height=\"480\" controls>\n",
    "  <source src=\"C01_20180623_000045.mp4\" type=\"video/mp4\">\n",
    "</video>\n",
    "\"\"\")"
   ]
  },
  {
   "cell_type": "markdown",
   "metadata": {
    "slideshow": {
     "slide_type": "slide"
    }
   },
   "source": [
    "# Fun Stuff: Cartopy"
   ]
  },
  {
   "cell_type": "code",
   "execution_count": null,
   "metadata": {},
   "outputs": [],
   "source": [
    "from satpy import Scene\n",
    "from glob import glob\n",
    "import matplotlib.pyplot as plt\n",
    "\n",
    "filenames = glob('/data/data/viirs/conus_day/*t180*.h5')\n",
    "scn = Scene(reader='viirs_sdr', filenames=filenames)\n",
    "scn.load(['I04'])\n",
    "new_scn = scn.resample('211e')\n",
    "\n",
    "crs = new_scn['I04'].attrs['area'].to_cartopy_crs()\n",
    "ax = plt.axes(projection=crs)\n",
    "\n",
    "ax.coastlines()\n",
    "ax.gridlines()\n",
    "ax.set_global()\n",
    "plt.imshow(new_scn['I04'], transform=crs, extent=crs.bounds, origin='upper')\n",
    "cbar = plt.colorbar()\n",
    "cbar.set_label(\"Kelvin\")\n",
    "plt.show()"
   ]
  },
  {
   "cell_type": "markdown",
   "metadata": {},
   "source": [
    "<img src=\"I04_cartopy_plot.png\" alt=\"I04 Cartopy\">"
   ]
  },
  {
   "cell_type": "markdown",
   "metadata": {
    "slideshow": {
     "slide_type": "slide"
    }
   },
   "source": [
    "# SatPy and The PyTroll Community\n",
    "\n",
    "* Community Website: http://pytroll.github.io/\n",
    "* GitHub: https://github.com/pytroll/satpy\n",
    "* SatPy Documentation: http://satpy.readthedocs.io/en/latest/\n",
    "\n",
    "<img src=\"https://raw.githubusercontent.com/pytroll/pytroll/master/web/source/images/pytroll_dark_small.png\" style=\"background-color:black;\">\n"
   ]
  },
  {
   "cell_type": "code",
   "execution_count": 5,
   "metadata": {
    "slideshow": {
     "slide_type": "slide"
    }
   },
   "outputs": [
    {
     "data": {
      "text/html": [
       "\n",
       "        <iframe\n",
       "            width=\"600\"\n",
       "            height=\"400\"\n",
       "            src=\"https://www.youtube.com/embed/eBQi2G_fqXQ?rel=0\"\n",
       "            frameborder=\"0\"\n",
       "            allowfullscreen\n",
       "        ></iframe>\n",
       "        "
      ],
      "text/plain": [
       "<IPython.lib.display.IFrame at 0x1124d79b0>"
      ]
     },
     "execution_count": 5,
     "metadata": {},
     "output_type": "execute_result"
    }
   ],
   "source": [
    "from IPython.display import IFrame\n",
    "IFrame('https://www.youtube.com/embed/eBQi2G_fqXQ?rel=0', width=600, height=400)"
   ]
  },
  {
   "cell_type": "code",
   "execution_count": null,
   "metadata": {},
   "outputs": [],
   "source": []
  }
 ],
 "metadata": {
  "celltoolbar": "Slideshow",
  "kernelspec": {
   "display_name": "Python 3",
   "language": "python",
   "name": "python3"
  },
  "language_info": {
   "codemirror_mode": {
    "name": "ipython",
    "version": 3
   },
   "file_extension": ".py",
   "mimetype": "text/x-python",
   "name": "python",
   "nbconvert_exporter": "python",
   "pygments_lexer": "ipython3",
   "version": "3.6.4"
  }
 },
 "nbformat": 4,
 "nbformat_minor": 2
}
