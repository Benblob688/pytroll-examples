{
 "cells": [
  {
   "cell_type": "markdown",
   "metadata": {},
   "source": [
    "# Sentinel 2 MSI true color"
   ]
  },
  {
   "cell_type": "code",
   "execution_count": 1,
   "metadata": {},
   "outputs": [],
   "source": [
    "from datetime import datetime\n",
    "\n",
    "from satpy.readers import DatasetID\n",
    "from satpy import Scene, find_files_and_readers\n",
    "\n",
    "if __name__ == '__main__':\n",
    "\n",
    "    files = find_files_and_readers(base_dir=\"/home/a001673/data/satellite/Sentinel-2/\",\n",
    "                                   reader='safe_msi')\n",
    "    scn = Scene(filenames=files)\n",
    "\n",
    "    composite = 'true_color'\n",
    "    scn.load([composite])\n",
    "    scn.show(composite)"
   ]
  },
  {
   "cell_type": "code",
   "execution_count": null,
   "metadata": {},
   "outputs": [],
   "source": []
  }
 ],
 "metadata": {
  "kernelspec": {
   "display_name": "Python 2",
   "language": "python",
   "name": "python2"
  },
  "language_info": {
   "codemirror_mode": {
    "name": "ipython",
    "version": 2
   },
   "file_extension": ".py",
   "mimetype": "text/x-python",
   "name": "python",
   "nbconvert_exporter": "python",
   "pygments_lexer": "ipython2",
   "version": "2.7.5"
  }
 },
 "nbformat": 4,
 "nbformat_minor": 2
}
