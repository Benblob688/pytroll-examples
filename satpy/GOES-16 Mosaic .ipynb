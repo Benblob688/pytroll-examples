{
 "cells": [
  {
   "cell_type": "markdown",
   "metadata": {},
   "source": [
    "# Generate a mosaic of the GOES-16 channels in Satpy and ImageMagick"
   ]
  },
  {
   "cell_type": "code",
   "execution_count": 1,
   "metadata": {
    "scrolled": true
   },
   "outputs": [],
   "source": [
    "import glob\n",
    "from satpy.scene import Scene\n",
    "\n",
    "scn = Scene(\n",
    "    filenames=glob.glob(\"/path/to/the/Goes-16/data/*RadF*\"),\n",
    "    reader='abi_l1b'\n",
    ")\n",
    "\n",
    "for name in [\"C{channel:02d}\".format(channel=chn + 1) for chn in range(16)]:\n",
    "    scn.load([name])\n",
    "    scn.save_dataset(name, filename=name+'.png')\n",
    "    del scn[name]"
   ]
  },
  {
   "cell_type": "markdown",
   "metadata": {},
   "source": [
    "In a terminal, in the directory where you saved the C*.png images: \n",
    "```\n",
    "montage C??.png -geometry 512x512+4+4  -background black montage_abi.jpg\n",
    "```"
   ]
  },
  {
   "cell_type": "markdown",
   "metadata": {},
   "source": [
    "<img src=\"montage_abi.jpg\">"
   ]
  }
 ],
 "metadata": {
  "kernelspec": {
   "display_name": "Python 2",
   "language": "python",
   "name": "python2"
  },
  "language_info": {
   "codemirror_mode": {
    "name": "ipython",
    "version": 2
   },
   "file_extension": ".py",
   "mimetype": "text/x-python",
   "name": "python",
   "nbconvert_exporter": "python",
   "pygments_lexer": "ipython2",
   "version": "2.7.5"
  }
 },
 "nbformat": 4,
 "nbformat_minor": 2
}
