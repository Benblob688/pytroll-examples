{
 "cells": [
  {
   "cell_type": "markdown",
   "metadata": {},
   "source": [
    "# Generate a mosaic of the GOES-16 channels in Satpy and ImageMagick"
   ]
  },
  {
   "cell_type": "code",
   "execution_count": null,
   "metadata": {
    "scrolled": true
   },
   "outputs": [],
   "source": [
    "import glob\n",
    "from satpy.scene import Scene\n",
    "\n",
    "scn = Scene(\n",
    "    filenames=glob.glob(\"/path/to/the/Goes-16/data/*RadF*\"),\n",
    "    reader='abi_l1b'\n",
    ")\n",
    "\n",
    "channels = ['C{channel:02d}'.format(channel=chn) for chn in range(1, 17)]\n",
    "scn.load(channels)\n",
    "scn.save_datasets(filename='{name}.png')"
   ]
  },
  {
   "cell_type": "markdown",
   "metadata": {},
   "source": [
    "Then we can use the ImageMagick command `montage` to join all the images together."
   ]
  },
  {
   "cell_type": "code",
   "execution_count": null,
   "metadata": {},
   "outputs": [],
   "source": [
    "!montage C??.png -geometry 512x512+4+4 -background black montage_abi.jpg"
   ]
  },
  {
   "cell_type": "markdown",
   "metadata": {},
   "source": [
    "<img src=\"montage_abi.jpg\">"
   ]
  }
 ],
 "metadata": {
  "kernelspec": {
   "display_name": "Python 3",
   "language": "python",
   "name": "python3"
  },
  "language_info": {
   "codemirror_mode": {
    "name": "ipython",
    "version": 3
   },
   "file_extension": ".py",
   "mimetype": "text/x-python",
   "name": "python",
   "nbconvert_exporter": "python",
   "pygments_lexer": "ipython3",
   "version": "3.6.7"
  }
 },
 "nbformat": 4,
 "nbformat_minor": 4
}
