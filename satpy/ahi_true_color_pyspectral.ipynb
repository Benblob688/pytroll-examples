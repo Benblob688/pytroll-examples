{
 "cells": [
  {
   "cell_type": "markdown",
   "metadata": {},
   "source": [
    "<h1>Load Himawari-8 AHI data and generate true color RGB</h1>"
   ]
  },
  {
   "cell_type": "code",
   "execution_count": 1,
   "metadata": {},
   "outputs": [],
   "source": [
    "from satpy.scene import Scene\n",
    "from satpy.resample import get_area_def\n",
    "from datetime import datetime"
   ]
  },
  {
   "cell_type": "markdown",
   "metadata": {},
   "source": [
    "<p>We start by locating and specifying the AHI data to read:</p>"
   ]
  },
  {
   "cell_type": "code",
   "execution_count": 2,
   "metadata": {},
   "outputs": [],
   "source": [
    "from glob import glob\n",
    "FILES = glob(\"/home/a000680/data/himawari8/201502070300/*DAT\")"
   ]
  },
  {
   "cell_type": "markdown",
   "metadata": {},
   "source": [
    "<p>We load the data using the Himawari standard format reader</p>"
   ]
  },
  {
   "cell_type": "code",
   "execution_count": 3,
   "metadata": {},
   "outputs": [
    {
     "name": "stderr",
     "output_type": "stream",
     "text": [
      "No handlers could be found for logger \"satpy.readers\"\n"
     ]
    }
   ],
   "source": [
    "scn = Scene(\n",
    "      sensor='ahi',\n",
    "      start_time=datetime(2015, 2, 7, 3, 0),\n",
    "      end_time=datetime(2015, 2, 7, 3, 10),\n",
    "      filenames=FILES,\n",
    "      reader='ahi_hsd')"
   ]
  },
  {
   "cell_type": "markdown",
   "metadata": {},
   "source": [
    "<p>Here we do not use the high resolution data</p>"
   ]
  },
  {
   "cell_type": "code",
   "execution_count": 4,
   "metadata": {},
   "outputs": [],
   "source": [
    "rgbname = 'true_color_reducedsize'"
   ]
  },
  {
   "cell_type": "code",
   "execution_count": 5,
   "metadata": {},
   "outputs": [],
   "source": [
    "scn.load([rgbname])"
   ]
  },
  {
   "cell_type": "code",
   "execution_count": 6,
   "metadata": {},
   "outputs": [
    {
     "name": "stderr",
     "output_type": "stream",
     "text": [
      "/home/a000680/usr/src/satpy/satpy/enhancements/__init__.py:51: RuntimeWarning: divide by zero encountered in log10\n",
      "  np.log10(chn.data, out=chn.data)\n",
      "/home/a000680/usr/src/satpy/satpy/enhancements/__init__.py:51: RuntimeWarning: invalid value encountered in log10\n",
      "  np.log10(chn.data, out=chn.data)\n"
     ]
    }
   ],
   "source": [
    "scn.show(rgbname)"
   ]
  },
  {
   "cell_type": "markdown",
   "metadata": {},
   "source": [
    "<img src='./himawari_ahi_truecolor_201502070300_thumb.png'>"
   ]
  },
  {
   "cell_type": "markdown",
   "metadata": {},
   "source": [
    "<img href='himawari_ahi_truecolor_201502070300.png'>"
   ]
  },
  {
   "cell_type": "code",
   "execution_count": 7,
   "metadata": {},
   "outputs": [],
   "source": [
    "scn.save_dataset(rgbname, filename='himawari_ahi_truecolor_{datetime}.png'.format(datetime=scn.start_time.strftime('%Y%m%d%H%M')))"
   ]
  },
  {
   "cell_type": "markdown",
   "metadata": {},
   "source": [
    "<p>Now let us define a map-projection and a sub area, and project the data on this area. We use Pyresample to define the area. This definition can also be put in the area.def or area.yaml configuration file</p>"
   ]
  },
  {
   "cell_type": "code",
   "execution_count": 8,
   "metadata": {},
   "outputs": [],
   "source": [
    "from pyresample.utils import get_area_def\n",
    "area_id = 'japan'\n",
    "x_size = 2407\n",
    "y_size = 1655\n",
    "area_extent = (-1203877.326193321, -754860.2505908236, 1203877.3261933187, 900373.6358697552)\n",
    "projection = '+proj=laea +lat_0=37.5 +lon_0=137.5 +ellps=WGS84'\n",
    "description = \"Japan\"\n",
    "proj_id = 'laea_137.5_37.5'\n",
    "areadef = get_area_def(area_id, description, proj_id, projection,x_size, y_size, area_extent)"
   ]
  },
  {
   "cell_type": "code",
   "execution_count": 9,
   "metadata": {},
   "outputs": [],
   "source": [
    "local_scene = scn.resample(areadef)"
   ]
  },
  {
   "cell_type": "code",
   "execution_count": 10,
   "metadata": {},
   "outputs": [],
   "source": [
    "local_scene.show(rgbname)"
   ]
  },
  {
   "cell_type": "markdown",
   "metadata": {},
   "source": [
    "<img src='./himawari_ahi_truecolor_201502070300_japan_thumb.png'>"
   ]
  }
 ],
 "metadata": {
  "kernelspec": {
   "display_name": "Python 2",
   "language": "python",
   "name": "python2"
  },
  "language_info": {
   "codemirror_mode": {
    "name": "ipython",
    "version": 2
   },
   "file_extension": ".py",
   "mimetype": "text/x-python",
   "name": "python",
   "nbconvert_exporter": "python",
   "pygments_lexer": "ipython2",
   "version": "2.7.5"
  }
 },
 "nbformat": 4,
 "nbformat_minor": 2
}
