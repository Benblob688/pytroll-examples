{
 "cells": [
  {
   "cell_type": "code",
   "execution_count": null,
   "metadata": {},
   "outputs": [],
   "source": [
    "# script by Martin Raspaud\n",
    "# modified by Mikhail Itkin\n",
    "\n",
    "from datetime import datetime\n",
    "\n",
    "from satpy import Scene\n",
    "from satpy import DatasetID\n",
    "from satpy.utils import debug_on\n",
    "from trollimage.image import Image\n",
    "\n",
    "\n",
    "def logenh(data):\n",
    "    res = (np.log10(data / 5000.) - np.log10(0.0223)) /  (1.0 - np.log10(0.0223))\n",
    "    res[res < 0] = 0\n",
    "    return res\n",
    "\n",
    "\n",
    "if __name__ == '__main__':\n",
    "\n",
    "    debug_on()\n",
    "    scn = Scene(\n",
    "        sensor='sar-c',\n",
    "        start_time=datetime(2017, 9, 19, 0, 0),\n",
    "        base_dir=\".\"\n",
    "    )\n",
    "\n",
    "    composite = 'hv'\n",
    "\n",
    "    scn.load([DatasetID(name='measurement', polarization='hh'),\n",
    "              DatasetID(name='measurement', polarization='hv')])\n",
    "\n",
    "    mx = 2000.\n",
    "\n",
    "    i = scn.datasets.values()[0]\n",
    "    m = scn.datasets.values()[1]\n",
    "\n",
    "    rs = mx - (mx - m) * (mx - i) / mx\n",
    "    data_g = ((mx - i) * m + rs) * i / mx\n",
    "\n",
    "\n",
    "    img = Image((i, data_g, m), mode='RGB')\n",
    "\n",
    "    img.stretch((.2, .02))\n",
    "    pi = img.pil_image().resize((800,800))\n",
    "    pi.save('ant.png')"
   ]
  },
  {
   "cell_type": "markdown",
   "metadata": {},
   "source": [
    "![image](ant.png)\n"
   ]
  }
 ],
 "metadata": {
  "celltoolbar": "Attachments",
  "kernelspec": {
   "display_name": "Python 2",
   "language": "python",
   "name": "python2"
  },
  "language_info": {
   "codemirror_mode": {
    "name": "ipython",
    "version": 2
   },
   "file_extension": ".py",
   "mimetype": "text/x-python",
   "name": "python",
   "nbconvert_exporter": "python",
   "pygments_lexer": "ipython2",
   "version": "2.7.12+"
  }
 },
 "nbformat": 4,
 "nbformat_minor": 2
}
