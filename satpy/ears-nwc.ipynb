{
 "cells": [
  {
   "cell_type": "markdown",
   "metadata": {},
   "source": [
    "# Quickstart with EARS-NWC"
   ]
  },
  {
   "cell_type": "markdown",
   "metadata": {},
   "source": [
    "<p>In December 2012 <a class=\"reference external\" href=\"http://www.eumetsat.int/\">EUMETSAT</a> extended the <a class=\"reference external\" href=\"http://www.eumetsat.int/home/main/satellites/groundnetwork/earssystem/index.htm\">EARS</a> services to include a new service with the purpose of supporting European users with cloud information\n",
    "from polar orbiting satellites in near real time.</p>\n",
    "<p>This <em>EARS-NWC</em> service provides the parameters <em>Cloud Mask</em>, <em>Cloud Type</em> and\n",
    "<em>Cloud Top Temperature and Height (CTTH)</em> as derived using the Polar Platform\n",
    "System (<a class=\"reference external\" href=\"http://nwcsaf.smhi.se/\">PPS</a>) software package from the <a class=\"reference external\" href=\"http://www.nwcsaf.org/\">NWC SAF</a>. The products are derived\n",
    "from AVHRR data received at the EARS core stations with a reception coverage including Europe and the North Atlantic. Products are disseminated on <a class=\"reference external\" href=\"http://www.eumetsat.int/home/main/dataaccess/eumetcast/index.htm\">EUMETCast</a> (EUMETSAT <a class=\"reference external\" href=\"http://www.eumetsat.int/home/main/dataaccess/eumetcast/receptionstationset-up/sp_20100623124251305?l=en\">data channel 1</a>) with a timeliness better than 30\n",
    "minutes, and available in netCDF4 format. The geolocation information is available on a tie-point grid and stored in each product.\n",
    "<p>At the moment the satellites contributing to the service are Metop-B and NOAA-19.</p>\n",
    "<p>NB! This tutorial is based on the latest official releases of Trollimage and PyResample, and the latest SatPy develop branch. For SatPy please clone and install from github. <a href=\"git@github.com:pytroll/satpy.git\"> satpy</a>\n",
    "</p>"
   ]
  },
  {
   "cell_type": "markdown",
   "metadata": {},
   "source": [
    "## Loading and concatenating the cloud type granules"
   ]
  },
  {
   "cell_type": "code",
   "execution_count": 20,
   "metadata": {},
   "outputs": [],
   "source": [
    "from satpy import Scene\n",
    "import os.path\n",
    "from glob import glob\n",
    "from datetime import datetime\n",
    "\n",
    "DATA_DIR = \"/home/a000680/laptop/Nordisk/EARS_NWC/data/case_20180314/\"\n",
    "myfiles = glob(os.path.join(DATA_DIR, \"*CT_C*.nc.bz2\"))\n",
    "\n",
    "scene = Scene(filenames=myfiles,\n",
    "              start_time=datetime(2018, 3, 14, 10, 5),\n",
    "              end_time=datetime(2018, 3, 14, 10, 11),\n",
    "              reader='nc_nwcsaf_pps')\n",
    "scene.load(['ct'])"
   ]
  },
  {
   "cell_type": "markdown",
   "metadata": {},
   "source": [
    "Now we have loaded and concatenated the <em>ct</em> field of the Cloudtype product granules in the time window given by the start amd end times above"
   ]
  },
  {
   "cell_type": "code",
   "execution_count": 21,
   "metadata": {},
   "outputs": [
    {
     "name": "stdout",
     "output_type": "stream",
     "text": [
      "(2160, 2048)\n",
      "[[ 8  8  8 ...  7  7  7]\n",
      " [ 8  8  8 ...  7  7  7]\n",
      " [ 8  8  8 ...  7  7  7]\n",
      " ...\n",
      " [ 9  9  9 ... 12 11 12]\n",
      " [ 9  9  9 ... 12 11 12]\n",
      " [ 9  9  9 ... 12 11 12]]\n"
     ]
    }
   ],
   "source": [
    "print(scene['ct'].data.shape)\n",
    "print(scene['ct'].data.compute())"
   ]
  },
  {
   "cell_type": "markdown",
   "metadata": {},
   "source": [
    "<p>Also the geolocation has been unpacked. That is the the full resolution\n",
    "geolocation information has been recreated from the tie point grid by\n",
    "interpolating and extrapolating the longitudes and latitudes on the tie point\n",
    "grid. This is accomplished using the <a class=\"reference external\" href=\"http://www.github.com/adybbroe/python-geotiepoints\">python-geotiepoints</a> tool, but this is\n",
    "transparent to the user:</p>"
   ]
  },
  {
   "cell_type": "code",
   "execution_count": 22,
   "metadata": {},
   "outputs": [
    {
     "name": "stdout",
     "output_type": "stream",
     "text": [
      "(2160, 2048)\n"
     ]
    }
   ],
   "source": [
    "print(scene['ct'].area.lats.shape)"
   ]
  },
  {
   "cell_type": "markdown",
   "metadata": {},
   "source": [
    "Now let’s visualise the cloudtype data using the Nowcasting SAF palette read from the file:"
   ]
  },
  {
   "cell_type": "code",
   "execution_count": 25,
   "metadata": {},
   "outputs": [
    {
     "data": {
      "text/plain": [
       "<trollimage.xrimage.XRImage at 0x12330c10>"
      ]
     },
     "execution_count": 25,
     "metadata": {},
     "output_type": "execute_result"
    }
   ],
   "source": [
    "scene.load(['cloudtype'])\n",
    "scene.show('cloudtype')"
   ]
  },
  {
   "cell_type": "markdown",
   "metadata": {},
   "source": [
    "<img src='ears_nwc_cloudtype_20180314T1005Z_20180314T1010Z_thumb.png'>"
   ]
  },
  {
   "cell_type": "markdown",
   "metadata": {},
   "source": [
    "# Load all CTTH granules, concatenate, reproject, generate composite image, and save to disk"
   ]
  },
  {
   "cell_type": "code",
   "execution_count": 5,
   "metadata": {},
   "outputs": [],
   "source": [
    "from glob import glob\n",
    "import os.path\n",
    "from satpy import Scene"
   ]
  },
  {
   "cell_type": "code",
   "execution_count": 6,
   "metadata": {},
   "outputs": [],
   "source": [
    "DATA_DIR = \"/home/a000680/laptop/Nordisk/EARS_NWC/data/case_20180314/\""
   ]
  },
  {
   "cell_type": "markdown",
   "metadata": {},
   "source": [
    "## Make a list of all CTTH files in the directory, both bzipped and unpacked ones:"
   ]
  },
  {
   "cell_type": "code",
   "execution_count": 7,
   "metadata": {},
   "outputs": [],
   "source": [
    "myfiles = glob(os.path.join(DATA_DIR, \"*CTTH_C*.nc.bz2\"))\n",
    "myfiles = myfiles + glob(os.path.join(DATA_DIR, \"*CTTH_C*.nc\"))"
   ]
  },
  {
   "cell_type": "markdown",
   "metadata": {},
   "source": [
    "## Generate the scene object"
   ]
  },
  {
   "cell_type": "code",
   "execution_count": 8,
   "metadata": {},
   "outputs": [
    {
     "name": "stderr",
     "output_type": "stream",
     "text": [
      "/home/a000680/.local/lib/python2.7/site-packages/h5py/__init__.py:36: FutureWarning: Conversion of the second argument of issubdtype from `float` to `np.floating` is deprecated. In future, it will be treated as `np.float64 == np.dtype(float).type`.\n",
      "  from ._conv import register_converters as _register_converters\n"
     ]
    }
   ],
   "source": [
    "scene = Scene(filenames=myfiles, reader='nc_nwcsaf_pps')"
   ]
  },
  {
   "cell_type": "markdown",
   "metadata": {},
   "source": [
    "## Load the cloud height composite image"
   ]
  },
  {
   "cell_type": "code",
   "execution_count": 9,
   "metadata": {},
   "outputs": [
    {
     "name": "stderr",
     "output_type": "stream",
     "text": [
      "/usr/lib64/python2.7/_abcoll.py:391: FutureWarning: iteration over an xarray.Dataset will change in xarray v0.11 to only include data variables, not coordinates. Iterate over the Dataset.variables property instead to preserve existing behavior in a forwards compatible manner.\n",
      "  return list(self)\n",
      "/usr/lib64/python2.7/_abcoll.py:391: FutureWarning: calling len() on an xarray.Dataset will change in xarray v0.11 to only include data variables, not coordinates. Call len() on the Dataset.variables property instead, like ``len(ds.variables)``, to preserve existing behavior in a forwards compatible manner.\n",
      "  return list(self)\n",
      "/home/a000680/.local/lib/python2.7/site-packages/dask/local.py:271: RuntimeWarning: invalid value encountered in less_equal\n",
      "  return func(*args2)\n",
      "/home/a000680/.local/lib/python2.7/site-packages/dask/local.py:271: RuntimeWarning: invalid value encountered in greater_equal\n",
      "  return func(*args2)\n"
     ]
    }
   ],
   "source": [
    "scene.load(['cloud_top_height'])"
   ]
  },
  {
   "cell_type": "markdown",
   "metadata": {},
   "source": [
    "## Resample the data to the pre-defined \"euron1\" area"
   ]
  },
  {
   "cell_type": "code",
   "execution_count": 14,
   "metadata": {},
   "outputs": [],
   "source": [
    "lscn = scene.resample('euron1', radius_of_influence=5000)"
   ]
  },
  {
   "cell_type": "code",
   "execution_count": 15,
   "metadata": {},
   "outputs": [
    {
     "data": {
      "text/plain": [
       "<trollimage.xrimage.XRImage at 0x126f6690>"
      ]
     },
     "execution_count": 15,
     "metadata": {},
     "output_type": "execute_result"
    }
   ],
   "source": [
    "lscn.show('cloud_top_height')"
   ]
  },
  {
   "cell_type": "markdown",
   "metadata": {},
   "source": [
    "<img src='ears_nwc_ctth_20180314T1000Z_20180314T1014Z_thumbnail.png'>"
   ]
  },
  {
   "cell_type": "markdown",
   "metadata": {},
   "source": [
    "## Save the image to file"
   ]
  },
  {
   "cell_type": "code",
   "execution_count": 11,
   "metadata": {},
   "outputs": [],
   "source": [
    "dt_start = lscn.attrs['start_time'].strftime('%Y%m%dT%H%MZ')\n",
    "dt_end = lscn.attrs['end_time'].strftime('%Y%m%dT%H%MZ')\n",
    "lscn.save_dataset(\n",
    "    'cloud_top_height', filename='./ears_nwc_ctth_{starttime}_{endtime}.png'.format(starttime=dt_start, endtime=dt_end))"
   ]
  }
 ],
 "metadata": {
  "kernelspec": {
   "display_name": "Python 2",
   "language": "python",
   "name": "python2"
  },
  "language_info": {
   "codemirror_mode": {
    "name": "ipython",
    "version": 2
   },
   "file_extension": ".py",
   "mimetype": "text/x-python",
   "name": "python",
   "nbconvert_exporter": "python",
   "pygments_lexer": "ipython2",
   "version": "2.7.5"
  }
 },
 "nbformat": 4,
 "nbformat_minor": 2
}
