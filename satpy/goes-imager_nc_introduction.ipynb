{
 "cells": [
  {
   "cell_type": "markdown",
   "metadata": {},
   "source": [
    "# GOES netCDF Reader Introduction"
   ]
  },
  {
   "cell_type": "markdown",
   "metadata": {},
   "source": [
    "## 1. Supported Files"
   ]
  },
  {
   "cell_type": "markdown",
   "metadata": {},
   "source": [
    "GOES 8-15 Imager (GVAR_IMG) data in netCDF format distributed by NOAA CLASS. \n",
    "\n",
    "**Important**: Select 16 bits/pixel in your order! "
   ]
  },
  {
   "cell_type": "markdown",
   "metadata": {},
   "source": [
    "## 2. Creating a Mosaic"
   ]
  },
  {
   "cell_type": "code",
   "execution_count": 1,
   "metadata": {},
   "outputs": [],
   "source": [
    "import glob\n",
    "from satpy import Scene\n",
    "import matplotlib.pyplot as plt\n",
    "\n",
    "channels = ['00_7', '03_9', '06_5', '10_7', '13_3']\n",
    "filenames = glob.glob('goes15.2018.248.0000??.BAND_??.nc')\n",
    "scene = Scene(filenames=filenames, reader='goes-imager_nc')\n",
    "\n",
    "for ch in channels:\n",
    "    scene.load([ch])\n",
    "    scene.save_dataset(ch, filename=ch+'.png')\n",
    "    del scene[ch]"
   ]
  },
  {
   "cell_type": "markdown",
   "metadata": {},
   "source": [
    "To create a mosaic from the *.png files:\n",
    "\n",
    "```\n",
    "montage ??_?.png -geometry 256x256+2-110 -background black goes-imager_nc_mosaic.jpg\n",
    "```"
   ]
  },
  {
   "cell_type": "markdown",
   "metadata": {},
   "source": [
    "<img src=\"goes-imager_nc_mosaic.jpg\">"
   ]
  },
  {
   "cell_type": "markdown",
   "metadata": {},
   "source": [
    "## 3. Oversampling"
   ]
  },
  {
   "cell_type": "markdown",
   "metadata": {},
   "source": [
    "The GOES Imager oversamples the viewed scene in E-W direction by a factor of 1.75: IR/VIS pixels are 112/28 urad on a side, but the instruments samples every 64/16 urad in E-W direction. This explains the elliptical shape of the images. An area definition with uniform sampling is stored in the scene's attributes to facilitate resampling (full disc images only!)."
   ]
  },
  {
   "cell_type": "code",
   "execution_count": 2,
   "metadata": {},
   "outputs": [
    {
     "data": {
      "image/jpeg": "[encoded data removed]",
      "text/plain": [
       "<Figure size 432x288 with 2 Axes>"
      ]
     },
     "metadata": {},
     "output_type": "display_data"
    }
   ],
   "source": [
    "import glob\n",
    "import matplotlib.pyplot as plt\n",
    "from satpy import Scene\n",
    "\n",
    "\n",
    "# Load data\n",
    "filenames = glob.glob('goes15.2018.248.0000??.BAND_04.nc')\n",
    "scene = Scene(filenames=filenames, reader='goes-imager_nc')\n",
    "scene.load(['10_7'])\n",
    "\n",
    "# Resample to area definition with uniform sampling\n",
    "area_def = scene['10_7'].attrs['area_def_uniform_sampling']  # full disc images only\n",
    "resampled = scene.resample(area_def)\n",
    "\n",
    "# Display results\n",
    "crs = area_def.to_cartopy_crs()\n",
    "ax = plt.axes(projection=crs)\n",
    "ax.coastlines()\n",
    "ax.gridlines()\n",
    "plt.imshow(resampled['10_7'], transform=crs, extent=crs.bounds, origin='upper')\n",
    "plt.colorbar(label=resampled['10_7'].attrs['units'])\n",
    "plt.show()"
   ]
  },
  {
   "cell_type": "markdown",
   "metadata": {},
   "source": [
    "## 4. Partial Scans\n",
    "\n",
    "Partial scans are supported, but the accompanying set of metadata will be reduced due to limitations of the netCDF files. For example satellite position and area definition with uniform sampling cannot be provided. "
   ]
  },
  {
   "cell_type": "markdown",
   "metadata": {},
   "source": [
    "## 5. Notes on calibration"
   ]
  },
  {
   "cell_type": "markdown",
   "metadata": {},
   "source": [
    "### 5.1 Reflectance"
   ]
  },
  {
   "cell_type": "markdown",
   "metadata": {},
   "source": [
    "Calibrating the visible channel to reflectance does not (yet) take into account the angle of incident radiation and the annual variation of the earth-sun distance. A value of 100% corresponds to the radiance of a perfectly reflecting diffuse surface\n",
    "illuminated at normal incidence when the sun is at its annual-average distance from the Earth."
   ]
  },
  {
   "cell_type": "markdown",
   "metadata": {},
   "source": [
    "### 5.2 Calibration Error"
   ]
  },
  {
   "cell_type": "markdown",
   "metadata": {},
   "source": [
    "The GOES Imager records multiple scanlines simultaneously in one sweep using multiple detectors (8 in VIS and 1-2 in IR channels). The calibration coefficients of the detectors in a channel vary slightly. Unfortunately there is no information in the netCDF files about which scanline was recorded by which detector. That is why the ``goes-imager_nc`` reader uses the **average calibration coefficients** over all detectors in a channel to calibrate the raw image. \n",
    "\n",
    "Of course this approximation introduces an error. A worst case estimate of the error can be obtained by calibrating all possible counts with both the minimum and the maximum calibration coefficients and computing the difference. This is shown in the figures below. The table summarizes the worst case maximum errors."
   ]
  },
  {
   "cell_type": "markdown",
   "metadata": {},
   "source": [
    "<img src=\"goes-imager_nc_ir_calib.png\">\n",
    "<center><figcaption>Fig.1: IR calibration error</figcaption></center>"
   ]
  },
  {
   "cell_type": "markdown",
   "metadata": {},
   "source": [
    "<img src=\"goes-imager_nc_vis_calib.png\" width=\"450\" height=\"450\">\n",
    "<center><figcaption>Fig.2: VIS calibration error</figcaption></center>"
   ]
  },
  {
   "cell_type": "markdown",
   "metadata": {},
   "source": [
    "Platform | Channel | Error \n",
    "---------|---------|-------\n",
    "GOES-8   |    00_7 | 0.0   % \n",
    "         |    03_9 | 0.187 K \n",
    "         |    06_8 | 0.0   K \n",
    "         |    10_7 | 0.106 K \n",
    "         |    12_0 | 0.036 K \n",
    "GOES-9   |    00_7 | 0.0   % \n",
    "         |    03_9 | 0.0   K \n",
    "         |    06_8 | 0.0   K \n",
    "         |    10_7 | 0.021 K\n",
    "         |    12_0 | 0.006 K \n",
    "GOES-10  |    00_7 | 1.05  %\n",
    "         |    03_9 | 0.0   K\n",
    "         |    06_8 | 0.0   K\n",
    "         |    10_7 | 0.013 K \n",
    "         |    12_0 | 0.004 K\n",
    "GOES-11  |    00_7 | 1.25  %\n",
    "         |    03_9 | 0.0   K\n",
    "         |    06_8 | 0.0   K\n",
    "         |    10_7 | 0.0   K\n",
    "         |    12_0 | 0.065 K\n",
    "GOES-12  |    00_7 | 0.8   %\n",
    "         |    03_9 | 0.0   K\n",
    "         |    06_5 | 0.044 K\n",
    "         |    10_7 | 0.0   K\n",
    "         |    13_3 | 0.0   K\n",
    "GOES-13  |    00_7 | 1.31  %\n",
    "         |    03_9 | 0.0   K\n",
    "         |    06_5 | 0.085 K\n",
    "         |    10_7 | 0.008 K\n",
    "         |    13_3 | 0.0   K\n",
    "GOES-14  |    00_7 | 0.66  %\n",
    "         |    03_9 | 0.0   K\n",
    "         |    06_5 | 0.043 K\n",
    "         |    10_7 | 0.006 K\n",
    "         |    13_3 | 0.003 K\n",
    "GOES-15  |    00_7 | 0.86  %\n",
    "         |    03_9 | 0.0   K\n",
    "         |    06_5 | 0.02  K\n",
    "         |    10_7 | 0.009 K\n",
    "         |    13_3 | 0.008 K"
   ]
  },
  {
   "cell_type": "code",
   "execution_count": null,
   "metadata": {},
   "outputs": [],
   "source": []
  }
 ],
 "metadata": {
  "kernelspec": {
   "display_name": "Python 3",
   "language": "python",
   "name": "python3"
  },
  "language_info": {
   "codemirror_mode": {
    "name": "ipython",
    "version": 3
   },
   "file_extension": ".py",
   "mimetype": "text/x-python",
   "name": "python",
   "nbconvert_exporter": "python",
   "pygments_lexer": "ipython3",
   "version": "3.6.5"
  }
 },
 "nbformat": 4,
 "nbformat_minor": 2
}
