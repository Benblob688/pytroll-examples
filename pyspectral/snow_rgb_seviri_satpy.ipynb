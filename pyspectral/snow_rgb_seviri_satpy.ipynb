{
 "cells": [
  {
   "cell_type": "markdown",
   "metadata": {},
   "source": [
    "# Generate a snow RGB using the 3.7 reflectance derived with PySpectral"
   ]
  },
  {
   "cell_type": "code",
   "execution_count": 8,
   "metadata": {},
   "outputs": [],
   "source": [
    "from satpy.scene import Scene\n",
    "from glob import glob\n",
    "FILES = glob(\"/home/a000680/data/hrit/20150420/*201504201000*__\")"
   ]
  },
  {
   "cell_type": "code",
   "execution_count": 9,
   "metadata": {},
   "outputs": [],
   "source": [
    "glbscene = Scene(filenames=FILES, reader='hrit_msg')"
   ]
  },
  {
   "cell_type": "code",
   "execution_count": 3,
   "metadata": {},
   "outputs": [
    {
     "name": "stderr",
     "output_type": "stream",
     "text": [
      "/home/a000680/usr/src/satpy/satpy/readers/hrit_msg.py:1000: RuntimeWarning: divide by zero encountered in reciprocal\n",
      "  data.data[:] **= -1\n",
      "No handlers could be found for logger \"pyspectral.near_infrared_reflectance\"\n"
     ]
    }
   ],
   "source": [
    "glbscene.load(['snow'])"
   ]
  },
  {
   "cell_type": "code",
   "execution_count": 4,
   "metadata": {},
   "outputs": [],
   "source": [
    "lscn = glbscene.resample('germ')\n",
    "lscn.show('snow')"
   ]
  },
  {
   "cell_type": "markdown",
   "metadata": {},
   "source": [
    "<img src='https://github.com/pytroll/pytroll-examples/raw/master/pyspectral/meteosat09_20150420_1000_snow_rgb.png'>"
   ]
  },
  {
   "cell_type": "code",
   "execution_count": null,
   "metadata": {},
   "outputs": [],
   "source": []
  }
 ],
 "metadata": {
  "kernelspec": {
   "display_name": "Python 2",
   "language": "python",
   "name": "python2"
  },
  "language_info": {
   "codemirror_mode": {
    "name": "ipython",
    "version": 2
   },
   "file_extension": ".py",
   "mimetype": "text/x-python",
   "name": "python",
   "nbconvert_exporter": "python",
   "pygments_lexer": "ipython2",
   "version": "2.7.5"
  }
 },
 "nbformat": 4,
 "nbformat_minor": 2
}
