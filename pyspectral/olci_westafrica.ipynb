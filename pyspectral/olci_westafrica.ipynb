{
 "cells": [
  {
   "cell_type": "markdown",
   "metadata": {},
   "source": [
    "# Sand plumes over Africa seen by OLCI"
   ]
  },
  {
   "cell_type": "code",
   "execution_count": 1,
   "metadata": {},
   "outputs": [],
   "source": [
    "from datetime import datetime\n",
    "from satpy.scene import Scene\n",
    "from satpy.utils import debug_on\n",
    "debug_on()\n",
    "\n",
    "areaid = 'westafrica'\n",
    "DATADIR = \"/home/a000680/data/Sentinel-3\""
   ]
  },
  {
   "cell_type": "code",
   "execution_count": 2,
   "metadata": {},
   "outputs": [
    {
     "name": "stderr",
     "output_type": "stream",
     "text": [
      "[DEBUG: 2017-12-14 16:07:53 : satpy.scene] Setting 'PPP_CONFIG_DIR' to '/home/a000680/usr/src/satpy/satpy/etc'\n",
      "[DEBUG: 2017-12-14 16:07:53 : satpy.readers] Reading ['/home/a000680/usr/src/satpy/satpy/etc/readers/olci.yaml', '/home/a000680/usr/src/satpy/satpy/etc/readers/olci.yaml', '/home/a000680/usr/src/satpy/satpy/etc/readers/olci.yaml']\n",
      "[INFO: 2017-12-14 16:07:53 : pyresample.kd_tree] XArray or dask unavailable, some functionality missing.\n",
      "[DEBUG: 2017-12-14 16:07:53 : satpy.readers.yaml_reader] Assigning to nc_olci: ['/home/a000680/data/Sentinel-3/S3A_OL_1_EFR____20161029T091344_20161029T091644_20161029T112201_0179_010_207_1980_SVL_O_NR_002.SEN3/geo_coordinates.nc', '/home/a000680/data/Sentinel-3/S3A_OL_1_EFR____20171015T110346_20171015T110646_20171016T144640_0179_023_208_2520_LN1_O_NT_002.SEN3/geo_coordinates.nc', '/home/a000680/data/Sentinel-3/S3A_OL_1_EFR____20171014T112957_20171014T113257_20171015T152855_0179_023_194_2520_LN1_O_NT_002.SEN3/geo_coordinates.nc', '/home/a000680/data/Sentinel-3/S3A_OL_1_EFR____20171014T113257_20171014T113557_20171015T152918_0179_023_194_2700_LN1_O_NT_002.SEN3/geo_coordinates.nc', '/home/a000680/data/Sentinel-3/S3A_OL_1_EFR____20171012T104419_20171012T104719_20171013T150208_0179_023_165_2700_LN1_O_NT_002.SEN3/geo_coordinates.nc', '/home/a000680/data/Sentinel-3/S3A_OL_1_EFR____20171012T104119_20171012T104419_20171013T150146_0179_023_165_2520_LN1_O_NT_002.SEN3/geo_coordinates.nc', '/home/a000680/data/Sentinel-3/S3A_OL_1_EFR____20161029T091344_20161029T091644_20161029T112201_0179_010_207_1980_SVL_O_NR_002.SEN3/Oa02_radiance.nc', '/home/a000680/data/Sentinel-3/S3A_OL_1_EFR____20161029T091344_20161029T091644_20161029T112201_0179_010_207_1980_SVL_O_NR_002.SEN3/Oa05_radiance.nc', '/home/a000680/data/Sentinel-3/S3A_OL_1_EFR____20161029T091344_20161029T091644_20161029T112201_0179_010_207_1980_SVL_O_NR_002.SEN3/Oa17_radiance.nc', '/home/a000680/data/Sentinel-3/S3A_OL_1_EFR____20161029T091344_20161029T091644_20161029T112201_0179_010_207_1980_SVL_O_NR_002.SEN3/Oa03_radiance.nc', '/home/a000680/data/Sentinel-3/S3A_OL_1_EFR____20161029T091344_20161029T091644_20161029T112201_0179_010_207_1980_SVL_O_NR_002.SEN3/Oa10_radiance.nc', '/home/a000680/data/Sentinel-3/S3A_OL_1_EFR____20161029T091344_20161029T091644_20161029T112201_0179_010_207_1980_SVL_O_NR_002.SEN3/Oa14_radiance.nc', '/home/a000680/data/Sentinel-3/S3A_OL_1_EFR____20161029T091344_20161029T091644_20161029T112201_0179_010_207_1980_SVL_O_NR_002.SEN3/Oa04_radiance.nc', '/home/a000680/data/Sentinel-3/S3A_OL_1_EFR____20161029T091344_20161029T091644_20161029T112201_0179_010_207_1980_SVL_O_NR_002.SEN3/Oa08_radiance.nc', '/home/a000680/data/Sentinel-3/S3A_OL_1_EFR____20161029T091344_20161029T091644_20161029T112201_0179_010_207_1980_SVL_O_NR_002.SEN3/Oa13_radiance.nc', '/home/a000680/data/Sentinel-3/S3A_OL_1_EFR____20161029T091344_20161029T091644_20161029T112201_0179_010_207_1980_SVL_O_NR_002.SEN3/Oa18_radiance.nc', '/home/a000680/data/Sentinel-3/S3A_OL_1_EFR____20161029T091344_20161029T091644_20161029T112201_0179_010_207_1980_SVL_O_NR_002.SEN3/Oa19_radiance.nc', '/home/a000680/data/Sentinel-3/S3A_OL_1_EFR____20161029T091344_20161029T091644_20161029T112201_0179_010_207_1980_SVL_O_NR_002.SEN3/Oa12_radiance.nc', '/home/a000680/data/Sentinel-3/S3A_OL_1_EFR____20161029T091344_20161029T091644_20161029T112201_0179_010_207_1980_SVL_O_NR_002.SEN3/Oa20_radiance.nc', '/home/a000680/data/Sentinel-3/S3A_OL_1_EFR____20161029T091344_20161029T091644_20161029T112201_0179_010_207_1980_SVL_O_NR_002.SEN3/Oa16_radiance.nc', '/home/a000680/data/Sentinel-3/S3A_OL_1_EFR____20161029T091344_20161029T091644_20161029T112201_0179_010_207_1980_SVL_O_NR_002.SEN3/Oa09_radiance.nc', '/home/a000680/data/Sentinel-3/S3A_OL_1_EFR____20161029T091344_20161029T091644_20161029T112201_0179_010_207_1980_SVL_O_NR_002.SEN3/Oa01_radiance.nc', '/home/a000680/data/Sentinel-3/S3A_OL_1_EFR____20161029T091344_20161029T091644_20161029T112201_0179_010_207_1980_SVL_O_NR_002.SEN3/Oa11_radiance.nc', '/home/a000680/data/Sentinel-3/S3A_OL_1_EFR____20161029T091344_20161029T091644_20161029T112201_0179_010_207_1980_SVL_O_NR_002.SEN3/Oa07_radiance.nc', '/home/a000680/data/Sentinel-3/S3A_OL_1_EFR____20161029T091344_20161029T091644_20161029T112201_0179_010_207_1980_SVL_O_NR_002.SEN3/Oa15_radiance.nc', '/home/a000680/data/Sentinel-3/S3A_OL_1_EFR____20161029T091344_20161029T091644_20161029T112201_0179_010_207_1980_SVL_O_NR_002.SEN3/Oa06_radiance.nc', '/home/a000680/data/Sentinel-3/S3A_OL_1_EFR____20161029T091344_20161029T091644_20161029T112201_0179_010_207_1980_SVL_O_NR_002.SEN3/Oa21_radiance.nc', '/home/a000680/data/Sentinel-3/S3A_OL_1_EFR____20171015T110346_20171015T110646_20171016T144640_0179_023_208_2520_LN1_O_NT_002.SEN3/Oa02_radiance.nc', '/home/a000680/data/Sentinel-3/S3A_OL_1_EFR____20171015T110346_20171015T110646_20171016T144640_0179_023_208_2520_LN1_O_NT_002.SEN3/Oa05_radiance.nc', '/home/a000680/data/Sentinel-3/S3A_OL_1_EFR____20171015T110346_20171015T110646_20171016T144640_0179_023_208_2520_LN1_O_NT_002.SEN3/Oa17_radiance.nc', '/home/a000680/data/Sentinel-3/S3A_OL_1_EFR____20171015T110346_20171015T110646_20171016T144640_0179_023_208_2520_LN1_O_NT_002.SEN3/Oa03_radiance.nc', '/home/a000680/data/Sentinel-3/S3A_OL_1_EFR____20171015T110346_20171015T110646_20171016T144640_0179_023_208_2520_LN1_O_NT_002.SEN3/Oa10_radiance.nc', '/home/a000680/data/Sentinel-3/S3A_OL_1_EFR____20171015T110346_20171015T110646_20171016T144640_0179_023_208_2520_LN1_O_NT_002.SEN3/Oa14_radiance.nc', '/home/a000680/data/Sentinel-3/S3A_OL_1_EFR____20171015T110346_20171015T110646_20171016T144640_0179_023_208_2520_LN1_O_NT_002.SEN3/Oa04_radiance.nc', '/home/a000680/data/Sentinel-3/S3A_OL_1_EFR____20171015T110346_20171015T110646_20171016T144640_0179_023_208_2520_LN1_O_NT_002.SEN3/Oa08_radiance.nc', '/home/a000680/data/Sentinel-3/S3A_OL_1_EFR____20171015T110346_20171015T110646_20171016T144640_0179_023_208_2520_LN1_O_NT_002.SEN3/Oa13_radiance.nc', '/home/a000680/data/Sentinel-3/S3A_OL_1_EFR____20171015T110346_20171015T110646_20171016T144640_0179_023_208_2520_LN1_O_NT_002.SEN3/Oa18_radiance.nc', '/home/a000680/data/Sentinel-3/S3A_OL_1_EFR____20171015T110346_20171015T110646_20171016T144640_0179_023_208_2520_LN1_O_NT_002.SEN3/Oa19_radiance.nc', '/home/a000680/data/Sentinel-3/S3A_OL_1_EFR____20171015T110346_20171015T110646_20171016T144640_0179_023_208_2520_LN1_O_NT_002.SEN3/Oa12_radiance.nc', '/home/a000680/data/Sentinel-3/S3A_OL_1_EFR____20171015T110346_20171015T110646_20171016T144640_0179_023_208_2520_LN1_O_NT_002.SEN3/Oa20_radiance.nc', '/home/a000680/data/Sentinel-3/S3A_OL_1_EFR____20171015T110346_20171015T110646_20171016T144640_0179_023_208_2520_LN1_O_NT_002.SEN3/Oa16_radiance.nc', '/home/a000680/data/Sentinel-3/S3A_OL_1_EFR____20171015T110346_20171015T110646_20171016T144640_0179_023_208_2520_LN1_O_NT_002.SEN3/Oa09_radiance.nc', '/home/a000680/data/Sentinel-3/S3A_OL_1_EFR____20171015T110346_20171015T110646_20171016T144640_0179_023_208_2520_LN1_O_NT_002.SEN3/Oa01_radiance.nc', '/home/a000680/data/Sentinel-3/S3A_OL_1_EFR____20171015T110346_20171015T110646_20171016T144640_0179_023_208_2520_LN1_O_NT_002.SEN3/Oa11_radiance.nc', '/home/a000680/data/Sentinel-3/S3A_OL_1_EFR____20171015T110346_20171015T110646_20171016T144640_0179_023_208_2520_LN1_O_NT_002.SEN3/Oa07_radiance.nc', '/home/a000680/data/Sentinel-3/S3A_OL_1_EFR____20171015T110346_20171015T110646_20171016T144640_0179_023_208_2520_LN1_O_NT_002.SEN3/Oa15_radiance.nc', '/home/a000680/data/Sentinel-3/S3A_OL_1_EFR____20171015T110346_20171015T110646_20171016T144640_0179_023_208_2520_LN1_O_NT_002.SEN3/Oa06_radiance.nc', '/home/a000680/data/Sentinel-3/S3A_OL_1_EFR____20171015T110346_20171015T110646_20171016T144640_0179_023_208_2520_LN1_O_NT_002.SEN3/Oa21_radiance.nc', '/home/a000680/data/Sentinel-3/S3A_OL_1_EFR____20171014T112957_20171014T113257_20171015T152855_0179_023_194_2520_LN1_O_NT_002.SEN3/Oa02_radiance.nc', '/home/a000680/data/Sentinel-3/S3A_OL_1_EFR____20171014T112957_20171014T113257_20171015T152855_0179_023_194_2520_LN1_O_NT_002.SEN3/Oa05_radiance.nc', '/home/a000680/data/Sentinel-3/S3A_OL_1_EFR____20171014T112957_20171014T113257_20171015T152855_0179_023_194_2520_LN1_O_NT_002.SEN3/Oa17_radiance.nc', '/home/a000680/data/Sentinel-3/S3A_OL_1_EFR____20171014T112957_20171014T113257_20171015T152855_0179_023_194_2520_LN1_O_NT_002.SEN3/Oa03_radiance.nc', '/home/a000680/data/Sentinel-3/S3A_OL_1_EFR____20171014T112957_20171014T113257_20171015T152855_0179_023_194_2520_LN1_O_NT_002.SEN3/Oa10_radiance.nc', '/home/a000680/data/Sentinel-3/S3A_OL_1_EFR____20171014T112957_20171014T113257_20171015T152855_0179_023_194_2520_LN1_O_NT_002.SEN3/Oa14_radiance.nc', '/home/a000680/data/Sentinel-3/S3A_OL_1_EFR____20171014T112957_20171014T113257_20171015T152855_0179_023_194_2520_LN1_O_NT_002.SEN3/Oa04_radiance.nc', '/home/a000680/data/Sentinel-3/S3A_OL_1_EFR____20171014T112957_20171014T113257_20171015T152855_0179_023_194_2520_LN1_O_NT_002.SEN3/Oa08_radiance.nc', '/home/a000680/data/Sentinel-3/S3A_OL_1_EFR____20171014T112957_20171014T113257_20171015T152855_0179_023_194_2520_LN1_O_NT_002.SEN3/Oa13_radiance.nc', '/home/a000680/data/Sentinel-3/S3A_OL_1_EFR____20171014T112957_20171014T113257_20171015T152855_0179_023_194_2520_LN1_O_NT_002.SEN3/Oa18_radiance.nc', '/home/a000680/data/Sentinel-3/S3A_OL_1_EFR____20171014T112957_20171014T113257_20171015T152855_0179_023_194_2520_LN1_O_NT_002.SEN3/Oa19_radiance.nc', '/home/a000680/data/Sentinel-3/S3A_OL_1_EFR____20171014T112957_20171014T113257_20171015T152855_0179_023_194_2520_LN1_O_NT_002.SEN3/Oa12_radiance.nc', '/home/a000680/data/Sentinel-3/S3A_OL_1_EFR____20171014T112957_20171014T113257_20171015T152855_0179_023_194_2520_LN1_O_NT_002.SEN3/Oa20_radiance.nc', '/home/a000680/data/Sentinel-3/S3A_OL_1_EFR____20171014T112957_20171014T113257_20171015T152855_0179_023_194_2520_LN1_O_NT_002.SEN3/Oa16_radiance.nc', '/home/a000680/data/Sentinel-3/S3A_OL_1_EFR____20171014T112957_20171014T113257_20171015T152855_0179_023_194_2520_LN1_O_NT_002.SEN3/Oa09_radiance.nc', '/home/a000680/data/Sentinel-3/S3A_OL_1_EFR____20171014T112957_20171014T113257_20171015T152855_0179_023_194_2520_LN1_O_NT_002.SEN3/Oa01_radiance.nc', '/home/a000680/data/Sentinel-3/S3A_OL_1_EFR____20171014T112957_20171014T113257_20171015T152855_0179_023_194_2520_LN1_O_NT_002.SEN3/Oa11_radiance.nc', '/home/a000680/data/Sentinel-3/S3A_OL_1_EFR____20171014T112957_20171014T113257_20171015T152855_0179_023_194_2520_LN1_O_NT_002.SEN3/Oa07_radiance.nc', '/home/a000680/data/Sentinel-3/S3A_OL_1_EFR____20171014T112957_20171014T113257_20171015T152855_0179_023_194_2520_LN1_O_NT_002.SEN3/Oa15_radiance.nc', '/home/a000680/data/Sentinel-3/S3A_OL_1_EFR____20171014T112957_20171014T113257_20171015T152855_0179_023_194_2520_LN1_O_NT_002.SEN3/Oa06_radiance.nc', '/home/a000680/data/Sentinel-3/S3A_OL_1_EFR____20171014T112957_20171014T113257_20171015T152855_0179_023_194_2520_LN1_O_NT_002.SEN3/Oa21_radiance.nc', '/home/a000680/data/Sentinel-3/S3A_OL_1_EFR____20171014T113257_20171014T113557_20171015T152918_0179_023_194_2700_LN1_O_NT_002.SEN3/Oa02_radiance.nc', '/home/a000680/data/Sentinel-3/S3A_OL_1_EFR____20171014T113257_20171014T113557_20171015T152918_0179_023_194_2700_LN1_O_NT_002.SEN3/Oa05_radiance.nc', '/home/a000680/data/Sentinel-3/S3A_OL_1_EFR____20171014T113257_20171014T113557_20171015T152918_0179_023_194_2700_LN1_O_NT_002.SEN3/Oa17_radiance.nc', '/home/a000680/data/Sentinel-3/S3A_OL_1_EFR____20171014T113257_20171014T113557_20171015T152918_0179_023_194_2700_LN1_O_NT_002.SEN3/Oa03_radiance.nc', '/home/a000680/data/Sentinel-3/S3A_OL_1_EFR____20171014T113257_20171014T113557_20171015T152918_0179_023_194_2700_LN1_O_NT_002.SEN3/Oa10_radiance.nc', '/home/a000680/data/Sentinel-3/S3A_OL_1_EFR____20171014T113257_20171014T113557_20171015T152918_0179_023_194_2700_LN1_O_NT_002.SEN3/Oa14_radiance.nc', '/home/a000680/data/Sentinel-3/S3A_OL_1_EFR____20171014T113257_20171014T113557_20171015T152918_0179_023_194_2700_LN1_O_NT_002.SEN3/Oa04_radiance.nc', '/home/a000680/data/Sentinel-3/S3A_OL_1_EFR____20171014T113257_20171014T113557_20171015T152918_0179_023_194_2700_LN1_O_NT_002.SEN3/Oa08_radiance.nc', '/home/a000680/data/Sentinel-3/S3A_OL_1_EFR____20171014T113257_20171014T113557_20171015T152918_0179_023_194_2700_LN1_O_NT_002.SEN3/Oa13_radiance.nc', '/home/a000680/data/Sentinel-3/S3A_OL_1_EFR____20171014T113257_20171014T113557_20171015T152918_0179_023_194_2700_LN1_O_NT_002.SEN3/Oa18_radiance.nc', '/home/a000680/data/Sentinel-3/S3A_OL_1_EFR____20171014T113257_20171014T113557_20171015T152918_0179_023_194_2700_LN1_O_NT_002.SEN3/Oa19_radiance.nc', '/home/a000680/data/Sentinel-3/S3A_OL_1_EFR____20171014T113257_20171014T113557_20171015T152918_0179_023_194_2700_LN1_O_NT_002.SEN3/Oa12_radiance.nc', '/home/a000680/data/Sentinel-3/S3A_OL_1_EFR____20171014T113257_20171014T113557_20171015T152918_0179_023_194_2700_LN1_O_NT_002.SEN3/Oa20_radiance.nc', '/home/a000680/data/Sentinel-3/S3A_OL_1_EFR____20171014T113257_20171014T113557_20171015T152918_0179_023_194_2700_LN1_O_NT_002.SEN3/Oa16_radiance.nc', '/home/a000680/data/Sentinel-3/S3A_OL_1_EFR____20171014T113257_20171014T113557_20171015T152918_0179_023_194_2700_LN1_O_NT_002.SEN3/Oa09_radiance.nc', '/home/a000680/data/Sentinel-3/S3A_OL_1_EFR____20171014T113257_20171014T113557_20171015T152918_0179_023_194_2700_LN1_O_NT_002.SEN3/Oa01_radiance.nc', '/home/a000680/data/Sentinel-3/S3A_OL_1_EFR____20171014T113257_20171014T113557_20171015T152918_0179_023_194_2700_LN1_O_NT_002.SEN3/Oa11_radiance.nc', '/home/a000680/data/Sentinel-3/S3A_OL_1_EFR____20171014T113257_20171014T113557_20171015T152918_0179_023_194_2700_LN1_O_NT_002.SEN3/Oa07_radiance.nc', '/home/a000680/data/Sentinel-3/S3A_OL_1_EFR____20171014T113257_20171014T113557_20171015T152918_0179_023_194_2700_LN1_O_NT_002.SEN3/Oa15_radiance.nc', '/home/a000680/data/Sentinel-3/S3A_OL_1_EFR____20171014T113257_20171014T113557_20171015T152918_0179_023_194_2700_LN1_O_NT_002.SEN3/Oa06_radiance.nc', '/home/a000680/data/Sentinel-3/S3A_OL_1_EFR____20171014T113257_20171014T113557_20171015T152918_0179_023_194_2700_LN1_O_NT_002.SEN3/Oa21_radiance.nc', '/home/a000680/data/Sentinel-3/S3A_OL_1_EFR____20171012T104419_20171012T104719_20171013T150208_0179_023_165_2700_LN1_O_NT_002.SEN3/Oa02_radiance.nc', '/home/a000680/data/Sentinel-3/S3A_OL_1_EFR____20171012T104419_20171012T104719_20171013T150208_0179_023_165_2700_LN1_O_NT_002.SEN3/Oa05_radiance.nc', '/home/a000680/data/Sentinel-3/S3A_OL_1_EFR____20171012T104419_20171012T104719_20171013T150208_0179_023_165_2700_LN1_O_NT_002.SEN3/Oa17_radiance.nc', '/home/a000680/data/Sentinel-3/S3A_OL_1_EFR____20171012T104419_20171012T104719_20171013T150208_0179_023_165_2700_LN1_O_NT_002.SEN3/Oa03_radiance.nc', '/home/a000680/data/Sentinel-3/S3A_OL_1_EFR____20171012T104419_20171012T104719_20171013T150208_0179_023_165_2700_LN1_O_NT_002.SEN3/Oa10_radiance.nc', '/home/a000680/data/Sentinel-3/S3A_OL_1_EFR____20171012T104419_20171012T104719_20171013T150208_0179_023_165_2700_LN1_O_NT_002.SEN3/Oa14_radiance.nc', '/home/a000680/data/Sentinel-3/S3A_OL_1_EFR____20171012T104419_20171012T104719_20171013T150208_0179_023_165_2700_LN1_O_NT_002.SEN3/Oa04_radiance.nc', '/home/a000680/data/Sentinel-3/S3A_OL_1_EFR____20171012T104419_20171012T104719_20171013T150208_0179_023_165_2700_LN1_O_NT_002.SEN3/Oa08_radiance.nc', '/home/a000680/data/Sentinel-3/S3A_OL_1_EFR____20171012T104419_20171012T104719_20171013T150208_0179_023_165_2700_LN1_O_NT_002.SEN3/Oa13_radiance.nc', '/home/a000680/data/Sentinel-3/S3A_OL_1_EFR____20171012T104419_20171012T104719_20171013T150208_0179_023_165_2700_LN1_O_NT_002.SEN3/Oa18_radiance.nc', '/home/a000680/data/Sentinel-3/S3A_OL_1_EFR____20171012T104419_20171012T104719_20171013T150208_0179_023_165_2700_LN1_O_NT_002.SEN3/Oa19_radiance.nc', '/home/a000680/data/Sentinel-3/S3A_OL_1_EFR____20171012T104419_20171012T104719_20171013T150208_0179_023_165_2700_LN1_O_NT_002.SEN3/Oa12_radiance.nc', '/home/a000680/data/Sentinel-3/S3A_OL_1_EFR____20171012T104419_20171012T104719_20171013T150208_0179_023_165_2700_LN1_O_NT_002.SEN3/Oa20_radiance.nc', '/home/a000680/data/Sentinel-3/S3A_OL_1_EFR____20171012T104419_20171012T104719_20171013T150208_0179_023_165_2700_LN1_O_NT_002.SEN3/Oa16_radiance.nc', '/home/a000680/data/Sentinel-3/S3A_OL_1_EFR____20171012T104419_20171012T104719_20171013T150208_0179_023_165_2700_LN1_O_NT_002.SEN3/Oa09_radiance.nc', '/home/a000680/data/Sentinel-3/S3A_OL_1_EFR____20171012T104419_20171012T104719_20171013T150208_0179_023_165_2700_LN1_O_NT_002.SEN3/Oa01_radiance.nc', '/home/a000680/data/Sentinel-3/S3A_OL_1_EFR____20171012T104419_20171012T104719_20171013T150208_0179_023_165_2700_LN1_O_NT_002.SEN3/Oa11_radiance.nc', '/home/a000680/data/Sentinel-3/S3A_OL_1_EFR____20171012T104419_20171012T104719_20171013T150208_0179_023_165_2700_LN1_O_NT_002.SEN3/Oa07_radiance.nc', '/home/a000680/data/Sentinel-3/S3A_OL_1_EFR____20171012T104419_20171012T104719_20171013T150208_0179_023_165_2700_LN1_O_NT_002.SEN3/Oa15_radiance.nc', '/home/a000680/data/Sentinel-3/S3A_OL_1_EFR____20171012T104419_20171012T104719_20171013T150208_0179_023_165_2700_LN1_O_NT_002.SEN3/Oa06_radiance.nc', '/home/a000680/data/Sentinel-3/S3A_OL_1_EFR____20171012T104419_20171012T104719_20171013T150208_0179_023_165_2700_LN1_O_NT_002.SEN3/Oa21_radiance.nc', '/home/a000680/data/Sentinel-3/S3A_OL_1_EFR____20171012T104119_20171012T104419_20171013T150146_0179_023_165_2520_LN1_O_NT_002.SEN3/Oa02_radiance.nc', '/home/a000680/data/Sentinel-3/S3A_OL_1_EFR____20171012T104119_20171012T104419_20171013T150146_0179_023_165_2520_LN1_O_NT_002.SEN3/Oa05_radiance.nc', '/home/a000680/data/Sentinel-3/S3A_OL_1_EFR____20171012T104119_20171012T104419_20171013T150146_0179_023_165_2520_LN1_O_NT_002.SEN3/Oa17_radiance.nc', '/home/a000680/data/Sentinel-3/S3A_OL_1_EFR____20171012T104119_20171012T104419_20171013T150146_0179_023_165_2520_LN1_O_NT_002.SEN3/Oa03_radiance.nc', '/home/a000680/data/Sentinel-3/S3A_OL_1_EFR____20171012T104119_20171012T104419_20171013T150146_0179_023_165_2520_LN1_O_NT_002.SEN3/Oa10_radiance.nc', '/home/a000680/data/Sentinel-3/S3A_OL_1_EFR____20171012T104119_20171012T104419_20171013T150146_0179_023_165_2520_LN1_O_NT_002.SEN3/Oa14_radiance.nc', '/home/a000680/data/Sentinel-3/S3A_OL_1_EFR____20171012T104119_20171012T104419_20171013T150146_0179_023_165_2520_LN1_O_NT_002.SEN3/Oa04_radiance.nc', '/home/a000680/data/Sentinel-3/S3A_OL_1_EFR____20171012T104119_20171012T104419_20171013T150146_0179_023_165_2520_LN1_O_NT_002.SEN3/Oa08_radiance.nc', '/home/a000680/data/Sentinel-3/S3A_OL_1_EFR____20171012T104119_20171012T104419_20171013T150146_0179_023_165_2520_LN1_O_NT_002.SEN3/Oa13_radiance.nc', '/home/a000680/data/Sentinel-3/S3A_OL_1_EFR____20171012T104119_20171012T104419_20171013T150146_0179_023_165_2520_LN1_O_NT_002.SEN3/Oa18_radiance.nc', '/home/a000680/data/Sentinel-3/S3A_OL_1_EFR____20171012T104119_20171012T104419_20171013T150146_0179_023_165_2520_LN1_O_NT_002.SEN3/Oa19_radiance.nc', '/home/a000680/data/Sentinel-3/S3A_OL_1_EFR____20171012T104119_20171012T104419_20171013T150146_0179_023_165_2520_LN1_O_NT_002.SEN3/Oa12_radiance.nc', '/home/a000680/data/Sentinel-3/S3A_OL_1_EFR____20171012T104119_20171012T104419_20171013T150146_0179_023_165_2520_LN1_O_NT_002.SEN3/Oa20_radiance.nc', '/home/a000680/data/Sentinel-3/S3A_OL_1_EFR____20171012T104119_20171012T104419_20171013T150146_0179_023_165_2520_LN1_O_NT_002.SEN3/Oa16_radiance.nc', '/home/a000680/data/Sentinel-3/S3A_OL_1_EFR____20171012T104119_20171012T104419_20171013T150146_0179_023_165_2520_LN1_O_NT_002.SEN3/Oa09_radiance.nc', '/home/a000680/data/Sentinel-3/S3A_OL_1_EFR____20171012T104119_20171012T104419_20171013T150146_0179_023_165_2520_LN1_O_NT_002.SEN3/Oa01_radiance.nc', '/home/a000680/data/Sentinel-3/S3A_OL_1_EFR____20171012T104119_20171012T104419_20171013T150146_0179_023_165_2520_LN1_O_NT_002.SEN3/Oa11_radiance.nc', '/home/a000680/data/Sentinel-3/S3A_OL_1_EFR____20171012T104119_20171012T104419_20171013T150146_0179_023_165_2520_LN1_O_NT_002.SEN3/Oa07_radiance.nc', '/home/a000680/data/Sentinel-3/S3A_OL_1_EFR____20171012T104119_20171012T104419_20171013T150146_0179_023_165_2520_LN1_O_NT_002.SEN3/Oa15_radiance.nc', '/home/a000680/data/Sentinel-3/S3A_OL_1_EFR____20171012T104119_20171012T104419_20171013T150146_0179_023_165_2520_LN1_O_NT_002.SEN3/Oa06_radiance.nc', '/home/a000680/data/Sentinel-3/S3A_OL_1_EFR____20171012T104119_20171012T104419_20171013T150146_0179_023_165_2520_LN1_O_NT_002.SEN3/Oa21_radiance.nc', '/home/a000680/data/Sentinel-3/S3A_OL_1_EFR____20161029T091344_20161029T091644_20161029T112201_0179_010_207_1980_SVL_O_NR_002.SEN3/tie_geometries.nc', '/home/a000680/data/Sentinel-3/S3A_OL_1_EFR____20171015T110346_20171015T110646_20171016T144640_0179_023_208_2520_LN1_O_NT_002.SEN3/tie_geometries.nc', '/home/a000680/data/Sentinel-3/S3A_OL_1_EFR____20171014T112957_20171014T113257_20171015T152855_0179_023_194_2520_LN1_O_NT_002.SEN3/tie_geometries.nc', '/home/a000680/data/Sentinel-3/S3A_OL_1_EFR____20171014T113257_20171014T113557_20171015T152918_0179_023_194_2700_LN1_O_NT_002.SEN3/tie_geometries.nc', '/home/a000680/data/Sentinel-3/S3A_OL_1_EFR____20171012T104419_20171012T104719_20171013T150208_0179_023_165_2700_LN1_O_NT_002.SEN3/tie_geometries.nc', '/home/a000680/data/Sentinel-3/S3A_OL_1_EFR____20171012T104119_20171012T104419_20171013T150146_0179_023_165_2520_LN1_O_NT_002.SEN3/tie_geometries.nc']\n"
     ]
    },
    {
     "name": "stderr",
     "output_type": "stream",
     "text": [
      "[DEBUG: 2017-12-14 16:07:54 : satpy.composites] Looking for composites config file olci.yaml\n",
      "[DEBUG: 2017-12-14 16:07:54 : satpy.composites] Looking for composites config file visir.yaml\n"
     ]
    }
   ],
   "source": [
    "scn = Scene(\n",
    "     sensor='olci',\n",
    "     start_time=datetime(2017, 10, 15, 11, 3),\n",
    "     end_time=datetime(2017, 10, 15, 11, 6),\n",
    "     base_dir=DATADIR,\n",
    "     reader='olci'\n",
    ")"
   ]
  },
  {
   "cell_type": "code",
   "execution_count": 3,
   "metadata": {},
   "outputs": [
    {
     "name": "stderr",
     "output_type": "stream",
     "text": [
      "[DEBUG: 2017-12-14 16:07:55 : satpy.readers.yaml_reader] No coordinates found for DatasetID(name='latitude', wavelength=None, resolution=300, polarization=None, calibration=None, modifiers=())\n",
      "[DEBUG: 2017-12-14 16:07:55 : satpy.readers.nc_olci] Reading latitude.\n",
      "[DEBUG: 2017-12-14 16:07:55 : satpy.readers.yaml_reader] No coordinates found for DatasetID(name='longitude', wavelength=None, resolution=300, polarization=None, calibration=None, modifiers=())\n",
      "[DEBUG: 2017-12-14 16:07:55 : satpy.readers.nc_olci] Reading longitude.\n",
      "[DEBUG: 2017-12-14 16:07:56 : satpy.readers.nc_olci] Reading Oa08.\n",
      "[DEBUG: 2017-12-14 16:07:57 : satpy.readers.nc_olci] Reading Oa06.\n",
      "[DEBUG: 2017-12-14 16:07:59 : satpy.readers.nc_olci] Reading Oa03.\n",
      "[DEBUG: 2017-12-14 16:08:00 : satpy.composites] Applying sun zen correction\n",
      "[DEBUG: 2017-12-14 16:08:00 : satpy.composites] Computing sun zenith angles.\n",
      "[DEBUG: 2017-12-14 16:08:02 : satpy.composites] Apply the effective solar atmospheric path length correction method by Li and Shibata\n",
      "[DEBUG: 2017-12-14 16:08:05 : satpy.composites] Sun-zenith correction applied. Computation time:   4.9 (sec)\n",
      "[DEBUG: 2017-12-14 16:08:05 : satpy.composites] Applying sun zen correction\n",
      "[DEBUG: 2017-12-14 16:08:05 : satpy.composites] Apply the effective solar atmospheric path length correction method by Li and Shibata\n",
      "[DEBUG: 2017-12-14 16:08:07 : satpy.composites] Sun-zenith correction applied. Computation time:   2.4 (sec)\n",
      "[DEBUG: 2017-12-14 16:08:07 : satpy.composites] Applying sun zen correction\n",
      "[DEBUG: 2017-12-14 16:08:07 : satpy.composites] Apply the effective solar atmospheric path length correction method by Li and Shibata\n",
      "[DEBUG: 2017-12-14 16:08:09 : satpy.composites] Sun-zenith correction applied. Computation time:   2.4 (sec)\n",
      "[DEBUG: 2017-12-14 16:08:15 : satpy.writers] Enhancement configuration options: [{'name': 'cira_stretch', 'method': <function cira_stretch at 0x38c6398>}]\n",
      "[DEBUG: 2017-12-14 16:08:15 : satpy.enhancements] Applying the cira-stretch\n",
      "[DEBUG: 2017-12-14 16:08:20 : satpy.writers] Enhancement configuration options: [{'name': 'cira_stretch', 'method': <function cira_stretch at 0x38c6398>}]\n",
      "[DEBUG: 2017-12-14 16:08:20 : satpy.enhancements] Applying the cira-stretch\n",
      "[DEBUG: 2017-12-14 16:08:24 : satpy.writers.simple_image] Saving to image: ./olci_20171015_westafrica_true_color_raw.png\n"
     ]
    }
   ],
   "source": [
    "scn.load(['true_color_raw'])\n",
    "scn.show('true_color_raw')\n",
    "scn.save_dataset('true_color_raw', './olci_20171015_westafrica_true_color_raw.png')"
   ]
  },
  {
   "cell_type": "code",
   "execution_count": 6,
   "metadata": {},
   "outputs": [
    {
     "name": "stderr",
     "output_type": "stream",
     "text": [
      "[DEBUG: 2017-12-14 15:41:56 : satpy.readers.yaml_reader] No coordinates found for DatasetID(name='latitude', wavelength=None, resolution=300, polarization=None, calibration=None, modifiers=())\n",
      "[DEBUG: 2017-12-14 15:41:56 : satpy.readers.nc_olci] Reading latitude.\n",
      "[DEBUG: 2017-12-14 15:41:57 : satpy.readers.yaml_reader] No coordinates found for DatasetID(name='longitude', wavelength=None, resolution=300, polarization=None, calibration=None, modifiers=())\n",
      "[DEBUG: 2017-12-14 15:41:57 : satpy.readers.nc_olci] Reading longitude.\n",
      "[DEBUG: 2017-12-14 15:41:57 : satpy.readers.nc_olci] Reading satellite_zenith_angle.\n",
      "[DEBUG: 2017-12-14 15:42:03 : satpy.readers.nc_olci] Reading satellite_azimuth_angle.\n",
      "[DEBUG: 2017-12-14 15:42:03 : satpy.readers.nc_olci] Reading solar_zenith_angle.\n",
      "[DEBUG: 2017-12-14 15:42:09 : satpy.readers.nc_olci] Reading Oa06.\n",
      "[DEBUG: 2017-12-14 15:42:10 : satpy.readers.nc_olci] Reading solar_azimuth_angle.\n",
      "[DEBUG: 2017-12-14 15:42:10 : satpy.readers.nc_olci] Reading Oa03.\n",
      "[DEBUG: 2017-12-14 15:42:11 : satpy.readers.nc_olci] Reading Oa08.\n",
      "[DEBUG: 2017-12-14 15:42:12 : satpy.composites] Applying sun zen correction\n",
      "[DEBUG: 2017-12-14 15:42:12 : satpy.composites] Computing sun zenith angles.\n",
      "[DEBUG: 2017-12-14 15:42:14 : satpy.composites] Apply the effective solar atmospheric path length correction method by Li and Shibata\n",
      "[DEBUG: 2017-12-14 15:42:16 : satpy.composites] Sun-zenith correction applied. Computation time:   4.4 (sec)\n",
      "[DEBUG: 2017-12-14 15:42:16 : satpy.composites] Applying sun zen correction\n",
      "[DEBUG: 2017-12-14 15:42:17 : satpy.composites] Apply the standard sun-zenith correction [1/cos(sunz)]\n",
      "[DEBUG: 2017-12-14 15:42:18 : satpy.composites] Sun-zenith correction applied. Computation time:   1.7 (sec)\n",
      "[INFO: 2017-12-14 15:42:18 : satpy.composites] Removing Rayleigh scattering and aerosol absorption\n",
      "[INFO: 2017-12-14 15:42:20 : pyspectral.rayleigh] Atmosphere chosen: tropical\n",
      "[DEBUG: 2017-12-14 15:42:20 : pyspectral.rayleigh] LUT filename: /home/a000680/.local/share/pyspectral/marine_tropical_aerosol/rayleigh_lut_tropical.h5\n",
      "[DEBUG: 2017-12-14 15:42:20 : pyspectral.rsr_reader] Filename: /home/a000680/.local/share/pyspectral/rsr_olci_Sentinel-3A.h5\n",
      "[DEBUG: 2017-12-14 15:42:20 : pyspectral.rsr_reader] Filename: /home/a000680/.local/share/pyspectral/rsr_olci_Sentinel-3A.h5\n",
      "[DEBUG: 2017-12-14 15:42:20 : pyspectral.rsr_reader] No detectors found - assume only one...\n",
      "[DEBUG: 2017-12-14 15:42:22 : pyspectral.rayleigh] Time - Interpolation: 0.964693\n",
      "[DEBUG: 2017-12-14 15:42:23 : satpy.composites] Applying sun zen correction\n",
      "[DEBUG: 2017-12-14 15:42:23 : satpy.composites] Apply the effective solar atmospheric path length correction method by Li and Shibata\n",
      "[DEBUG: 2017-12-14 15:42:25 : satpy.composites] Sun-zenith correction applied. Computation time:   2.4 (sec)\n",
      "[INFO: 2017-12-14 15:42:25 : satpy.composites] Removing Rayleigh scattering and aerosol absorption\n",
      "[INFO: 2017-12-14 15:42:27 : pyspectral.rayleigh] Atmosphere chosen: tropical\n",
      "[DEBUG: 2017-12-14 15:42:27 : pyspectral.rayleigh] LUT filename: /home/a000680/.local/share/pyspectral/marine_tropical_aerosol/rayleigh_lut_tropical.h5\n",
      "[DEBUG: 2017-12-14 15:42:27 : pyspectral.rsr_reader] Filename: /home/a000680/.local/share/pyspectral/rsr_olci_Sentinel-3A.h5\n",
      "[DEBUG: 2017-12-14 15:42:27 : pyspectral.rsr_reader] Filename: /home/a000680/.local/share/pyspectral/rsr_olci_Sentinel-3A.h5\n",
      "[DEBUG: 2017-12-14 15:42:27 : pyspectral.rsr_reader] No detectors found - assume only one...\n",
      "[DEBUG: 2017-12-14 15:42:29 : pyspectral.rayleigh] Time - Interpolation: 0.905027\n",
      "[DEBUG: 2017-12-14 15:42:29 : satpy.composites] Applying sun zen correction\n",
      "[DEBUG: 2017-12-14 15:42:30 : satpy.composites] Apply the effective solar atmospheric path length correction method by Li and Shibata\n",
      "[DEBUG: 2017-12-14 15:42:32 : satpy.composites] Sun-zenith correction applied. Computation time:   2.4 (sec)\n",
      "[INFO: 2017-12-14 15:42:32 : satpy.composites] Removing Rayleigh scattering and aerosol absorption\n",
      "[INFO: 2017-12-14 15:42:33 : pyspectral.rayleigh] Atmosphere chosen: tropical\n",
      "[DEBUG: 2017-12-14 15:42:33 : pyspectral.rayleigh] LUT filename: /home/a000680/.local/share/pyspectral/marine_tropical_aerosol/rayleigh_lut_tropical.h5\n",
      "[DEBUG: 2017-12-14 15:42:33 : pyspectral.rsr_reader] Filename: /home/a000680/.local/share/pyspectral/rsr_olci_Sentinel-3A.h5\n",
      "[DEBUG: 2017-12-14 15:42:33 : pyspectral.rsr_reader] Filename: /home/a000680/.local/share/pyspectral/rsr_olci_Sentinel-3A.h5\n",
      "[DEBUG: 2017-12-14 15:42:33 : pyspectral.rsr_reader] No detectors found - assume only one...\n",
      "[DEBUG: 2017-12-14 15:42:36 : pyspectral.rayleigh] Time - Interpolation: 0.924117\n"
     ]
    }
   ],
   "source": [
    "composite_mt = 'true_color_marine_tropical'\n",
    "scn.load([composite_mt])"
   ]
  },
  {
   "cell_type": "code",
   "execution_count": 7,
   "metadata": {},
   "outputs": [
    {
     "name": "stderr",
     "output_type": "stream",
     "text": [
      "[DEBUG: 2017-12-14 15:42:41 : satpy.readers.yaml_reader] No coordinates found for DatasetID(name='latitude', wavelength=None, resolution=300, polarization=None, calibration=None, modifiers=())\n",
      "[DEBUG: 2017-12-14 15:42:41 : satpy.readers.nc_olci] Reading latitude.\n",
      "[DEBUG: 2017-12-14 15:42:42 : satpy.readers.yaml_reader] No coordinates found for DatasetID(name='longitude', wavelength=None, resolution=300, polarization=None, calibration=None, modifiers=())\n",
      "[DEBUG: 2017-12-14 15:42:42 : satpy.readers.nc_olci] Reading longitude.\n",
      "[DEBUG: 2017-12-14 15:42:42 : satpy.readers.nc_olci] Reading satellite_zenith_angle.\n",
      "[DEBUG: 2017-12-14 15:42:42 : satpy.readers.nc_olci] Reading satellite_azimuth_angle.\n",
      "[DEBUG: 2017-12-14 15:42:42 : satpy.readers.nc_olci] Reading solar_zenith_angle.\n",
      "[DEBUG: 2017-12-14 15:42:43 : satpy.readers.nc_olci] Reading Oa06.\n",
      "[DEBUG: 2017-12-14 15:42:44 : satpy.readers.nc_olci] Reading solar_azimuth_angle.\n",
      "[DEBUG: 2017-12-14 15:42:44 : satpy.readers.nc_olci] Reading Oa03.\n",
      "[DEBUG: 2017-12-14 15:42:45 : satpy.readers.nc_olci] Reading Oa08.\n",
      "[DEBUG: 2017-12-14 15:42:46 : satpy.composites] Applying sun zen correction\n",
      "[DEBUG: 2017-12-14 15:42:46 : satpy.composites] Apply the effective solar atmospheric path length correction method by Li and Shibata\n",
      "[DEBUG: 2017-12-14 15:42:48 : satpy.composites] Sun-zenith correction applied. Computation time:   2.4 (sec)\n",
      "[DEBUG: 2017-12-14 15:42:48 : satpy.composites] Applying sun zen correction\n",
      "[DEBUG: 2017-12-14 15:42:48 : satpy.composites] Apply the effective solar atmospheric path length correction method by Li and Shibata\n",
      "[DEBUG: 2017-12-14 15:42:51 : satpy.composites] Sun-zenith correction applied. Computation time:   2.3 (sec)\n",
      "[DEBUG: 2017-12-14 15:42:51 : satpy.composites] Applying sun zen correction\n",
      "[DEBUG: 2017-12-14 15:42:51 : satpy.composites] Apply the standard sun-zenith correction [1/cos(sunz)]\n",
      "[DEBUG: 2017-12-14 15:42:52 : satpy.composites] Sun-zenith correction applied. Computation time:   1.8 (sec)\n",
      "[INFO: 2017-12-14 15:42:52 : satpy.composites] Removing Rayleigh scattering and aerosol absorption\n",
      "[INFO: 2017-12-14 15:42:54 : pyspectral.rayleigh] Atmosphere chosen: tropical\n",
      "[DEBUG: 2017-12-14 15:42:54 : pyspectral.rayleigh] LUT filename: /home/a000680/.local/share/pyspectral/desert_aerosol/rayleigh_lut_tropical.h5\n",
      "[DEBUG: 2017-12-14 15:42:54 : pyspectral.rsr_reader] Filename: /home/a000680/.local/share/pyspectral/rsr_olci_Sentinel-3A.h5\n",
      "[DEBUG: 2017-12-14 15:42:54 : pyspectral.rsr_reader] Filename: /home/a000680/.local/share/pyspectral/rsr_olci_Sentinel-3A.h5\n",
      "[DEBUG: 2017-12-14 15:42:54 : pyspectral.rsr_reader] No detectors found - assume only one...\n",
      "[DEBUG: 2017-12-14 15:42:56 : pyspectral.rayleigh] Time - Interpolation: 0.972309\n",
      "[INFO: 2017-12-14 15:42:57 : satpy.composites] Removing Rayleigh scattering and aerosol absorption\n",
      "[INFO: 2017-12-14 15:42:58 : pyspectral.rayleigh] Atmosphere chosen: tropical\n",
      "[DEBUG: 2017-12-14 15:42:58 : pyspectral.rayleigh] LUT filename: /home/a000680/.local/share/pyspectral/desert_aerosol/rayleigh_lut_tropical.h5\n",
      "[DEBUG: 2017-12-14 15:42:58 : pyspectral.rsr_reader] Filename: /home/a000680/.local/share/pyspectral/rsr_olci_Sentinel-3A.h5\n",
      "[DEBUG: 2017-12-14 15:42:58 : pyspectral.rsr_reader] Filename: /home/a000680/.local/share/pyspectral/rsr_olci_Sentinel-3A.h5\n",
      "[DEBUG: 2017-12-14 15:42:58 : pyspectral.rsr_reader] No detectors found - assume only one...\n",
      "[DEBUG: 2017-12-14 15:43:00 : pyspectral.rayleigh] Time - Interpolation: 0.911353\n",
      "[DEBUG: 2017-12-14 15:43:01 : satpy.composites] Applying sun zen correction\n",
      "[DEBUG: 2017-12-14 15:43:01 : satpy.composites] Apply the effective solar atmospheric path length correction method by Li and Shibata\n",
      "[DEBUG: 2017-12-14 15:43:04 : satpy.composites] Sun-zenith correction applied. Computation time:   2.4 (sec)\n",
      "[INFO: 2017-12-14 15:43:04 : satpy.composites] Removing Rayleigh scattering and aerosol absorption\n",
      "[INFO: 2017-12-14 15:43:05 : pyspectral.rayleigh] Atmosphere chosen: tropical\n",
      "[DEBUG: 2017-12-14 15:43:05 : pyspectral.rayleigh] LUT filename: /home/a000680/.local/share/pyspectral/desert_aerosol/rayleigh_lut_tropical.h5\n",
      "[DEBUG: 2017-12-14 15:43:05 : pyspectral.rsr_reader] Filename: /home/a000680/.local/share/pyspectral/rsr_olci_Sentinel-3A.h5\n",
      "[DEBUG: 2017-12-14 15:43:05 : pyspectral.rsr_reader] Filename: /home/a000680/.local/share/pyspectral/rsr_olci_Sentinel-3A.h5\n",
      "[DEBUG: 2017-12-14 15:43:05 : pyspectral.rsr_reader] No detectors found - assume only one...\n",
      "[DEBUG: 2017-12-14 15:43:07 : pyspectral.rayleigh] Time - Interpolation: 0.905949\n"
     ]
    }
   ],
   "source": [
    "composite_d = 'true_color_desert'\n",
    "scn.load([composite_d])"
   ]
  },
  {
   "cell_type": "code",
   "execution_count": 8,
   "metadata": {},
   "outputs": [
    {
     "name": "stderr",
     "output_type": "stream",
     "text": [
      "[DEBUG: 2017-12-14 15:43:14 : satpy.writers] Enhancement configuration options: [{'name': 'cira_stretch', 'method': <function cira_stretch at 0x5addaa0>}]\n",
      "[DEBUG: 2017-12-14 15:43:14 : satpy.enhancements] Applying the cira-stretch\n",
      "/home/a000680/usr/src/satpy/satpy/enhancements/__init__.py:51: RuntimeWarning: invalid value encountered in log10\n",
      "  np.log10(chn.data, out=chn.data)\n"
     ]
    }
   ],
   "source": [
    "scn.show(composite_d)"
   ]
  },
  {
   "cell_type": "code",
   "execution_count": 9,
   "metadata": {},
   "outputs": [
    {
     "name": "stderr",
     "output_type": "stream",
     "text": [
      "[DEBUG: 2017-12-14 15:43:23 : satpy.writers] Enhancement configuration options: [{'name': 'cira_stretch', 'method': <function cira_stretch at 0x5addaa0>}]\n",
      "[DEBUG: 2017-12-14 15:43:23 : satpy.enhancements] Applying the cira-stretch\n"
     ]
    }
   ],
   "source": [
    "scn.show(composite_mt)"
   ]
  },
  {
   "cell_type": "code",
   "execution_count": 11,
   "metadata": {},
   "outputs": [],
   "source": [
    "import sys\n",
    "sys.path.insert(0, '/home/a000680/dev')\n",
    "from landsea_mask_from_usgs import get_landuse_from_tiles, get_lonlat_indices"
   ]
  },
  {
   "cell_type": "code",
   "execution_count": 14,
   "metadata": {},
   "outputs": [],
   "source": [
    "luse = get_landuse_from_tiles()\n",
    "lons, lats = scn[composite_d].info['area'].lons.data, scn[composite_d].info['area'].lats.data\n",
    "lonlat_idx = get_lonlat_indices(lons, lats, luse.shape)"
   ]
  },
  {
   "cell_type": "code",
   "execution_count": 17,
   "metadata": {},
   "outputs": [],
   "source": [
    "data_shape = lons.shape\n",
    "landuse = luse.ravel()[lonlat_idx.ravel()].compute()\n",
    "landuse = landuse.reshape(data_shape)\n",
    "import numpy as np\n",
    "landseamask = np.where(np.equal(landuse, 16), 0, 255).astype('uint8')"
   ]
  },
  {
   "cell_type": "code",
   "execution_count": 20,
   "metadata": {},
   "outputs": [],
   "source": [
    "x = scn[composite_d].copy()"
   ]
  },
  {
   "cell_type": "code",
   "execution_count": 24,
   "metadata": {},
   "outputs": [],
   "source": [
    "x.info['name'] = \"true_color_desert_and_sea\""
   ]
  },
  {
   "cell_type": "code",
   "execution_count": 25,
   "metadata": {},
   "outputs": [],
   "source": [
    "x[:,~landseamask.astype(np.bool)]=scn[composite_mt][:,~landseamask.astype(np.bool)]"
   ]
  },
  {
   "cell_type": "code",
   "execution_count": 27,
   "metadata": {},
   "outputs": [],
   "source": [
    "scn['true_color_desert_and_sea'] = x"
   ]
  },
  {
   "cell_type": "code",
   "execution_count": 28,
   "metadata": {},
   "outputs": [
    {
     "name": "stderr",
     "output_type": "stream",
     "text": [
      "[DEBUG: 2017-12-14 15:53:19 : satpy.writers] Enhancement configuration options: [{'name': 'cira_stretch', 'method': <function cira_stretch at 0x5addaa0>}]\n",
      "[DEBUG: 2017-12-14 15:53:19 : satpy.enhancements] Applying the cira-stretch\n"
     ]
    }
   ],
   "source": [
    "scn.show('true_color_desert_and_sea')"
   ]
  },
  {
   "cell_type": "code",
   "execution_count": 29,
   "metadata": {},
   "outputs": [
    {
     "name": "stderr",
     "output_type": "stream",
     "text": [
      "[DEBUG: 2017-12-14 16:01:16 : satpy.writers] Enhancement configuration options: [{'name': 'cira_stretch', 'method': <function cira_stretch at 0x5addaa0>}]\n",
      "[DEBUG: 2017-12-14 16:01:16 : satpy.enhancements] Applying the cira-stretch\n",
      "[DEBUG: 2017-12-14 16:01:23 : satpy.writers.simple_image] Saving to image: ./olci_20171015_true_color_desert_and_sea.png\n"
     ]
    }
   ],
   "source": [
    "scn.save_dataset('true_color_desert_and_sea', './olci_20171015_westafrica_true_color_desert_and_sea.png')"
   ]
  }
 ],
 "metadata": {
  "kernelspec": {
   "display_name": "Python 2",
   "language": "python",
   "name": "python2"
  },
  "language_info": {
   "codemirror_mode": {
    "name": "ipython",
    "version": 2
   },
   "file_extension": ".py",
   "mimetype": "text/x-python",
   "name": "python",
   "nbconvert_exporter": "python",
   "pygments_lexer": "ipython2",
   "version": "2.7.5"
  }
 },
 "nbformat": 4,
 "nbformat_minor": 2
}
