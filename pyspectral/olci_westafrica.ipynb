{
 "cells": [
  {
   "cell_type": "markdown",
   "metadata": {},
   "source": [
    "# Sand plumes over Africa seen by OLCI"
   ]
  },
  {
   "cell_type": "code",
   "execution_count": 1,
   "metadata": {},
   "outputs": [],
   "source": [
    "from datetime import datetime\n",
    "from satpy.scene import Scene\n",
    "from satpy.utils import debug_on\n",
    "debug_on()\n",
    "\n",
    "areaid = 'westafrica'\n",
    "DATADIR = \"/home/a000680/data/Sentinel-3\""
   ]
  },
  {
   "cell_type": "code",
   "execution_count": 2,
   "metadata": {},
   "outputs": [
    {
     "name": "stderr",
     "output_type": "stream",
     "text": [
      "[DEBUG: 2017-12-19 12:00:09 : satpy.scene] Setting 'PPP_CONFIG_DIR' to '/home/a000680/usr/src/mpop/etc'\n",
      "[DEBUG: 2017-12-19 12:00:09 : satpy.readers] Reading ['/home/a000680/usr/src/satpy/satpy/etc/readers/olci.yaml']\n",
      "[DEBUG: 2017-12-19 12:00:09 : satpy.readers.yaml_reader] Assigning to nc_olci: ['/home/a000680/data/Sentinel-3/S3A_OL_1_EFR____20161029T091344_20161029T091644_20161029T112201_0179_010_207_1980_SVL_O_NR_002.SEN3/geo_coordinates.nc', '/home/a000680/data/Sentinel-3/S3A_OL_1_EFR____20171015T110346_20171015T110646_20171016T144640_0179_023_208_2520_LN1_O_NT_002.SEN3/geo_coordinates.nc', '/home/a000680/data/Sentinel-3/S3A_OL_1_EFR____20171014T112957_20171014T113257_20171015T152855_0179_023_194_2520_LN1_O_NT_002.SEN3/geo_coordinates.nc', '/home/a000680/data/Sentinel-3/S3A_OL_1_EFR____20171014T113257_20171014T113557_20171015T152918_0179_023_194_2700_LN1_O_NT_002.SEN3/geo_coordinates.nc', '/home/a000680/data/Sentinel-3/S3A_OL_1_EFR____20171012T104419_20171012T104719_20171013T150208_0179_023_165_2700_LN1_O_NT_002.SEN3/geo_coordinates.nc', '/home/a000680/data/Sentinel-3/S3A_OL_1_EFR____20171012T104119_20171012T104419_20171013T150146_0179_023_165_2520_LN1_O_NT_002.SEN3/geo_coordinates.nc', '/home/a000680/data/Sentinel-3/S3A_OL_1_EFR____20161029T091344_20161029T091644_20161029T112201_0179_010_207_1980_SVL_O_NR_002.SEN3/Oa02_radiance.nc', '/home/a000680/data/Sentinel-3/S3A_OL_1_EFR____20161029T091344_20161029T091644_20161029T112201_0179_010_207_1980_SVL_O_NR_002.SEN3/Oa05_radiance.nc', '/home/a000680/data/Sentinel-3/S3A_OL_1_EFR____20161029T091344_20161029T091644_20161029T112201_0179_010_207_1980_SVL_O_NR_002.SEN3/Oa17_radiance.nc', '/home/a000680/data/Sentinel-3/S3A_OL_1_EFR____20161029T091344_20161029T091644_20161029T112201_0179_010_207_1980_SVL_O_NR_002.SEN3/Oa03_radiance.nc', '/home/a000680/data/Sentinel-3/S3A_OL_1_EFR____20161029T091344_20161029T091644_20161029T112201_0179_010_207_1980_SVL_O_NR_002.SEN3/Oa10_radiance.nc', '/home/a000680/data/Sentinel-3/S3A_OL_1_EFR____20161029T091344_20161029T091644_20161029T112201_0179_010_207_1980_SVL_O_NR_002.SEN3/Oa14_radiance.nc', '/home/a000680/data/Sentinel-3/S3A_OL_1_EFR____20161029T091344_20161029T091644_20161029T112201_0179_010_207_1980_SVL_O_NR_002.SEN3/Oa04_radiance.nc', '/home/a000680/data/Sentinel-3/S3A_OL_1_EFR____20161029T091344_20161029T091644_20161029T112201_0179_010_207_1980_SVL_O_NR_002.SEN3/Oa08_radiance.nc', '/home/a000680/data/Sentinel-3/S3A_OL_1_EFR____20161029T091344_20161029T091644_20161029T112201_0179_010_207_1980_SVL_O_NR_002.SEN3/Oa13_radiance.nc', '/home/a000680/data/Sentinel-3/S3A_OL_1_EFR____20161029T091344_20161029T091644_20161029T112201_0179_010_207_1980_SVL_O_NR_002.SEN3/Oa18_radiance.nc', '/home/a000680/data/Sentinel-3/S3A_OL_1_EFR____20161029T091344_20161029T091644_20161029T112201_0179_010_207_1980_SVL_O_NR_002.SEN3/Oa19_radiance.nc', '/home/a000680/data/Sentinel-3/S3A_OL_1_EFR____20161029T091344_20161029T091644_20161029T112201_0179_010_207_1980_SVL_O_NR_002.SEN3/Oa12_radiance.nc', '/home/a000680/data/Sentinel-3/S3A_OL_1_EFR____20161029T091344_20161029T091644_20161029T112201_0179_010_207_1980_SVL_O_NR_002.SEN3/Oa20_radiance.nc', '/home/a000680/data/Sentinel-3/S3A_OL_1_EFR____20161029T091344_20161029T091644_20161029T112201_0179_010_207_1980_SVL_O_NR_002.SEN3/Oa16_radiance.nc', '/home/a000680/data/Sentinel-3/S3A_OL_1_EFR____20161029T091344_20161029T091644_20161029T112201_0179_010_207_1980_SVL_O_NR_002.SEN3/Oa09_radiance.nc', '/home/a000680/data/Sentinel-3/S3A_OL_1_EFR____20161029T091344_20161029T091644_20161029T112201_0179_010_207_1980_SVL_O_NR_002.SEN3/Oa01_radiance.nc', '/home/a000680/data/Sentinel-3/S3A_OL_1_EFR____20161029T091344_20161029T091644_20161029T112201_0179_010_207_1980_SVL_O_NR_002.SEN3/Oa11_radiance.nc', '/home/a000680/data/Sentinel-3/S3A_OL_1_EFR____20161029T091344_20161029T091644_20161029T112201_0179_010_207_1980_SVL_O_NR_002.SEN3/Oa07_radiance.nc', '/home/a000680/data/Sentinel-3/S3A_OL_1_EFR____20161029T091344_20161029T091644_20161029T112201_0179_010_207_1980_SVL_O_NR_002.SEN3/Oa15_radiance.nc', '/home/a000680/data/Sentinel-3/S3A_OL_1_EFR____20161029T091344_20161029T091644_20161029T112201_0179_010_207_1980_SVL_O_NR_002.SEN3/Oa06_radiance.nc', '/home/a000680/data/Sentinel-3/S3A_OL_1_EFR____20161029T091344_20161029T091644_20161029T112201_0179_010_207_1980_SVL_O_NR_002.SEN3/Oa21_radiance.nc', '/home/a000680/data/Sentinel-3/S3A_OL_1_EFR____20171015T110346_20171015T110646_20171016T144640_0179_023_208_2520_LN1_O_NT_002.SEN3/Oa02_radiance.nc', '/home/a000680/data/Sentinel-3/S3A_OL_1_EFR____20171015T110346_20171015T110646_20171016T144640_0179_023_208_2520_LN1_O_NT_002.SEN3/Oa05_radiance.nc', '/home/a000680/data/Sentinel-3/S3A_OL_1_EFR____20171015T110346_20171015T110646_20171016T144640_0179_023_208_2520_LN1_O_NT_002.SEN3/Oa17_radiance.nc', '/home/a000680/data/Sentinel-3/S3A_OL_1_EFR____20171015T110346_20171015T110646_20171016T144640_0179_023_208_2520_LN1_O_NT_002.SEN3/Oa03_radiance.nc', '/home/a000680/data/Sentinel-3/S3A_OL_1_EFR____20171015T110346_20171015T110646_20171016T144640_0179_023_208_2520_LN1_O_NT_002.SEN3/Oa10_radiance.nc', '/home/a000680/data/Sentinel-3/S3A_OL_1_EFR____20171015T110346_20171015T110646_20171016T144640_0179_023_208_2520_LN1_O_NT_002.SEN3/Oa14_radiance.nc', '/home/a000680/data/Sentinel-3/S3A_OL_1_EFR____20171015T110346_20171015T110646_20171016T144640_0179_023_208_2520_LN1_O_NT_002.SEN3/Oa04_radiance.nc', '/home/a000680/data/Sentinel-3/S3A_OL_1_EFR____20171015T110346_20171015T110646_20171016T144640_0179_023_208_2520_LN1_O_NT_002.SEN3/Oa08_radiance.nc', '/home/a000680/data/Sentinel-3/S3A_OL_1_EFR____20171015T110346_20171015T110646_20171016T144640_0179_023_208_2520_LN1_O_NT_002.SEN3/Oa13_radiance.nc', '/home/a000680/data/Sentinel-3/S3A_OL_1_EFR____20171015T110346_20171015T110646_20171016T144640_0179_023_208_2520_LN1_O_NT_002.SEN3/Oa18_radiance.nc', '/home/a000680/data/Sentinel-3/S3A_OL_1_EFR____20171015T110346_20171015T110646_20171016T144640_0179_023_208_2520_LN1_O_NT_002.SEN3/Oa19_radiance.nc', '/home/a000680/data/Sentinel-3/S3A_OL_1_EFR____20171015T110346_20171015T110646_20171016T144640_0179_023_208_2520_LN1_O_NT_002.SEN3/Oa12_radiance.nc', '/home/a000680/data/Sentinel-3/S3A_OL_1_EFR____20171015T110346_20171015T110646_20171016T144640_0179_023_208_2520_LN1_O_NT_002.SEN3/Oa20_radiance.nc', '/home/a000680/data/Sentinel-3/S3A_OL_1_EFR____20171015T110346_20171015T110646_20171016T144640_0179_023_208_2520_LN1_O_NT_002.SEN3/Oa16_radiance.nc', '/home/a000680/data/Sentinel-3/S3A_OL_1_EFR____20171015T110346_20171015T110646_20171016T144640_0179_023_208_2520_LN1_O_NT_002.SEN3/Oa09_radiance.nc', '/home/a000680/data/Sentinel-3/S3A_OL_1_EFR____20171015T110346_20171015T110646_20171016T144640_0179_023_208_2520_LN1_O_NT_002.SEN3/Oa01_radiance.nc', '/home/a000680/data/Sentinel-3/S3A_OL_1_EFR____20171015T110346_20171015T110646_20171016T144640_0179_023_208_2520_LN1_O_NT_002.SEN3/Oa11_radiance.nc', '/home/a000680/data/Sentinel-3/S3A_OL_1_EFR____20171015T110346_20171015T110646_20171016T144640_0179_023_208_2520_LN1_O_NT_002.SEN3/Oa07_radiance.nc', '/home/a000680/data/Sentinel-3/S3A_OL_1_EFR____20171015T110346_20171015T110646_20171016T144640_0179_023_208_2520_LN1_O_NT_002.SEN3/Oa15_radiance.nc', '/home/a000680/data/Sentinel-3/S3A_OL_1_EFR____20171015T110346_20171015T110646_20171016T144640_0179_023_208_2520_LN1_O_NT_002.SEN3/Oa06_radiance.nc', '/home/a000680/data/Sentinel-3/S3A_OL_1_EFR____20171015T110346_20171015T110646_20171016T144640_0179_023_208_2520_LN1_O_NT_002.SEN3/Oa21_radiance.nc', '/home/a000680/data/Sentinel-3/S3A_OL_1_EFR____20171014T112957_20171014T113257_20171015T152855_0179_023_194_2520_LN1_O_NT_002.SEN3/Oa02_radiance.nc', '/home/a000680/data/Sentinel-3/S3A_OL_1_EFR____20171014T112957_20171014T113257_20171015T152855_0179_023_194_2520_LN1_O_NT_002.SEN3/Oa05_radiance.nc', '/home/a000680/data/Sentinel-3/S3A_OL_1_EFR____20171014T112957_20171014T113257_20171015T152855_0179_023_194_2520_LN1_O_NT_002.SEN3/Oa17_radiance.nc', '/home/a000680/data/Sentinel-3/S3A_OL_1_EFR____20171014T112957_20171014T113257_20171015T152855_0179_023_194_2520_LN1_O_NT_002.SEN3/Oa03_radiance.nc', '/home/a000680/data/Sentinel-3/S3A_OL_1_EFR____20171014T112957_20171014T113257_20171015T152855_0179_023_194_2520_LN1_O_NT_002.SEN3/Oa10_radiance.nc', '/home/a000680/data/Sentinel-3/S3A_OL_1_EFR____20171014T112957_20171014T113257_20171015T152855_0179_023_194_2520_LN1_O_NT_002.SEN3/Oa14_radiance.nc', '/home/a000680/data/Sentinel-3/S3A_OL_1_EFR____20171014T112957_20171014T113257_20171015T152855_0179_023_194_2520_LN1_O_NT_002.SEN3/Oa04_radiance.nc', '/home/a000680/data/Sentinel-3/S3A_OL_1_EFR____20171014T112957_20171014T113257_20171015T152855_0179_023_194_2520_LN1_O_NT_002.SEN3/Oa08_radiance.nc', '/home/a000680/data/Sentinel-3/S3A_OL_1_EFR____20171014T112957_20171014T113257_20171015T152855_0179_023_194_2520_LN1_O_NT_002.SEN3/Oa13_radiance.nc', '/home/a000680/data/Sentinel-3/S3A_OL_1_EFR____20171014T112957_20171014T113257_20171015T152855_0179_023_194_2520_LN1_O_NT_002.SEN3/Oa18_radiance.nc', '/home/a000680/data/Sentinel-3/S3A_OL_1_EFR____20171014T112957_20171014T113257_20171015T152855_0179_023_194_2520_LN1_O_NT_002.SEN3/Oa19_radiance.nc', '/home/a000680/data/Sentinel-3/S3A_OL_1_EFR____20171014T112957_20171014T113257_20171015T152855_0179_023_194_2520_LN1_O_NT_002.SEN3/Oa12_radiance.nc', '/home/a000680/data/Sentinel-3/S3A_OL_1_EFR____20171014T112957_20171014T113257_20171015T152855_0179_023_194_2520_LN1_O_NT_002.SEN3/Oa20_radiance.nc', '/home/a000680/data/Sentinel-3/S3A_OL_1_EFR____20171014T112957_20171014T113257_20171015T152855_0179_023_194_2520_LN1_O_NT_002.SEN3/Oa16_radiance.nc', '/home/a000680/data/Sentinel-3/S3A_OL_1_EFR____20171014T112957_20171014T113257_20171015T152855_0179_023_194_2520_LN1_O_NT_002.SEN3/Oa09_radiance.nc', '/home/a000680/data/Sentinel-3/S3A_OL_1_EFR____20171014T112957_20171014T113257_20171015T152855_0179_023_194_2520_LN1_O_NT_002.SEN3/Oa01_radiance.nc', '/home/a000680/data/Sentinel-3/S3A_OL_1_EFR____20171014T112957_20171014T113257_20171015T152855_0179_023_194_2520_LN1_O_NT_002.SEN3/Oa11_radiance.nc', '/home/a000680/data/Sentinel-3/S3A_OL_1_EFR____20171014T112957_20171014T113257_20171015T152855_0179_023_194_2520_LN1_O_NT_002.SEN3/Oa07_radiance.nc', '/home/a000680/data/Sentinel-3/S3A_OL_1_EFR____20171014T112957_20171014T113257_20171015T152855_0179_023_194_2520_LN1_O_NT_002.SEN3/Oa15_radiance.nc', '/home/a000680/data/Sentinel-3/S3A_OL_1_EFR____20171014T112957_20171014T113257_20171015T152855_0179_023_194_2520_LN1_O_NT_002.SEN3/Oa06_radiance.nc', '/home/a000680/data/Sentinel-3/S3A_OL_1_EFR____20171014T112957_20171014T113257_20171015T152855_0179_023_194_2520_LN1_O_NT_002.SEN3/Oa21_radiance.nc', '/home/a000680/data/Sentinel-3/S3A_OL_1_EFR____20171014T113257_20171014T113557_20171015T152918_0179_023_194_2700_LN1_O_NT_002.SEN3/Oa02_radiance.nc', '/home/a000680/data/Sentinel-3/S3A_OL_1_EFR____20171014T113257_20171014T113557_20171015T152918_0179_023_194_2700_LN1_O_NT_002.SEN3/Oa05_radiance.nc', '/home/a000680/data/Sentinel-3/S3A_OL_1_EFR____20171014T113257_20171014T113557_20171015T152918_0179_023_194_2700_LN1_O_NT_002.SEN3/Oa17_radiance.nc', '/home/a000680/data/Sentinel-3/S3A_OL_1_EFR____20171014T113257_20171014T113557_20171015T152918_0179_023_194_2700_LN1_O_NT_002.SEN3/Oa03_radiance.nc', '/home/a000680/data/Sentinel-3/S3A_OL_1_EFR____20171014T113257_20171014T113557_20171015T152918_0179_023_194_2700_LN1_O_NT_002.SEN3/Oa10_radiance.nc', '/home/a000680/data/Sentinel-3/S3A_OL_1_EFR____20171014T113257_20171014T113557_20171015T152918_0179_023_194_2700_LN1_O_NT_002.SEN3/Oa14_radiance.nc', '/home/a000680/data/Sentinel-3/S3A_OL_1_EFR____20171014T113257_20171014T113557_20171015T152918_0179_023_194_2700_LN1_O_NT_002.SEN3/Oa04_radiance.nc', '/home/a000680/data/Sentinel-3/S3A_OL_1_EFR____20171014T113257_20171014T113557_20171015T152918_0179_023_194_2700_LN1_O_NT_002.SEN3/Oa08_radiance.nc', '/home/a000680/data/Sentinel-3/S3A_OL_1_EFR____20171014T113257_20171014T113557_20171015T152918_0179_023_194_2700_LN1_O_NT_002.SEN3/Oa13_radiance.nc', '/home/a000680/data/Sentinel-3/S3A_OL_1_EFR____20171014T113257_20171014T113557_20171015T152918_0179_023_194_2700_LN1_O_NT_002.SEN3/Oa18_radiance.nc', '/home/a000680/data/Sentinel-3/S3A_OL_1_EFR____20171014T113257_20171014T113557_20171015T152918_0179_023_194_2700_LN1_O_NT_002.SEN3/Oa19_radiance.nc', '/home/a000680/data/Sentinel-3/S3A_OL_1_EFR____20171014T113257_20171014T113557_20171015T152918_0179_023_194_2700_LN1_O_NT_002.SEN3/Oa12_radiance.nc', '/home/a000680/data/Sentinel-3/S3A_OL_1_EFR____20171014T113257_20171014T113557_20171015T152918_0179_023_194_2700_LN1_O_NT_002.SEN3/Oa20_radiance.nc', '/home/a000680/data/Sentinel-3/S3A_OL_1_EFR____20171014T113257_20171014T113557_20171015T152918_0179_023_194_2700_LN1_O_NT_002.SEN3/Oa16_radiance.nc', '/home/a000680/data/Sentinel-3/S3A_OL_1_EFR____20171014T113257_20171014T113557_20171015T152918_0179_023_194_2700_LN1_O_NT_002.SEN3/Oa09_radiance.nc', '/home/a000680/data/Sentinel-3/S3A_OL_1_EFR____20171014T113257_20171014T113557_20171015T152918_0179_023_194_2700_LN1_O_NT_002.SEN3/Oa01_radiance.nc', '/home/a000680/data/Sentinel-3/S3A_OL_1_EFR____20171014T113257_20171014T113557_20171015T152918_0179_023_194_2700_LN1_O_NT_002.SEN3/Oa11_radiance.nc', '/home/a000680/data/Sentinel-3/S3A_OL_1_EFR____20171014T113257_20171014T113557_20171015T152918_0179_023_194_2700_LN1_O_NT_002.SEN3/Oa07_radiance.nc', '/home/a000680/data/Sentinel-3/S3A_OL_1_EFR____20171014T113257_20171014T113557_20171015T152918_0179_023_194_2700_LN1_O_NT_002.SEN3/Oa15_radiance.nc', '/home/a000680/data/Sentinel-3/S3A_OL_1_EFR____20171014T113257_20171014T113557_20171015T152918_0179_023_194_2700_LN1_O_NT_002.SEN3/Oa06_radiance.nc', '/home/a000680/data/Sentinel-3/S3A_OL_1_EFR____20171014T113257_20171014T113557_20171015T152918_0179_023_194_2700_LN1_O_NT_002.SEN3/Oa21_radiance.nc', '/home/a000680/data/Sentinel-3/S3A_OL_1_EFR____20171012T104419_20171012T104719_20171013T150208_0179_023_165_2700_LN1_O_NT_002.SEN3/Oa02_radiance.nc', '/home/a000680/data/Sentinel-3/S3A_OL_1_EFR____20171012T104419_20171012T104719_20171013T150208_0179_023_165_2700_LN1_O_NT_002.SEN3/Oa05_radiance.nc', '/home/a000680/data/Sentinel-3/S3A_OL_1_EFR____20171012T104419_20171012T104719_20171013T150208_0179_023_165_2700_LN1_O_NT_002.SEN3/Oa17_radiance.nc', '/home/a000680/data/Sentinel-3/S3A_OL_1_EFR____20171012T104419_20171012T104719_20171013T150208_0179_023_165_2700_LN1_O_NT_002.SEN3/Oa03_radiance.nc', '/home/a000680/data/Sentinel-3/S3A_OL_1_EFR____20171012T104419_20171012T104719_20171013T150208_0179_023_165_2700_LN1_O_NT_002.SEN3/Oa10_radiance.nc', '/home/a000680/data/Sentinel-3/S3A_OL_1_EFR____20171012T104419_20171012T104719_20171013T150208_0179_023_165_2700_LN1_O_NT_002.SEN3/Oa14_radiance.nc', '/home/a000680/data/Sentinel-3/S3A_OL_1_EFR____20171012T104419_20171012T104719_20171013T150208_0179_023_165_2700_LN1_O_NT_002.SEN3/Oa04_radiance.nc', '/home/a000680/data/Sentinel-3/S3A_OL_1_EFR____20171012T104419_20171012T104719_20171013T150208_0179_023_165_2700_LN1_O_NT_002.SEN3/Oa08_radiance.nc', '/home/a000680/data/Sentinel-3/S3A_OL_1_EFR____20171012T104419_20171012T104719_20171013T150208_0179_023_165_2700_LN1_O_NT_002.SEN3/Oa13_radiance.nc', '/home/a000680/data/Sentinel-3/S3A_OL_1_EFR____20171012T104419_20171012T104719_20171013T150208_0179_023_165_2700_LN1_O_NT_002.SEN3/Oa18_radiance.nc', '/home/a000680/data/Sentinel-3/S3A_OL_1_EFR____20171012T104419_20171012T104719_20171013T150208_0179_023_165_2700_LN1_O_NT_002.SEN3/Oa19_radiance.nc', '/home/a000680/data/Sentinel-3/S3A_OL_1_EFR____20171012T104419_20171012T104719_20171013T150208_0179_023_165_2700_LN1_O_NT_002.SEN3/Oa12_radiance.nc', '/home/a000680/data/Sentinel-3/S3A_OL_1_EFR____20171012T104419_20171012T104719_20171013T150208_0179_023_165_2700_LN1_O_NT_002.SEN3/Oa20_radiance.nc', '/home/a000680/data/Sentinel-3/S3A_OL_1_EFR____20171012T104419_20171012T104719_20171013T150208_0179_023_165_2700_LN1_O_NT_002.SEN3/Oa16_radiance.nc', '/home/a000680/data/Sentinel-3/S3A_OL_1_EFR____20171012T104419_20171012T104719_20171013T150208_0179_023_165_2700_LN1_O_NT_002.SEN3/Oa09_radiance.nc', '/home/a000680/data/Sentinel-3/S3A_OL_1_EFR____20171012T104419_20171012T104719_20171013T150208_0179_023_165_2700_LN1_O_NT_002.SEN3/Oa01_radiance.nc', '/home/a000680/data/Sentinel-3/S3A_OL_1_EFR____20171012T104419_20171012T104719_20171013T150208_0179_023_165_2700_LN1_O_NT_002.SEN3/Oa11_radiance.nc', '/home/a000680/data/Sentinel-3/S3A_OL_1_EFR____20171012T104419_20171012T104719_20171013T150208_0179_023_165_2700_LN1_O_NT_002.SEN3/Oa07_radiance.nc', '/home/a000680/data/Sentinel-3/S3A_OL_1_EFR____20171012T104419_20171012T104719_20171013T150208_0179_023_165_2700_LN1_O_NT_002.SEN3/Oa15_radiance.nc', '/home/a000680/data/Sentinel-3/S3A_OL_1_EFR____20171012T104419_20171012T104719_20171013T150208_0179_023_165_2700_LN1_O_NT_002.SEN3/Oa06_radiance.nc', '/home/a000680/data/Sentinel-3/S3A_OL_1_EFR____20171012T104419_20171012T104719_20171013T150208_0179_023_165_2700_LN1_O_NT_002.SEN3/Oa21_radiance.nc', '/home/a000680/data/Sentinel-3/S3A_OL_1_EFR____20171012T104119_20171012T104419_20171013T150146_0179_023_165_2520_LN1_O_NT_002.SEN3/Oa02_radiance.nc', '/home/a000680/data/Sentinel-3/S3A_OL_1_EFR____20171012T104119_20171012T104419_20171013T150146_0179_023_165_2520_LN1_O_NT_002.SEN3/Oa05_radiance.nc', '/home/a000680/data/Sentinel-3/S3A_OL_1_EFR____20171012T104119_20171012T104419_20171013T150146_0179_023_165_2520_LN1_O_NT_002.SEN3/Oa17_radiance.nc', '/home/a000680/data/Sentinel-3/S3A_OL_1_EFR____20171012T104119_20171012T104419_20171013T150146_0179_023_165_2520_LN1_O_NT_002.SEN3/Oa03_radiance.nc', '/home/a000680/data/Sentinel-3/S3A_OL_1_EFR____20171012T104119_20171012T104419_20171013T150146_0179_023_165_2520_LN1_O_NT_002.SEN3/Oa10_radiance.nc', '/home/a000680/data/Sentinel-3/S3A_OL_1_EFR____20171012T104119_20171012T104419_20171013T150146_0179_023_165_2520_LN1_O_NT_002.SEN3/Oa14_radiance.nc', '/home/a000680/data/Sentinel-3/S3A_OL_1_EFR____20171012T104119_20171012T104419_20171013T150146_0179_023_165_2520_LN1_O_NT_002.SEN3/Oa04_radiance.nc', '/home/a000680/data/Sentinel-3/S3A_OL_1_EFR____20171012T104119_20171012T104419_20171013T150146_0179_023_165_2520_LN1_O_NT_002.SEN3/Oa08_radiance.nc', '/home/a000680/data/Sentinel-3/S3A_OL_1_EFR____20171012T104119_20171012T104419_20171013T150146_0179_023_165_2520_LN1_O_NT_002.SEN3/Oa13_radiance.nc', '/home/a000680/data/Sentinel-3/S3A_OL_1_EFR____20171012T104119_20171012T104419_20171013T150146_0179_023_165_2520_LN1_O_NT_002.SEN3/Oa18_radiance.nc', '/home/a000680/data/Sentinel-3/S3A_OL_1_EFR____20171012T104119_20171012T104419_20171013T150146_0179_023_165_2520_LN1_O_NT_002.SEN3/Oa19_radiance.nc', '/home/a000680/data/Sentinel-3/S3A_OL_1_EFR____20171012T104119_20171012T104419_20171013T150146_0179_023_165_2520_LN1_O_NT_002.SEN3/Oa12_radiance.nc', '/home/a000680/data/Sentinel-3/S3A_OL_1_EFR____20171012T104119_20171012T104419_20171013T150146_0179_023_165_2520_LN1_O_NT_002.SEN3/Oa20_radiance.nc', '/home/a000680/data/Sentinel-3/S3A_OL_1_EFR____20171012T104119_20171012T104419_20171013T150146_0179_023_165_2520_LN1_O_NT_002.SEN3/Oa16_radiance.nc', '/home/a000680/data/Sentinel-3/S3A_OL_1_EFR____20171012T104119_20171012T104419_20171013T150146_0179_023_165_2520_LN1_O_NT_002.SEN3/Oa09_radiance.nc', '/home/a000680/data/Sentinel-3/S3A_OL_1_EFR____20171012T104119_20171012T104419_20171013T150146_0179_023_165_2520_LN1_O_NT_002.SEN3/Oa01_radiance.nc', '/home/a000680/data/Sentinel-3/S3A_OL_1_EFR____20171012T104119_20171012T104419_20171013T150146_0179_023_165_2520_LN1_O_NT_002.SEN3/Oa11_radiance.nc', '/home/a000680/data/Sentinel-3/S3A_OL_1_EFR____20171012T104119_20171012T104419_20171013T150146_0179_023_165_2520_LN1_O_NT_002.SEN3/Oa07_radiance.nc', '/home/a000680/data/Sentinel-3/S3A_OL_1_EFR____20171012T104119_20171012T104419_20171013T150146_0179_023_165_2520_LN1_O_NT_002.SEN3/Oa15_radiance.nc', '/home/a000680/data/Sentinel-3/S3A_OL_1_EFR____20171012T104119_20171012T104419_20171013T150146_0179_023_165_2520_LN1_O_NT_002.SEN3/Oa06_radiance.nc', '/home/a000680/data/Sentinel-3/S3A_OL_1_EFR____20171012T104119_20171012T104419_20171013T150146_0179_023_165_2520_LN1_O_NT_002.SEN3/Oa21_radiance.nc', '/home/a000680/data/Sentinel-3/S3A_OL_1_EFR____20161029T091344_20161029T091644_20161029T112201_0179_010_207_1980_SVL_O_NR_002.SEN3/tie_geometries.nc', '/home/a000680/data/Sentinel-3/S3A_OL_1_EFR____20171015T110346_20171015T110646_20171016T144640_0179_023_208_2520_LN1_O_NT_002.SEN3/tie_geometries.nc', '/home/a000680/data/Sentinel-3/S3A_OL_1_EFR____20171014T112957_20171014T113257_20171015T152855_0179_023_194_2520_LN1_O_NT_002.SEN3/tie_geometries.nc', '/home/a000680/data/Sentinel-3/S3A_OL_1_EFR____20171014T113257_20171014T113557_20171015T152918_0179_023_194_2700_LN1_O_NT_002.SEN3/tie_geometries.nc', '/home/a000680/data/Sentinel-3/S3A_OL_1_EFR____20171012T104419_20171012T104719_20171013T150208_0179_023_165_2700_LN1_O_NT_002.SEN3/tie_geometries.nc', '/home/a000680/data/Sentinel-3/S3A_OL_1_EFR____20171012T104119_20171012T104419_20171013T150146_0179_023_165_2520_LN1_O_NT_002.SEN3/tie_geometries.nc']\n"
     ]
    },
    {
     "name": "stderr",
     "output_type": "stream",
     "text": [
      "[DEBUG: 2017-12-19 12:00:09 : satpy.composites] Looking for composites config file olci.yaml\n",
      "[DEBUG: 2017-12-19 12:00:09 : satpy.composites] Looking for composites config file visir.yaml\n"
     ]
    }
   ],
   "source": [
    "scn = Scene(\n",
    "     sensor='olci',\n",
    "     start_time=datetime(2017, 10, 15, 11, 3),\n",
    "     end_time=datetime(2017, 10, 15, 11, 6),\n",
    "     base_dir=DATADIR,\n",
    "     reader='olci'\n",
    ")"
   ]
  },
  {
   "cell_type": "code",
   "execution_count": 3,
   "metadata": {},
   "outputs": [
    {
     "name": "stderr",
     "output_type": "stream",
     "text": [
      "[DEBUG: 2017-12-19 12:00:11 : satpy.readers.yaml_reader] No coordinates found for DatasetID(name='latitude', wavelength=None, resolution=300, polarization=None, calibration=None, modifiers=())\n",
      "[DEBUG: 2017-12-19 12:00:11 : satpy.readers.nc_olci] Reading latitude.\n",
      "[DEBUG: 2017-12-19 12:00:11 : satpy.readers.yaml_reader] No coordinates found for DatasetID(name='longitude', wavelength=None, resolution=300, polarization=None, calibration=None, modifiers=())\n",
      "[DEBUG: 2017-12-19 12:00:11 : satpy.readers.nc_olci] Reading longitude.\n",
      "[DEBUG: 2017-12-19 12:00:12 : satpy.readers.nc_olci] Reading Oa08.\n",
      "[DEBUG: 2017-12-19 12:00:13 : satpy.readers.nc_olci] Reading Oa06.\n",
      "[DEBUG: 2017-12-19 12:00:14 : satpy.readers.nc_olci] Reading Oa03.\n",
      "[DEBUG: 2017-12-19 12:00:15 : satpy.composites] Applying sun zen correction\n",
      "[DEBUG: 2017-12-19 12:00:15 : satpy.composites] Computing sun zenith angles.\n",
      "[DEBUG: 2017-12-19 12:00:17 : satpy.composites] Apply the effective solar atmospheric path length correction method by Li and Shibata\n",
      "[DEBUG: 2017-12-19 12:00:19 : satpy.composites] Sun-zenith correction applied. Computation time:   4.1 (sec)\n",
      "[DEBUG: 2017-12-19 12:00:19 : satpy.composites] Applying sun zen correction\n",
      "[DEBUG: 2017-12-19 12:00:19 : satpy.composites] Apply the effective solar atmospheric path length correction method by Li and Shibata\n",
      "[DEBUG: 2017-12-19 12:00:22 : satpy.composites] Sun-zenith correction applied. Computation time:   2.2 (sec)\n",
      "[DEBUG: 2017-12-19 12:00:22 : satpy.composites] Applying sun zen correction\n",
      "[DEBUG: 2017-12-19 12:00:22 : satpy.composites] Apply the effective solar atmospheric path length correction method by Li and Shibata\n",
      "[DEBUG: 2017-12-19 12:00:24 : satpy.composites] Sun-zenith correction applied. Computation time:   2.3 (sec)\n",
      "[DEBUG: 2017-12-19 12:00:28 : satpy.writers] Enhancement configuration options: [{'name': 'cira_stretch', 'method': <function cira_stretch at 0x7faab402ea28>}]\n",
      "[DEBUG: 2017-12-19 12:00:28 : satpy.enhancements] Applying the cira-stretch\n",
      "[DEBUG: 2017-12-19 12:00:33 : satpy.writers] Enhancement configuration options: [{'name': 'cira_stretch', 'method': <function cira_stretch at 0x7faab402ea28>}]\n",
      "[DEBUG: 2017-12-19 12:00:33 : satpy.enhancements] Applying the cira-stretch\n",
      "[DEBUG: 2017-12-19 12:00:36 : satpy.writers.simple_image] Saving to image: ./olci_20171015_westafrica_true_color_raw.png\n"
     ]
    }
   ],
   "source": [
    "scn.load(['true_color_raw'])\n",
    "scn.show('true_color_raw')"
   ]
  },
  {
   "cell_type": "markdown",
   "metadata": {},
   "source": [
    "<img src=\"https://github.com/pytroll/pytroll-examples/raw/master/pyspectral/olci_20171015_westafrica_true_color_raw_thumb.png\"/>"
   ]
  },
  {
   "cell_type": "code",
   "execution_count": 7,
   "metadata": {},
   "outputs": [
    {
     "name": "stderr",
     "output_type": "stream",
     "text": [
      "[DEBUG: 2017-12-19 13:12:06 : satpy.writers] Enhancement configuration options: [{'name': 'cira_stretch', 'method': <function cira_stretch at 0x7faab402ea28>}]\n",
      "[DEBUG: 2017-12-19 13:12:06 : satpy.enhancements] Applying the cira-stretch\n",
      "[DEBUG: 2017-12-19 13:12:10 : satpy.writers.simple_image] Saving to image: ./olci_20171015_westafrica_true_color_raw.png\n"
     ]
    }
   ],
   "source": [
    "scn.save_dataset('true_color_raw', './olci_20171015_westafrica_true_color_raw.png')"
   ]
  },
  {
   "cell_type": "code",
   "execution_count": 4,
   "metadata": {},
   "outputs": [
    {
     "name": "stderr",
     "output_type": "stream",
     "text": [
      "[DEBUG: 2017-12-19 12:00:44 : satpy.readers.yaml_reader] No coordinates found for DatasetID(name='latitude', wavelength=None, resolution=300, polarization=None, calibration=None, modifiers=())\n",
      "[DEBUG: 2017-12-19 12:00:44 : satpy.readers.nc_olci] Reading latitude.\n",
      "[DEBUG: 2017-12-19 12:00:45 : satpy.readers.yaml_reader] No coordinates found for DatasetID(name='longitude', wavelength=None, resolution=300, polarization=None, calibration=None, modifiers=())\n",
      "[DEBUG: 2017-12-19 12:00:45 : satpy.readers.nc_olci] Reading longitude.\n",
      "[DEBUG: 2017-12-19 12:00:45 : satpy.readers.nc_olci] Reading satellite_zenith_angle.\n",
      "[DEBUG: 2017-12-19 12:00:51 : satpy.readers.nc_olci] Reading satellite_azimuth_angle.\n",
      "[DEBUG: 2017-12-19 12:00:51 : satpy.readers.nc_olci] Reading solar_zenith_angle.\n",
      "[DEBUG: 2017-12-19 12:00:56 : satpy.readers.nc_olci] Reading Oa06.\n",
      "[DEBUG: 2017-12-19 12:00:57 : satpy.readers.nc_olci] Reading solar_azimuth_angle.\n",
      "[DEBUG: 2017-12-19 12:00:57 : satpy.readers.nc_olci] Reading Oa03.\n",
      "[DEBUG: 2017-12-19 12:00:58 : satpy.readers.nc_olci] Reading Oa08.\n",
      "[DEBUG: 2017-12-19 12:00:59 : satpy.composites] Applying sun zen correction\n",
      "[DEBUG: 2017-12-19 12:00:59 : satpy.composites] Apply the effective solar atmospheric path length correction method by Li and Shibata\n",
      "[DEBUG: 2017-12-19 12:01:01 : satpy.composites] Sun-zenith correction applied. Computation time:   2.2 (sec)\n",
      "[DEBUG: 2017-12-19 12:01:01 : satpy.composites] Applying sun zen correction\n",
      "[DEBUG: 2017-12-19 12:01:01 : satpy.composites] Apply the standard sun-zenith correction [1/cos(sunz)]\n",
      "[DEBUG: 2017-12-19 12:01:03 : satpy.composites] Sun-zenith correction applied. Computation time:   1.8 (sec)\n",
      "[INFO: 2017-12-19 12:01:03 : satpy.composites] Removing Rayleigh scattering and aerosol absorption\n",
      "[INFO: 2017-12-19 12:01:04 : pyspectral.rayleigh] Atmosphere chosen: tropical\n",
      "[DEBUG: 2017-12-19 12:01:04 : pyspectral.rayleigh] LUT filename: /home/a000680/data/pyspectral/marine_tropical_aerosol/rayleigh_lut_tropical.h5\n",
      "[DEBUG: 2017-12-19 12:01:04 : pyspectral.rsr_reader] Filename: /home/a000680/data/pyspectral/rsr_olci_Sentinel-3A.h5\n",
      "[DEBUG: 2017-12-19 12:01:04 : pyspectral.rsr_reader] Filename: /home/a000680/data/pyspectral/rsr_olci_Sentinel-3A.h5\n",
      "[DEBUG: 2017-12-19 12:01:04 : pyspectral.rsr_reader] No detectors found - assume only one...\n",
      "[DEBUG: 2017-12-19 12:01:06 : pyspectral.rayleigh] Time - Interpolation: 0.850912\n",
      "[DEBUG: 2017-12-19 12:01:07 : satpy.composites] Applying sun zen correction\n",
      "[DEBUG: 2017-12-19 12:01:07 : satpy.composites] Apply the effective solar atmospheric path length correction method by Li and Shibata\n",
      "[DEBUG: 2017-12-19 12:01:09 : satpy.composites] Sun-zenith correction applied. Computation time:   2.2 (sec)\n",
      "[INFO: 2017-12-19 12:01:09 : satpy.composites] Removing Rayleigh scattering and aerosol absorption\n",
      "[INFO: 2017-12-19 12:01:11 : pyspectral.rayleigh] Atmosphere chosen: tropical\n",
      "[DEBUG: 2017-12-19 12:01:11 : pyspectral.rayleigh] LUT filename: /home/a000680/data/pyspectral/marine_tropical_aerosol/rayleigh_lut_tropical.h5\n",
      "[DEBUG: 2017-12-19 12:01:11 : pyspectral.rsr_reader] Filename: /home/a000680/data/pyspectral/rsr_olci_Sentinel-3A.h5\n",
      "[DEBUG: 2017-12-19 12:01:11 : pyspectral.rsr_reader] Filename: /home/a000680/data/pyspectral/rsr_olci_Sentinel-3A.h5\n",
      "[DEBUG: 2017-12-19 12:01:11 : pyspectral.rsr_reader] No detectors found - assume only one...\n",
      "[DEBUG: 2017-12-19 12:01:13 : pyspectral.rayleigh] Time - Interpolation: 0.917546\n",
      "[DEBUG: 2017-12-19 12:01:13 : satpy.composites] Applying sun zen correction\n",
      "[DEBUG: 2017-12-19 12:01:13 : satpy.composites] Apply the effective solar atmospheric path length correction method by Li and Shibata\n",
      "[DEBUG: 2017-12-19 12:01:16 : satpy.composites] Sun-zenith correction applied. Computation time:   2.3 (sec)\n",
      "[INFO: 2017-12-19 12:01:16 : satpy.composites] Removing Rayleigh scattering and aerosol absorption\n",
      "[INFO: 2017-12-19 12:01:17 : pyspectral.rayleigh] Atmosphere chosen: tropical\n",
      "[DEBUG: 2017-12-19 12:01:17 : pyspectral.rayleigh] LUT filename: /home/a000680/data/pyspectral/marine_tropical_aerosol/rayleigh_lut_tropical.h5\n",
      "[DEBUG: 2017-12-19 12:01:17 : pyspectral.rsr_reader] Filename: /home/a000680/data/pyspectral/rsr_olci_Sentinel-3A.h5\n",
      "[DEBUG: 2017-12-19 12:01:17 : pyspectral.rsr_reader] Filename: /home/a000680/data/pyspectral/rsr_olci_Sentinel-3A.h5\n",
      "[DEBUG: 2017-12-19 12:01:17 : pyspectral.rsr_reader] No detectors found - assume only one...\n",
      "[DEBUG: 2017-12-19 12:01:19 : pyspectral.rayleigh] Time - Interpolation: 0.914040\n"
     ]
    }
   ],
   "source": [
    "composite_mt = 'true_color_marine_tropical'\n",
    "scn.load([composite_mt])"
   ]
  },
  {
   "cell_type": "code",
   "execution_count": 5,
   "metadata": {},
   "outputs": [
    {
     "name": "stderr",
     "output_type": "stream",
     "text": [
      "[DEBUG: 2017-12-19 12:01:25 : satpy.readers.yaml_reader] No coordinates found for DatasetID(name='latitude', wavelength=None, resolution=300, polarization=None, calibration=None, modifiers=())\n",
      "[DEBUG: 2017-12-19 12:01:25 : satpy.readers.nc_olci] Reading latitude.\n",
      "[DEBUG: 2017-12-19 12:01:26 : satpy.readers.yaml_reader] No coordinates found for DatasetID(name='longitude', wavelength=None, resolution=300, polarization=None, calibration=None, modifiers=())\n",
      "[DEBUG: 2017-12-19 12:01:26 : satpy.readers.nc_olci] Reading longitude.\n",
      "[DEBUG: 2017-12-19 12:01:26 : satpy.readers.nc_olci] Reading satellite_zenith_angle.\n",
      "[DEBUG: 2017-12-19 12:01:26 : satpy.readers.nc_olci] Reading satellite_azimuth_angle.\n",
      "[DEBUG: 2017-12-19 12:01:26 : satpy.readers.nc_olci] Reading solar_zenith_angle.\n",
      "[DEBUG: 2017-12-19 12:01:27 : satpy.readers.nc_olci] Reading Oa06.\n",
      "[DEBUG: 2017-12-19 12:01:28 : satpy.readers.nc_olci] Reading solar_azimuth_angle.\n",
      "[DEBUG: 2017-12-19 12:01:28 : satpy.readers.nc_olci] Reading Oa03.\n",
      "[DEBUG: 2017-12-19 12:01:29 : satpy.readers.nc_olci] Reading Oa08.\n",
      "[DEBUG: 2017-12-19 12:01:30 : satpy.composites] Applying sun zen correction\n",
      "[DEBUG: 2017-12-19 12:01:30 : satpy.composites] Apply the effective solar atmospheric path length correction method by Li and Shibata\n",
      "[DEBUG: 2017-12-19 12:01:32 : satpy.composites] Sun-zenith correction applied. Computation time:   2.2 (sec)\n",
      "[DEBUG: 2017-12-19 12:01:32 : satpy.composites] Applying sun zen correction\n",
      "[DEBUG: 2017-12-19 12:01:32 : satpy.composites] Apply the effective solar atmospheric path length correction method by Li and Shibata\n",
      "[DEBUG: 2017-12-19 12:01:34 : satpy.composites] Sun-zenith correction applied. Computation time:   2.2 (sec)\n",
      "[DEBUG: 2017-12-19 12:01:34 : satpy.composites] Applying sun zen correction\n",
      "[DEBUG: 2017-12-19 12:01:34 : satpy.composites] Apply the standard sun-zenith correction [1/cos(sunz)]\n",
      "[DEBUG: 2017-12-19 12:01:36 : satpy.composites] Sun-zenith correction applied. Computation time:   1.6 (sec)\n",
      "[INFO: 2017-12-19 12:01:36 : satpy.composites] Removing Rayleigh scattering and aerosol absorption\n",
      "[INFO: 2017-12-19 12:01:37 : pyspectral.rayleigh] Atmosphere chosen: tropical\n",
      "[WARNING: 2017-12-19 12:01:37 : pyspectral.rayleigh] No lut file /home/a000680/data/pyspectral/desert_aerosol/rayleigh_lut_tropical.h5 on disk\n",
      "[INFO: 2017-12-19 12:01:37 : pyspectral.rayleigh] Will download from internet...\n",
      "[DEBUG: 2017-12-19 12:01:37 : urllib3.connectionpool] Starting new HTTPS connection (1): zenodo.org\n",
      "[DEBUG: 2017-12-19 12:01:38 : urllib3.connectionpool] https://zenodo.org:443 \"GET /record/1000414/files/pyspectral_rayleigh_correction_luts.tgz HTTP/1.1\" 200 54407240\n",
      "54407240it [00:31, 1739457.65it/s]\n",
      "[DEBUG: 2017-12-19 12:02:10 : pyspectral.rayleigh] LUT filename: /home/a000680/data/pyspectral/desert_aerosol/rayleigh_lut_tropical.h5\n",
      "[DEBUG: 2017-12-19 12:02:10 : pyspectral.rsr_reader] Filename: /home/a000680/data/pyspectral/rsr_olci_Sentinel-3A.h5\n",
      "[DEBUG: 2017-12-19 12:02:10 : pyspectral.rsr_reader] Filename: /home/a000680/data/pyspectral/rsr_olci_Sentinel-3A.h5\n",
      "[DEBUG: 2017-12-19 12:02:10 : pyspectral.rsr_reader] No detectors found - assume only one...\n",
      "[DEBUG: 2017-12-19 12:02:12 : pyspectral.rayleigh] Time - Interpolation: 0.865968\n",
      "[INFO: 2017-12-19 12:02:13 : satpy.composites] Removing Rayleigh scattering and aerosol absorption\n",
      "[INFO: 2017-12-19 12:02:15 : pyspectral.rayleigh] Atmosphere chosen: tropical\n",
      "[DEBUG: 2017-12-19 12:02:15 : pyspectral.rayleigh] LUT filename: /home/a000680/data/pyspectral/desert_aerosol/rayleigh_lut_tropical.h5\n",
      "[DEBUG: 2017-12-19 12:02:15 : pyspectral.rsr_reader] Filename: /home/a000680/data/pyspectral/rsr_olci_Sentinel-3A.h5\n",
      "[DEBUG: 2017-12-19 12:02:15 : pyspectral.rsr_reader] Filename: /home/a000680/data/pyspectral/rsr_olci_Sentinel-3A.h5\n",
      "[DEBUG: 2017-12-19 12:02:15 : pyspectral.rsr_reader] No detectors found - assume only one...\n",
      "[DEBUG: 2017-12-19 12:02:17 : pyspectral.rayleigh] Time - Interpolation: 0.868527\n",
      "[DEBUG: 2017-12-19 12:02:17 : satpy.composites] Applying sun zen correction\n",
      "[DEBUG: 2017-12-19 12:02:18 : satpy.composites] Apply the effective solar atmospheric path length correction method by Li and Shibata\n",
      "[DEBUG: 2017-12-19 12:02:20 : satpy.composites] Sun-zenith correction applied. Computation time:   2.5 (sec)\n",
      "[INFO: 2017-12-19 12:02:20 : satpy.composites] Removing Rayleigh scattering and aerosol absorption\n",
      "[INFO: 2017-12-19 12:02:21 : pyspectral.rayleigh] Atmosphere chosen: tropical\n",
      "[DEBUG: 2017-12-19 12:02:21 : pyspectral.rayleigh] LUT filename: /home/a000680/data/pyspectral/desert_aerosol/rayleigh_lut_tropical.h5\n",
      "[DEBUG: 2017-12-19 12:02:21 : pyspectral.rsr_reader] Filename: /home/a000680/data/pyspectral/rsr_olci_Sentinel-3A.h5\n",
      "[DEBUG: 2017-12-19 12:02:21 : pyspectral.rsr_reader] Filename: /home/a000680/data/pyspectral/rsr_olci_Sentinel-3A.h5\n",
      "[DEBUG: 2017-12-19 12:02:21 : pyspectral.rsr_reader] No detectors found - assume only one...\n",
      "[DEBUG: 2017-12-19 12:02:23 : pyspectral.rayleigh] Time - Interpolation: 0.902708\n"
     ]
    }
   ],
   "source": [
    "composite_d = 'true_color_desert'\n",
    "scn.load([composite_d])"
   ]
  },
  {
   "cell_type": "code",
   "execution_count": 11,
   "metadata": {},
   "outputs": [],
   "source": [
    "import sys\n",
    "sys.path.insert(0, '/home/a000680/dev')\n",
    "from landsea_mask_from_usgs import get_landuse_from_tiles, get_lonlat_indices"
   ]
  },
  {
   "cell_type": "code",
   "execution_count": 14,
   "metadata": {},
   "outputs": [],
   "source": [
    "luse = get_landuse_from_tiles()\n",
    "lons, lats = scn[composite_d].info['area'].lons.data, scn[composite_d].info['area'].lats.data\n",
    "lonlat_idx = get_lonlat_indices(lons, lats, luse.shape)"
   ]
  },
  {
   "cell_type": "code",
   "execution_count": 17,
   "metadata": {},
   "outputs": [],
   "source": [
    "data_shape = lons.shape\n",
    "landuse = luse.ravel()[lonlat_idx.ravel()].compute()\n",
    "landuse = landuse.reshape(data_shape)\n",
    "import numpy as np\n",
    "landseamask = np.where(np.equal(landuse, 16), 0, 255).astype('uint8')"
   ]
  },
  {
   "cell_type": "code",
   "execution_count": 20,
   "metadata": {},
   "outputs": [],
   "source": [
    "x = scn[composite_d].copy()"
   ]
  },
  {
   "cell_type": "code",
   "execution_count": 24,
   "metadata": {},
   "outputs": [],
   "source": [
    "x.info['name'] = \"true_color_desert_and_sea\""
   ]
  },
  {
   "cell_type": "code",
   "execution_count": 25,
   "metadata": {},
   "outputs": [],
   "source": [
    "x[:,~landseamask.astype(np.bool)]=scn[composite_mt][:,~landseamask.astype(np.bool)]"
   ]
  },
  {
   "cell_type": "code",
   "execution_count": 27,
   "metadata": {},
   "outputs": [],
   "source": [
    "scn['true_color_desert_and_sea'] = x"
   ]
  },
  {
   "cell_type": "code",
   "execution_count": 28,
   "metadata": {},
   "outputs": [
    {
     "name": "stderr",
     "output_type": "stream",
     "text": [
      "[DEBUG: 2017-12-14 15:53:19 : satpy.writers] Enhancement configuration options: [{'name': 'cira_stretch', 'method': <function cira_stretch at 0x5addaa0>}]\n",
      "[DEBUG: 2017-12-14 15:53:19 : satpy.enhancements] Applying the cira-stretch\n"
     ]
    }
   ],
   "source": [
    "scn.show('true_color_desert_and_sea')"
   ]
  },
  {
   "cell_type": "markdown",
   "metadata": {},
   "source": [
    "<img src=\"https://github.com/pytroll/pytroll-examples/raw/master/pyspectral/olci_20171015_true_color_desert_and_sea_thumb.png\"/>"
   ]
  },
  {
   "cell_type": "code",
   "execution_count": 29,
   "metadata": {},
   "outputs": [
    {
     "name": "stderr",
     "output_type": "stream",
     "text": [
      "[DEBUG: 2017-12-14 16:01:16 : satpy.writers] Enhancement configuration options: [{'name': 'cira_stretch', 'method': <function cira_stretch at 0x5addaa0>}]\n",
      "[DEBUG: 2017-12-14 16:01:16 : satpy.enhancements] Applying the cira-stretch\n",
      "[DEBUG: 2017-12-14 16:01:23 : satpy.writers.simple_image] Saving to image: ./olci_20171015_true_color_desert_and_sea.png\n"
     ]
    }
   ],
   "source": [
    "scn.save_dataset('true_color_desert_and_sea', './olci_20171015_westafrica_true_color_desert_and_sea.png')"
   ]
  }
 ],
 "metadata": {
  "kernelspec": {
   "display_name": "Python 2",
   "language": "python",
   "name": "python2"
  },
  "language_info": {
   "codemirror_mode": {
    "name": "ipython",
    "version": 2
   },
   "file_extension": ".py",
   "mimetype": "text/x-python",
   "name": "python",
   "nbconvert_exporter": "python",
   "pygments_lexer": "ipython2",
   "version": "2.7.5"
  }
 },
 "nbformat": 4,
 "nbformat_minor": 2
}
