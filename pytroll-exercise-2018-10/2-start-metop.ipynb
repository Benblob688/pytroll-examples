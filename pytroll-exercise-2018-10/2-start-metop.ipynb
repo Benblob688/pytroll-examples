{
 "cells": [
  {
   "cell_type": "markdown",
   "metadata": {},
   "source": [
    "# Playing with Metop  AVHRR data"
   ]
  },
  {
   "cell_type": "markdown",
   "metadata": {},
   "source": [
    "Todo:\n",
    "- more text\n",
    "- plot coastlines\n",
    "- add areas.yaml to satpy"
   ]
  },
  {
   "cell_type": "code",
   "execution_count": null,
   "metadata": {},
   "outputs": [],
   "source": [
    "from satpy import Scene, find_files_and_readers\n",
    "from datetime import datetime\n",
    "\n",
    "files = find_files_and_readers(base_dir='./sample_data',\n",
    "                               reader='avhrr_eps_l1b',\n",
    "                               start_time=datetime(2018, 10, 3 ,10, 0),\n",
    "                               end_time=datetime(2018, 10, 3 ,10, 20))\n",
    "scn = Scene(filenames=files)\n",
    "import pprint\n",
    "pprint.pprint(files)"
   ]
  },
  {
   "cell_type": "code",
   "execution_count": null,
   "metadata": {},
   "outputs": [],
   "source": [
    "composite = 'overview_sun'\n",
    "scn.load([composite])\n",
    "scn.show(composite)"
   ]
  },
  {
   "cell_type": "code",
   "execution_count": null,
   "metadata": {},
   "outputs": [],
   "source": [
    "newscn = scn.resample('europe')"
   ]
  },
  {
   "cell_type": "code",
   "execution_count": null,
   "metadata": {},
   "outputs": [],
   "source": [
    "newscn.show(composite)"
   ]
  },
  {
   "cell_type": "code",
   "execution_count": null,
   "metadata": {},
   "outputs": [],
   "source": [
    "newscn = scn.resample('omerc_bb')\n",
    "newscn.show(composite)\n"
   ]
  },
  {
   "cell_type": "code",
   "execution_count": null,
   "metadata": {},
   "outputs": [],
   "source": []
  }
 ],
 "metadata": {
  "kernelspec": {
   "display_name": "Python 3",
   "language": "python",
   "name": "python3"
  },
  "language_info": {
   "codemirror_mode": {
    "name": "ipython",
    "version": 3
   },
   "file_extension": ".py",
   "mimetype": "text/x-python",
   "name": "python",
   "nbconvert_exporter": "python",
   "pygments_lexer": "ipython3",
   "version": "3.6.3"
  }
 },
 "nbformat": 4,
 "nbformat_minor": 2
}
