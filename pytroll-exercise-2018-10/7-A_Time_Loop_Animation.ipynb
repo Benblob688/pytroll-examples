{
 "cells": [
  {
   "cell_type": "markdown",
   "metadata": {},
   "source": [
    "## MPEF MSG Animation"
   ]
  },
  {
   "cell_type": "markdown",
   "metadata": {},
   "source": [
    "## Summary\n",
    "In this tutorila we will load 6 hours worth of MSG Level1.5 data and create an animation, saved in mp4 format"
   ]
  },
  {
   "cell_type": "code",
   "execution_count": null,
   "metadata": {},
   "outputs": [],
   "source": [
    "import os\n",
    "import sys\n",
    "import satpy\n",
    "from satpy import Scene\n",
    "from satpy.multiscene import MultiScene\n",
    "import imageio\n",
    "\n",
    "import glob"
   ]
  },
  {
   "cell_type": "code",
   "execution_count": null,
   "metadata": {
    "scrolled": true
   },
   "outputs": [],
   "source": [
    "# locate and store then Image files in a list\n",
    "files = (glob.glob('/tcenas/scratch/pytroll/ex7/*'))\n",
    "files=sorted(files)\n",
    "\n",
    "# Create a scene for each file and store n scenes\n",
    "scenes = [Scene(sensor=\"seviri\",reader='native_msg', filenames=[filenames]) for filenames in files]\n",
    "\n"
   ]
  },
  {
   "cell_type": "code",
   "execution_count": null,
   "metadata": {},
   "outputs": [],
   "source": [
    "mscn = MultiScene(scenes)\n",
    "# load a channel\n",
    "mscn.load(['VIS006'])\n",
    "mscn.save_animation('full_msg4_test.mp4', fps=2)\n",
    "# View the animation in your browser\n",
    "\n"
   ]
  },
  {
   "cell_type": "markdown",
   "metadata": {},
   "source": [
    "## Exercise 1  Create a composite and resample the multiscene over europe"
   ]
  },
  {
   "cell_type": "code",
   "execution_count": null,
   "metadata": {},
   "outputs": [],
   "source": [
    "print(scenes[0].available_composite_names())\n",
    "composite = 'cloudtop'\n",
    "mscn.load([composite])\n",
    "new_mscn=mscn.resample('euro1')\n",
    "new_mscn.save_animation('composite_msg4_test.mp4', fps=2)"
   ]
  },
  {
   "cell_type": "code",
   "execution_count": null,
   "metadata": {},
   "outputs": [],
   "source": []
  }
 ],
 "metadata": {
  "kernelspec": {
   "display_name": "Python 3",
   "language": "python",
   "name": "python3"
  },
  "language_info": {
   "codemirror_mode": {
    "name": "ipython",
    "version": 3
   },
   "file_extension": ".py",
   "mimetype": "text/x-python",
   "name": "python",
   "nbconvert_exporter": "python",
   "pygments_lexer": "ipython3",
   "version": "3.6.6"
  }
 },
 "nbformat": 4,
 "nbformat_minor": 2
}
