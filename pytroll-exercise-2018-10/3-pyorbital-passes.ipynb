{
 "cells": [
  {
   "cell_type": "markdown",
   "metadata": {},
   "source": [
    "# Predicting polar orbiter passes\n",
    "\n",
    "In this tutorial, we look at how to predict passes of polar satellites using pyorbital"
   ]
  },
  {
   "cell_type": "markdown",
   "metadata": {},
   "source": [
    "## Exercise 3.1\n",
    "Look at the pyorbital documentation, compute the current position of NOAA-20, and predict the passes for NOAA-20 for the next 24 hours over EUMETSAT HQ.\n",
    "https://pyorbital.readthedocs.io/en/latest/\n"
   ]
  },
  {
   "cell_type": "markdown",
   "metadata": {},
   "source": [
    "## Exercise 3.2 (Advanced)\n",
    "Plot the first of the computed passes on a map. This can be achieved by using the pytroll-schedule package, that you will need to install, using the `feature-oo` branch. You also need to have basemap installed.\n",
    "Use the `trollsched.satpass.Pass` class. Documentation on this one is scarce, so look in the source code to see how it works.\n",
    "\n",
    "And if you feel very advanced, please convert this plotting facility to cartopy (as basemap is deprecated)."
   ]
  },
  {
   "cell_type": "markdown",
   "metadata": {},
   "source": [
    "## Exercise 3.3\n",
    "Compute the sun zenith angle at the previously computed sub-satellite coordinates."
   ]
  },
  {
   "cell_type": "code",
   "execution_count": null,
   "metadata": {},
   "outputs": [],
   "source": []
  }
 ],
 "metadata": {
  "kernelspec": {
   "display_name": "Python 3",
   "language": "python",
   "name": "python3"
  },
  "language_info": {
   "codemirror_mode": {
    "name": "ipython",
    "version": 3
   },
   "file_extension": ".py",
   "mimetype": "text/x-python",
   "name": "python",
   "nbconvert_exporter": "python",
   "pygments_lexer": "ipython3",
   "version": "3.6.6"
  }
 },
 "nbformat": 4,
 "nbformat_minor": 2
}
