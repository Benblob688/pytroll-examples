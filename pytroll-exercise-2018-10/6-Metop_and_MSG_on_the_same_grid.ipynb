{
 "cells": [
  {
   "cell_type": "markdown",
   "metadata": {},
   "source": [
    "# Visualizing Metop and MSG data on the same grid\n",
    "## Summary\n",
    "In this tutorial, we well look at how we can put both Metop and MSG data on the same grid\n",
    "\n",
    "## First step, loading the data\n",
    "Loading the data is done in the same way as presented in earlier tutorial\n",
    "\n",
    "## Exercise 6.1: Getting the data on the same grid\n",
    "Create a `Scene` object for the Metop data and another one for the MSG data. Load the `day_microphysics` RGB composite from MSG and the 10.8µm channel from Metop. Resample both to the EastEurope area."
   ]
  },
  {
   "cell_type": "code",
   "execution_count": null,
   "metadata": {},
   "outputs": [],
   "source": [
    "from satpy import Scene, find_files_and_readers\n",
    "from datetime import datetime\n",
    "\n",
    "metop_files = find_files_and_readers(base_dir='./sample_data',\n",
    "                                     reader='avhrr_eps_l1b',\n",
    "                                     start_time=datetime(2018, 10, 3 ,10, 0),\n",
    "                                     end_time=datetime(2018, 10, 3 ,10, 20))\n",
    "scn_metop = Scene(filenames=metop_files)\n",
    "scn_metop.load([10.8])"
   ]
  },
  {
   "cell_type": "code",
   "execution_count": null,
   "metadata": {
    "scrolled": true
   },
   "outputs": [],
   "source": [
    "msg_files = find_files_and_readers(base_dir='./sample_data',\n",
    "                                   reader='native_msg')\n",
    "scn = Scene(filenames=msg_files)\n",
    "scn_msg = Scene(filenames=msg_files)\n",
    "scn_msg.load(['day_microphysics'])"
   ]
  },
  {
   "cell_type": "code",
   "execution_count": null,
   "metadata": {},
   "outputs": [],
   "source": [
    "newscn_metop = scn_metop.resample('EastEurope')\n",
    "newscn_metop.show(10.8)"
   ]
  },
  {
   "cell_type": "code",
   "execution_count": null,
   "metadata": {},
   "outputs": [],
   "source": [
    "newscn_msg = scn_msg.resample('EastEurope')\n",
    "newscn_msg.show('day_microphysics')"
   ]
  },
  {
   "cell_type": "code",
   "execution_count": null,
   "metadata": {},
   "outputs": [],
   "source": []
  },
  {
   "cell_type": "markdown",
   "metadata": {},
   "source": [
    "## Exercise 6.2:  Manipulating images\n",
    "Now we want to put both datasets onto one image."
   ]
  },
  {
   "cell_type": "code",
   "execution_count": null,
   "metadata": {},
   "outputs": [],
   "source": [
    "from satpy.writers import get_enhanced_image\n",
    "import xarray as xr\n",
    "from trollimage.xrimage import XRImage\n",
    "\n",
    "msg_image = get_enhanced_image(newscn_msg['day_microphysics'])\n",
    "\n",
    "metop_image = get_enhanced_image(newscn_metop[10.8])\n",
    "\n",
    "color_array = xr.concat((metop_image.data, metop_image.data, metop_image.data), 'bands')\n",
    "color_array['bands'] = ['R', 'G', 'B']\n",
    "final_array = msg_image.data.where(color_array.isnull(), color_array.data)\n",
    "\n",
    "\n",
    "XRImage(final_array)\n"
   ]
  },
  {
   "cell_type": "markdown",
   "metadata": {},
   "source": [
    "## The `Multiscene` class\n",
    "In order to manipulate multiple scenes at once, in some circumstances, it maybe advantageous to make use of satpy's `Multiscene` class. Let's create a multiscene instance, load some data and resample the data to the `EastEurope` area"
   ]
  },
  {
   "cell_type": "code",
   "execution_count": null,
   "metadata": {},
   "outputs": [],
   "source": [
    "from satpy import MultiScene\n",
    "mscn = MultiScene([scn_msg, scn_metop])\n",
    "mscn.load(['overview_sun'])\n",
    "new_mscn = mscn.resample('EastEurope')\n",
    "blended_scene = new_mscn.blend()\n",
    "blended_scene.show('overview_sun', overlay={'coast_dir': '/home/a001673/data/shapes/', 'color': (255, 0, 0), 'resolution': 'i'})"
   ]
  },
  {
   "cell_type": "code",
   "execution_count": null,
   "metadata": {},
   "outputs": [],
   "source": []
  }
 ],
 "metadata": {
  "kernelspec": {
   "display_name": "Python 3",
   "language": "python",
   "name": "python3"
  },
  "language_info": {
   "codemirror_mode": {
    "name": "ipython",
    "version": 3
   },
   "file_extension": ".py",
   "mimetype": "text/x-python",
   "name": "python",
   "nbconvert_exporter": "python",
   "pygments_lexer": "ipython3",
   "version": "3.6.6"
  }
 },
 "nbformat": 4,
 "nbformat_minor": 2
}
