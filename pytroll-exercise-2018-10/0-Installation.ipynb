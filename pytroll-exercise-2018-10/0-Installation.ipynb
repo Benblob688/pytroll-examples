{
 "cells": [
  {
   "cell_type": "markdown",
   "metadata": {},
   "source": [
    "# Laptop configuration for the training\n",
    "\n",
    "The training will be conducted using X2Go-servers available in the TCE. Instructions on how to install X2Go on your laptop can be found in DM Tool document `EUM/RSP/VWG/18/1018393`.\n",
    "\n",
    "1. You should have X2Go already installed on your laptop, so go ahead and start it up using your TCE credentials\n",
    "2. Open a new console from the Start menu -> System Tools -> Konsole (font size can be made bigger with Ctrl +)\n",
    "\n",
    "\n",
    "## Installation of `miniconda3`\n",
    "\n",
    "Type the following commands to the terminal\n",
    "\n",
    "1. `wget https://repo.continuum.io/miniconda/Miniconda3-latest-Linux-x86_64.sh -O ~/miniconda.sh`\n",
    "2. `bash ~/miniconda.sh -b -p $HOME/miniconda3`\n",
    "3. `echo 'export PATH=\"$PATH:$HOME/miniconda3/bin\"' >> ~/.profile.local`\n",
    "4. `source ~/.profile.local`\n",
    "\n",
    "## Create a new `conda` environment for the training\n",
    "\n",
    "The name of the environment can be chosen freely, for the sake of simplicity we will use name `troll`for this training.\n",
    "\n",
    "1. `conda create -n troll python=3.6`\n",
    "2. `source activate troll`\n",
    "\n",
    "You should have an indication in your terminal prompt that the conda environment is active, e.g.:\n",
    "`(troll) joro@x2g13:~ $`. When the `conda` environment is active, all the installations after this point will go only to this specific environment. The environment can be deactivated with `source deactivate`-command.\n",
    "\n",
    "\n",
    "## Installation of 3rd party libraries\n",
    "\n",
    "1. `conda install -c conda-forge gdal`\n",
    "\n",
    "\n",
    "## Installation of  necessary Python modules\n",
    "\n",
    "1. `conda install -c anaconda jupyter`\n",
    "2. `conda install -c menpo imageio`\n",
    "3. `conda install -c menpo ffmpeg`\n",
    "\n",
    "## Installation of PyTroll packages\n",
    "\n",
    "PyTroll packages are constantly being developed. In order to carry out some the exercises, we need to use the latest versions of `satpy` and `geotiepoints`. Hence, the installation of these packages will be done directly from GitHub.\n",
    "\n",
    "1. `conda install -c conda-forge pyorbital`\n",
    "2. `conda install -c conda-forge pycoast`\n",
    "3. `conda install -c conda-forge satpy`\n",
    "4. `conda uninstall satpy python-geotiepoints`\n",
    "5. `pip install git+https://github.com/pytroll/python-geotiepoints.git`\n",
    "6. `pip install git+https://github.com/pytroll/satpy.git`\n",
    "7. `pip install git+https://github.com/pytroll/pyspectral.git`\n"
   ]
  },
  {
   "cell_type": "code",
   "execution_count": null,
   "metadata": {},
   "outputs": [],
   "source": [
    "import satpy\n",
    "print (satpy.__file__)"
   ]
  }
 ],
 "metadata": {
  "kernelspec": {
   "display_name": "Python 3",
   "language": "python",
   "name": "python3"
  },
  "language_info": {
   "codemirror_mode": {
    "name": "ipython",
    "version": 3
   },
   "file_extension": ".py",
   "mimetype": "text/x-python",
   "name": "python",
   "nbconvert_exporter": "python",
   "pygments_lexer": "ipython3",
   "version": "3.6.6"
  }
 },
 "nbformat": 4,
 "nbformat_minor": 2
}
